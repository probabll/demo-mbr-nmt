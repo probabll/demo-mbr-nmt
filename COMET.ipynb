{
 "cells": [
  {
   "cell_type": "markdown",
   "id": "4ac7e2d0",
   "metadata": {},
   "source": [
    "This is a demo of sampling-based minimum Bayes risk decoding for NMT [(Eikema and Aziz, 2020)](https://www.aclweb.org/anthology/2020.coling-main.398/) for educational purposes. For a scalable implementation check [mbr_nmt](https://github.com/Roxot/mbr-nmt) and [(Eikema and Aziz, 2021)](https://arxiv.org/abs/2108.04718)."
   ]
  },
  {
   "cell_type": "code",
   "execution_count": 1,
   "id": "e5496cce",
   "metadata": {},
   "outputs": [],
   "source": [
    "from demo import SampleFromNMT, SampleFromBuffer, Utility, MBR, load_de_en"
   ]
  },
  {
   "cell_type": "markdown",
   "id": "e35bfdd8",
   "metadata": {},
   "source": [
    "Let's start with a quick recap of concepts."
   ]
  },
  {
   "cell_type": "markdown",
   "id": "e6e83530",
   "metadata": {},
   "source": [
    "# Neural machine translation\n",
    "\n",
    "Given an input $x$, a trained NMT model predicts a conditional distribution $Y|X=x, \\theta$ over all possible translations of $x$. \n",
    "\n",
    "The sample space $\\mathcal Y$ of the model is the set of all sequences of the form $(y_1, \\ldots, y_N)$ where $y_n$ belongs to a vocabulary of known target-language symbols, $N \\ge 1$ is the sequence length, and $y_N$ is a special end-of-sequence (EOS) symbol.\n",
    "\n",
    "An outcome $y \\in \\mathcal Y$ is assigned probability mass:\n",
    "\n",
    "\\begin{align}\n",
    "P_{Y|X}(y|x,\\theta) &= \\prod_{n=1}^{N} \\mathrm{Cat}(y_n|f(x, y_{<n}; \\theta))\n",
    "\\end{align}\n",
    "\n",
    "where $y_{<n}$ is the sequence of tokens before the $n$th token, and $f(\\cdot; \\theta)$ is a neural network architecture with parameters $\\theta$.\n"
   ]
  },
  {
   "cell_type": "markdown",
   "id": "cf22a6d8",
   "metadata": {},
   "source": [
    "# Maximum-a-posterior decoding \n",
    "\n",
    "MAP decoding picks the most probable translation.\n",
    "\\begin{align}\n",
    "y^{\\mathrm{mode}} &= \\arg\\max_{h \\in \\mathcal Y} ~ P_{Y|X}(h|x, \\theta)\n",
    "\\end{align}\n",
    "\n",
    "As the space $\\mathcal Y$ is unbounded and the NMT model makes no Markov assumptions, this search is intractable. In practice, we approximate the decision rule searching through a beam of probable translations. \n",
    "\n",
    "\\begin{align}\n",
    "y^{\\mathrm{beam}} &= \\arg\\max_{h \\in \\mathrm{beam}(x)} ~  P_{Y|X}(h|x, \\theta)\n",
    "\\end{align}"
   ]
  },
  {
   "cell_type": "markdown",
   "id": "57fc1fee",
   "metadata": {},
   "source": [
    "# Minimum Bayes risk decoding\n",
    "\n",
    "MBR decoding picks the translation that has highest expected utility:\n",
    "\n",
    "\\begin{align}\n",
    "y^{\\text{mbr}} &= \\arg\\max_{h \\in \\mathcal Y} ~ \\mathbb E[u(Y, h; x)|x, \\theta] \\\\\n",
    "&= \\arg\\max_{h \\in \\mathcal Y} ~ \\sum_{y \\in \\mathcal Y} u(y, h; x) P_{Y|X}(y|x, \\theta)\n",
    "\\end{align}\n",
    "\n",
    "where a utility function $u(y, h; x)$ quantifies the benefit of choosing $h$ as the translation of $x$, when $y$ is the correct (or preferred) translation.\n",
    "\n",
    "There are two sources of intractability in MBR decoding. First,  just like in MAP decoding, the search space (i.e., the sample space $\\mathcal Y$) is unbounded. Second, for any given candidate translation $h$, the expected utility $\\mathbb E[u(Y, h; x)|x, \\theta]$ is intractable to compute. \n",
    "\n",
    "[Eikema and Aziz (2020)](https://www.aclweb.org/anthology/2020.coling-main.398/) propose to  \n",
    "\n",
    "1. approximate the hypothesis space by a tractable subset of hypotheses $\\mathcal H(x)$ obtained by sampling from the model;\n",
    "2. approximate the expected value using Monte Carlo (MC).\n",
    "\n",
    "The decision rule becomes\n",
    "\n",
    "\\begin{align}\n",
    "y^{\\text{smbr}} &= \\arg\\max_{h \\in \\mathcal H(x)} ~ \\frac{1}{S} \\sum_{s=1}^S u(y^{(s)}, h; x)\n",
    "\\end{align}\n",
    "\n",
    "where $y^{(s)} \\sim Y|X=x, \\theta$ is a sample from the NMT model (samples can be drawn efficiently via ancestral sampling).\n",
    "\n",
    "For much more on sampling-based MBR see also [Eikema and Aziz (2021)](https://arxiv.org/abs/2108.04718)."
   ]
  },
  {
   "cell_type": "markdown",
   "id": "341f0ab2",
   "metadata": {},
   "source": [
    "# Load pre-trained models "
   ]
  },
  {
   "cell_type": "markdown",
   "id": "d451e1de",
   "metadata": {},
   "source": [
    "Load pre-processing pipelines and fairseq models. This will take a moment.\n",
    "\n",
    "Make sure you've downloaded the models (run `bash download-data.sh`)."
   ]
  },
  {
   "cell_type": "code",
   "execution_count": 2,
   "id": "d825ba72",
   "metadata": {},
   "outputs": [],
   "source": [
    "models = load_de_en(np_seed=10, torch_seed=10)"
   ]
  },
  {
   "cell_type": "markdown",
   "id": "258df7e9",
   "metadata": {},
   "source": [
    "Here, `x` is German and `y` is English."
   ]
  },
  {
   "cell_type": "code",
   "execution_count": 3,
   "id": "1543ff5e",
   "metadata": {},
   "outputs": [],
   "source": [
    "example_x = 'Es war noch nie leicht, ein rationales Gespräch über den Wert von Gold zu führen.'\n",
    "example_y = 'It has never been easy to have a rational conversation about the value of gold.'"
   ]
  },
  {
   "cell_type": "code",
   "execution_count": 4,
   "id": "0a15a0ec",
   "metadata": {},
   "outputs": [
    {
     "data": {
      "text/plain": [
       "'Es war noch nie leicht, ein rationales Gespräch über den Wert von Gold zu führen.'"
      ]
     },
     "execution_count": 4,
     "metadata": {},
     "output_type": "execute_result"
    }
   ],
   "source": [
    "models.pipeline_x.decode(models.pipeline_x.encode(example_x))"
   ]
  },
  {
   "cell_type": "code",
   "execution_count": 5,
   "id": "694fecd0",
   "metadata": {},
   "outputs": [
    {
     "data": {
      "text/plain": [
       "'It has never been easy to have a rational conversation about the value of gold.'"
      ]
     },
     "execution_count": 5,
     "metadata": {},
     "output_type": "execute_result"
    }
   ],
   "source": [
    "models.pipeline_y.decode(models.pipeline_y.encode(example_y))"
   ]
  },
  {
   "cell_type": "markdown",
   "id": "10479d75",
   "metadata": {},
   "source": [
    "# Demo\n",
    "\n",
    "\n",
    "## Approximate MAP decoding"
   ]
  },
  {
   "cell_type": "code",
   "execution_count": 6,
   "id": "b6ea9a55",
   "metadata": {},
   "outputs": [
    {
     "data": {
      "text/plain": [
       "'It has never been easy to talk rationally about the value of gold.'"
      ]
     },
     "execution_count": 6,
     "metadata": {},
     "output_type": "execute_result"
    }
   ],
   "source": [
    "models.x2y.beam_search(example_x)['output'][0]"
   ]
  },
  {
   "cell_type": "markdown",
   "id": "70ceae92",
   "metadata": {},
   "source": [
    "## Approximate MBR decoding\n",
    "\n",
    "Let's start by creating a hypothesis space. For example, we can use the unique translations found in a large sample. "
   ]
  },
  {
   "cell_type": "code",
   "execution_count": 7,
   "id": "93b6a427",
   "metadata": {
    "scrolled": false
   },
   "outputs": [
    {
     "data": {
      "text/plain": [
       "84"
      ]
     },
     "execution_count": 7,
     "metadata": {},
     "output_type": "execute_result"
    }
   ],
   "source": [
    "hyp_space = list(set(models.x2y.ancestral_sampling(example_x, num_samples=100)['output']))\n",
    "len(hyp_space)"
   ]
  },
  {
   "cell_type": "markdown",
   "id": "0a7a7643",
   "metadata": {},
   "source": [
    "As source sentences get longer or away from the training domain, it's common to find very few duplicates in samples from NMT. Note that duplicates in the hypothesis space do not affect the results, they only waste some computation, that's why we keep only the unique translations. "
   ]
  },
  {
   "cell_type": "markdown",
   "id": "329829a4",
   "metadata": {},
   "source": [
    "Now we need to choose a utility function. For most of this demo we will assign utility using ChrF (but do check the last section for an example using COMET, an NN-based metric)."
   ]
  },
  {
   "cell_type": "code",
   "execution_count": 8,
   "id": "6c7b055f",
   "metadata": {},
   "outputs": [],
   "source": [
    "from sacrebleu import sentence_chrf"
   ]
  },
  {
   "cell_type": "code",
   "execution_count": 9,
   "id": "9f2e01ad",
   "metadata": {},
   "outputs": [],
   "source": [
    "class ChrF(Utility):\n",
    "    \n",
    "    def __call__(self, src: str, hyp: str, ref: str) -> float:\n",
    "        return sentence_chrf(hyp, ref).score  # note that chrf does not make use of the source sentence\n",
    "\n",
    "chrf = ChrF()    "
   ]
  },
  {
   "cell_type": "code",
   "execution_count": 10,
   "id": "18194637",
   "metadata": {},
   "outputs": [
    {
     "data": {
      "text/plain": [
       "0.40623147802266224"
      ]
     },
     "execution_count": 10,
     "metadata": {},
     "output_type": "execute_result"
    }
   ],
   "source": [
    "chrf('This is cool!', 'Das ist cool!', 'Cool!')"
   ]
  },
  {
   "cell_type": "code",
   "execution_count": 11,
   "id": "35aa5795",
   "metadata": {},
   "outputs": [
    {
     "data": {
      "text/plain": [
       "array([0.40623148, 1.        ])"
      ]
     },
     "execution_count": 11,
     "metadata": {},
     "output_type": "execute_result"
    }
   ],
   "source": [
    "chrf.batch('This is cool!', 'Das ist cool!', ['Cool!', 'Das ist cool!'])"
   ]
  },
  {
   "cell_type": "markdown",
   "id": "0b172efa",
   "metadata": {},
   "source": [
    "MBR decoding requires approximating the expected utility of each candidate in the hypothesis space, the mechanism of choice is MC estimation. Thus, MBR decoding requires access to samples from the model. \n",
    "\n",
    "Ideally, for each hypothesis, we would draw samples completely independently:"
   ]
  },
  {
   "cell_type": "code",
   "execution_count": 12,
   "id": "180d224d",
   "metadata": {},
   "outputs": [],
   "source": [
    "nmt_sampler = SampleFromNMT(models.x2y, sample_size=30)"
   ]
  },
  {
   "cell_type": "code",
   "execution_count": 13,
   "id": "dcca4e81",
   "metadata": {},
   "outputs": [
    {
     "data": {
      "text/plain": [
       "['It has never been easy to talk rationally about the value of gold.',\n",
       " 'It has never been easy to talk rationally about the value of gold.',\n",
       " 'It has never been easy to discuss the value of gold rationally.',\n",
       " 'It has never been easy to hold a rational conversation about the value of gold.',\n",
       " \"It has never been easy to engage in a rational conversation about gold's value.\",\n",
       " 'It was never easy to have a rational conversation about the value of gold.',\n",
       " 'It was never easy to talk rationally about the value of gold.',\n",
       " 'It has never been easy to discuss the value of gold in a rational manner.',\n",
       " 'It has never been easy to engage rationally in a conversation about the value of gold.',\n",
       " \"It has never been easy to have a rational conversation on gold's value.\",\n",
       " 'It has never been easy to enter a rational conversation about the value of gold.',\n",
       " 'It has never been easy to enter into a rational conversation on the value of gold.',\n",
       " 'It has never been simple to talk rationally about the value of gold.',\n",
       " 'It has never been easy to engage in rational talking about the value of gold.',\n",
       " \"It has never been easy to have a rational conversation over gold's value.\",\n",
       " 'There has never been an easy time having a rational conversation about the value of gold.',\n",
       " 'It has never been easy to have any rational discussion on the value of gold.',\n",
       " 'It has never been easy discussing the value of gold rationally.',\n",
       " \"It has never been easy to generate a rational discussion of gold's value.\",\n",
       " \"It has never been easy to produce a rational argument about gold's value.\",\n",
       " 'It was never easy to be rationalistic about the value of gold.',\n",
       " \"Rational consideration of gold's value has never been easy.\",\n",
       " 'It was never easy to negotiate rationally on gold values.',\n",
       " \"They have never been easy to talk rationally about the company's value.\",\n",
       " 'Trading with gold has never been easy.',\n",
       " 'Discussion of the sum of gold on budget has never been easy.',\n",
       " 'Choosing gold like its value has never been easy.',\n",
       " 'It has never been worth remembering rationally about what gold represents.',\n",
       " 'Granting the gold value a Rational Talkship Zylinder is never as easy as avoiding an Inaccurate Job.',\n",
       " 'Knowing how you grasp the prospect of a conclusion - mind to be quiet - is crucial for us today.']"
      ]
     },
     "execution_count": 13,
     "metadata": {},
     "output_type": "execute_result"
    }
   ],
   "source": [
    "nmt_sampler(example_x)"
   ]
  },
  {
   "cell_type": "markdown",
   "id": "d8e789a9",
   "metadata": {},
   "source": [
    "Depending on the size of your sample space, this will quickly become too costly. A good alternative is to obtain a large collection of samples (e.g., 100 to 1000) and draw samples with replacement from this collection:"
   ]
  },
  {
   "cell_type": "code",
   "execution_count": 14,
   "id": "f20df3b2",
   "metadata": {},
   "outputs": [],
   "source": [
    "buffered_sampler = SampleFromBuffer(\n",
    "    {example_x: models.x2y.ancestral_sampling(example_x, num_samples=100)['output']}, \n",
    "    sample_size=30\n",
    ")"
   ]
  },
  {
   "cell_type": "code",
   "execution_count": 15,
   "id": "4ecd3335",
   "metadata": {},
   "outputs": [
    {
     "data": {
      "text/plain": [
       "['It has never been easy to have a rational discussion about the value of gold.',\n",
       " 'It has never been easy to enter into a rational discussion about the value of gold.',\n",
       " \"It had never been easy to conduct a rational conversation about gold's value.\",\n",
       " 'It was never easy to negotiate rationally about the value of gold.',\n",
       " \"It's never been easy to make rational talks about the value of gold.\",\n",
       " 'It has never been easy to hold a rational conversation about the value of gold.',\n",
       " 'It has never before been easy to discuss the value of gold rationally.',\n",
       " 'It has never been easy to ask about the value of gold, as a rational conversation is simply not in itself acknowledging it.',\n",
       " 'It has never been easy to command a rational conversation about the value of gold.',\n",
       " 'It has never been easy to negotiate on the value of gold rationally.',\n",
       " \"It has never been easy to listen rationally to gold's value.\",\n",
       " 'It has never been easy to discuss the value of gold in a rational way.',\n",
       " \"However, it was never easy to talk rationally about gold's value.\",\n",
       " 'Seeking a reasonable exchange on the value of money has never been easy.',\n",
       " 'It has never been easy to talk rationally about the gold value.',\n",
       " 'It has never been easy to engage in rational dialog communication about the value of gold.',\n",
       " 'It is never easy to make rational conversations about the value of gold.',\n",
       " 'It has never been easy to negotiate on the value of gold rationally.',\n",
       " 'It has never been easy to have a rational discussion on the value of gold.',\n",
       " 'Establishing a rational dialogue on the value of gold has never been easy;',\n",
       " \"It has never been easy to have a rational conversation on gold's value.\",\n",
       " 'It has never been easy to engage in a rational conversation on the value of gold.',\n",
       " 'It has never been easy to talk rationally about the value of gold.',\n",
       " 'It has never been easy to find a rational conversation about the value of gold.',\n",
       " 'It has never been easy to talk rationally about the gold value.',\n",
       " 'It has never been easy to talk rationally about the gold value.',\n",
       " 'It has never been easy to discuss the value of gold rationally.',\n",
       " 'It has never been easy to discuss the value of goldspaths rationally.',\n",
       " \"It has never been easy to talk rationally about gold's value.\",\n",
       " 'It has never been easy to have a rational conversation about what gold should do as its value does.']"
      ]
     },
     "execution_count": 15,
     "metadata": {},
     "output_type": "execute_result"
    }
   ],
   "source": [
    "buffered_sampler(example_x)"
   ]
  },
  {
   "cell_type": "markdown",
   "id": "d295f270",
   "metadata": {},
   "source": [
    "Next, we estimate expected utilities and rank our candidates."
   ]
  },
  {
   "cell_type": "code",
   "execution_count": 16,
   "id": "00d99a71",
   "metadata": {},
   "outputs": [],
   "source": [
    "mbr = MBR(chrf, buffered_sampler)  # This version of MBR is what Eikema and Aziz (2021) call MBR N-by-S"
   ]
  },
  {
   "cell_type": "code",
   "execution_count": 17,
   "id": "938faa7b",
   "metadata": {},
   "outputs": [
    {
     "data": {
      "text/plain": [
       "'It has never been easy to make a rational conversation about the value of gold.'"
      ]
     },
     "execution_count": 17,
     "metadata": {},
     "output_type": "execute_result"
    }
   ],
   "source": [
    "y_mbr = mbr.decode(example_x, hyp_space)\n",
    "y_mbr"
   ]
  },
  {
   "cell_type": "code",
   "execution_count": 18,
   "id": "2546d0f6",
   "metadata": {},
   "outputs": [
    {
     "data": {
      "text/plain": [
       "0.677204700537251"
      ]
     },
     "execution_count": 18,
     "metadata": {},
     "output_type": "execute_result"
    }
   ],
   "source": [
    "mbr.mu(example_x, y_mbr)"
   ]
  },
  {
   "cell_type": "markdown",
   "id": "5194be44",
   "metadata": {},
   "source": [
    "You can also use inspect the expected utility of all candidates (note that estimates of expected utility are random variables, thus some variability across runs is expected, esp for small sample sizes):"
   ]
  },
  {
   "cell_type": "code",
   "execution_count": 19,
   "id": "4df9352e",
   "metadata": {},
   "outputs": [
    {
     "name": "stdout",
     "output_type": "stream",
     "text": [
      "0.7119\tIt has never been easy to carry out rational conversation about the value of gold.\n",
      "0.7051\tIt has never been easy to hold a rational conversation about the value of gold.\n",
      "0.6855\tIt has never been easy to enter a rational conversation about the value of gold.\n",
      "0.6703\tIt has never been easy to make a rational conversation about the value of gold.\n",
      "0.6673\tIt has never been easy to engage in rational conversations about the value of gold.\n",
      "0.6662\tGetting a rational conversation about the value of gold has never been easy.\n",
      "0.6653\tIt has never been easy to have a rational conversation about the value of gold.\n",
      "0.6558\tIt has never been easy to engage in a rational conversation about the value of gold.\n",
      "0.6506\tRaising a rational conversation about the value of gold has never been easy.\n",
      "0.6490\tIt has never been easy to proceed with a rational conversation about the value of gold.\n",
      "0.6456\tIt has never been easy to make a rational discussion about the value of gold.\n",
      "0.6456\tIt has never been easy to talk rationally about the value of gold.\n",
      "0.6365\tIt has never been easy to negotiate a rational conversation about the value of gold.\n",
      "0.6310\tIt has never been easy to conduct a rational discussion about the value of gold.\n",
      "0.6280\tIt has never been easy to have a rational conversation on the value of gold previously.\n",
      "0.6212\tHaving a rational conversation about the value of gold has never been easy.\n",
      "0.6199\tIt has never been easy to talk proportionally about the value of gold.\n",
      "0.6134\tIt has never been easy to involve a rational conversation on the value of gold.\n",
      "0.6108\tIt has never been easy to engage in a rational exchange about the value of gold.\n",
      "0.6089\tIt has never been easy to do rational talk about the value of gold.\n",
      "0.5950\tIt has never been easy to entertain rational talk about the value of gold ever.\n",
      "0.5936\tIt has never been easy to engage in rational conversation about gold's value.\n",
      "0.5925\tIt has never been easy to hold rational conversations about gold's value.\n",
      "0.5924\tIt has never been easy to initiate a rational dialogue of the value of gold.\n",
      "0.5914\tYou have never been easy to start a rational discussion about the value of gold.\n",
      "0.5855\tIt has never been easy to have a rational conversation about gold's value.\n",
      "0.5842\tIt has never been easy to discuss the value of gold rationally.\n",
      "0.5778\tHaving a rational exchange about the value of gold has never been easy.\n",
      "0.5735\tIt has never been easy to engage in rational talk about the value of gold.\n",
      "0.5686\tIt has never been easy to talk about the value of gold rationally.\n",
      "0.5669\tRaising a rational conversation about gold's value has never been easy.\n",
      "0.5646\tIt has never been easier to discuss the value of gold in rational terms.\n",
      "0.5607\tIt was never easy to have a rational discussion about the value of gold.\n",
      "0.5596\tIt has never been easy to hold a rational conversation on gold's value.\n",
      "0.5573\tIt has never been easy to discuss the value of gold in a rational way.\n",
      "0.5525\tIt has never been easy to discuss the value of gold head-on with rationality.\n",
      "0.5504\tIt's never been easy to establish a rational exchange of views about the value of gold.\n",
      "0.5494\tIt has never been easy to make a coherent conversation on the value of gold.\n",
      "0.5490\tAny rational conversation about gold value has never been easy.\n",
      "0.5453\tIt has never been easy to make a rational conversation about gold.\n",
      "0.5424\tIt has never been easy to engage in rational talk about gold's value.\n",
      "0.5412\tIt has not been easy to hold a rational discussion about the value of gold.\n",
      "0.5382\tIt has never been easy to get a rational conversation about Gold's worth.\n",
      "0.5346\tIt has never been easy to actually talk about the value of gold.\n",
      "0.5344\tIt has never been easy to discuss and negotiate properly the value of gold.\n",
      "0.5173\tIt was never easy to conduct a rational conversation about the value of gold.\n",
      "0.5156\tIt has never been easy to engage in rational discussion about gold's worth.\n",
      "0.5142\tThe solution has never been easy to achieve rational discussion of gold's value.\n",
      "0.5115\tIt has never been simple to talk rationally about the value of gold.\n",
      "0.5106\tDiscussion about the value of gold has never been easy.\n",
      "0.5101\tIt has never been easy to discuss the value of gold interactively.\n",
      "0.5008\tIt has never been easy to discuss the value of gold efficiently.\n",
      "0.4914\tIt has never been easy to calculate the value of gold.\n",
      "0.4908\tEconomically speaking, it has never always been easy to talk about the value of gold.\n",
      "0.4897\tIt has never been easy to know about gold as a country to talk about rational wise terms.\n",
      "0.4875\tRaising a rational conversation on the value of gold was never easy.\n",
      "0.4835\tA rational price conversation about gold has never been easy.\n",
      "0.4827\t\"It has never been easy for a rational discussion on gold's value to be undertaken.\n",
      "0.4815\tIt was never easy to talk rationally about the value of gold.\n",
      "0.4806\tIt has never been easy to talk rationally about Gold's value.\n",
      "0.4758\tThe rational conversation of gold value has never been easy.\n",
      "0.4690\tIt has never been easy to return to the subject of gold as one rational matter.\n",
      "0.4665\tIt has never been readily possible to anchor a rational discussion about gold's value.\n",
      "0.4647\tIt have never been easy to talk on a rational basis about how value should be abundantly gold.\n",
      "0.4611\tIt has never been easier to trump the value of gold.\n",
      "0.4553\tIt has never been much easier to talk rationally about gold in value.\n",
      "0.4543\tIt has never been easy to engage in rational exchange on gold.\n",
      "0.4453\tThe price of gold has never been easy to ask amidst rational talk.\n",
      "0.4428\tIt has not been easy to discuss the value of gold with one voice.\n",
      "0.4245\tTo talk rationally about gold has never been easy.\n",
      "0.4244\tThere has never been an easy time discussing the value of gold.\n",
      "0.4074\tIt was never easy to talk rationally about gold's value.\n",
      "0.3766\tNo rational talk about the value of gold ever seemed easy.\n",
      "0.3572\tA rational discussion of gold's value was never easy.\n",
      "0.3568\tIt never was easy to pursue a rational debate about gold values.\n",
      "0.3446\tIt was never a straightforward discussion of the value of gold.\n",
      "0.3407\tTalk about gold value has never been easy.\n",
      "0.3394\tMore than ever, the rational example of the value of gold was uncomplicated.\n",
      "0.3384\tIt was never easy to consider Nielsen's values rationally.\n",
      "0.3173\tYou never have a way to talk rationally about gold's value.\n",
      "0.1931\tTo achieve what, far from being warranted, we must fail to sort out what the taxpayers think with capital penalties.\n",
      "0.1906\tTrue enough nobody has ever known about gold.\n",
      "0.1541\tEncouraging their choices was the result of an interrogation of money before, confusing the mathematical-plowing combines of the Ayurvedic work with the financial somethinglectionism of ancient estates and natural intellectual and intellectual property. O'Tébailes was appointed the first teacher, Professor, and President in Architecture, to approach the financial crisis with an argument about economics, economics, and economy.\n",
      "0.1430\tIt took no time to deal sensibly with gold well.\n"
     ]
    }
   ],
   "source": [
    "for h, mu in sorted(zip(hyp_space, mbr.mus(example_x, hyp_space)), key=lambda pair: pair[1], reverse=True):\n",
    "    print(f\"{mu:.4f}\\t{h}\")"
   ]
  },
  {
   "cell_type": "markdown",
   "id": "5cddef53",
   "metadata": {},
   "source": [
    "## COMET as Utility\n",
    "\n",
    "The utility function is anything we trust for assessing the merits of a translation candidate. In this part of the demo, we will employ a modern NN-based metric: [COMET](https://github.com/Unbabel/COMET). Some of COMET's dependencies are in conflict with our trained NMT models (e.g., fairseq version), thus we have prepared a flask that abstracts away from all the mess behind maintaining different versions of python packages: git clone Probabll's [mteval-flask](https://github.com/probabll/mteval-flask) and follow the instructions there to start an automatic evaluation server. \n",
    "\n",
    "The reason we pick COMET is not only that it's modern, unlike most MT evaluation metrics, COMET makes use of the source sentence, which we think is the right way towards evaluating adequacy."
   ]
  },
  {
   "cell_type": "code",
   "execution_count": 20,
   "id": "3d871aba",
   "metadata": {},
   "outputs": [],
   "source": [
    "import requests"
   ]
  },
  {
   "cell_type": "code",
   "execution_count": 32,
   "id": "f8a50693",
   "metadata": {},
   "outputs": [],
   "source": [
    "class COMET(Utility):    \n",
    "    \n",
    "    def __call__(self, src: str, hyp: str, ref: str) -> float:\n",
    "        jobs = {'hyps': [hyp], 'refs': [ref], 'srcs': [src]}\n",
    "        # Unlike ChrF, COMET actually makes use of the source sentence! :D\n",
    "        results = requests.post(\"http://localhost:4000/score\", json=jobs, headers={'Content-Type': 'application/json'}).json()\n",
    "        return results['comet'][0]\n",
    "    \n",
    "    def batch(self, src: str, hyp: str, refs: list):\n",
    "        jobs = {'hyps': [hyp] * len(refs), 'refs': refs, 'srcs': [src] * len(refs)}\n",
    "        results = requests.post(\"http://localhost:4000/score\", json=jobs, headers={'Content-Type': 'application/json'}).json()\n",
    "        return results['comet']"
   ]
  },
  {
   "cell_type": "code",
   "execution_count": 33,
   "id": "f714e88a",
   "metadata": {},
   "outputs": [],
   "source": [
    "comet = COMET()"
   ]
  },
  {
   "cell_type": "code",
   "execution_count": 36,
   "id": "24d05b01",
   "metadata": {},
   "outputs": [],
   "source": [
    "mbr_comet = MBR(comet, buffered_sampler)  # This version of MBR is what Eikema and Aziz (2021) call MBR N-by-S"
   ]
  },
  {
   "cell_type": "code",
   "execution_count": 37,
   "id": "335f7d9e",
   "metadata": {},
   "outputs": [
    {
     "name": "stdout",
     "output_type": "stream",
     "text": [
      "0.8370\tIt was never easy to conduct a rational conversation about the value of gold.\n",
      "0.8291\tIt was never easy to have a rational discussion about the value of gold.\n",
      "0.8069\tYou have never been easy to start a rational discussion about the value of gold.\n",
      "0.7906\tIt has never been easy to carry out rational conversation about the value of gold.\n",
      "0.7861\tIt has not been easy to hold a rational discussion about the value of gold.\n",
      "0.7856\tIt has never been easy to have a rational conversation about the value of gold.\n",
      "0.7838\tIt has never been easy to engage in rational conversations about the value of gold.\n",
      "0.7836\tIt has never been easy to make a rational conversation about the value of gold.\n",
      "0.7776\tIt has never been easy to enter a rational conversation about the value of gold.\n",
      "0.7589\tIt has never been easy to make a rational discussion about the value of gold.\n",
      "0.7583\tIt has never been easy to conduct a rational discussion about the value of gold.\n",
      "0.7473\tIt has never been easy to hold a rational conversation about the value of gold.\n",
      "0.7433\tIt has never been easy to engage in a rational conversation about the value of gold.\n",
      "0.7422\tIt has never been easy to talk rationally about the value of gold.\n",
      "0.7387\tIt has never been easy to have a rational conversation about gold's value.\n",
      "0.7218\tIt has never been easy to involve a rational conversation on the value of gold.\n",
      "0.7158\tIt has never been easy to engage in rational conversation about gold's value.\n",
      "0.7142\tIt has never been easy to discuss the value of gold in a rational way.\n",
      "0.7141\tIt has never been easy to engage in rational talk about gold's value.\n",
      "0.7075\tIt has never been easy to proceed with a rational conversation about the value of gold.\n",
      "0.7070\tIt has never been easy to negotiate a rational conversation about the value of gold.\n",
      "0.6990\tGetting a rational conversation about the value of gold has never been easy.\n",
      "0.6962\tIt has never been easy to hold rational conversations about gold's value.\n",
      "0.6765\tIt has never been easy to engage in a rational exchange about the value of gold.\n",
      "0.6750\tIt has never been easy to engage in rational talk about the value of gold.\n",
      "0.6653\tIt was never easy to talk rationally about the value of gold.\n",
      "0.6538\tIt has never been easy to talk about the value of gold rationally.\n",
      "0.6403\tIt has never been easy to make a coherent conversation on the value of gold.\n",
      "0.6330\tHaving a rational conversation about the value of gold has never been easy.\n",
      "0.6291\tIt has never been simple to talk rationally about the value of gold.\n",
      "0.6242\tIt has never been easy to do rational talk about the value of gold.\n",
      "0.6121\tIt has never been easy to discuss the value of gold rationally.\n",
      "0.6081\tRaising a rational conversation about the value of gold has never been easy.\n",
      "0.6066\tIt has never been easy to hold a rational conversation on gold's value.\n",
      "0.6047\tIt's never been easy to establish a rational exchange of views about the value of gold.\n",
      "0.5969\tIt has never been easy to make a rational conversation about gold.\n",
      "0.5942\tIt has never been easy to talk proportionally about the value of gold.\n",
      "0.5905\tIt has never been easy to initiate a rational dialogue of the value of gold.\n",
      "0.5706\tIt has never been easy to talk rationally about Gold's value.\n",
      "0.5703\tIt has never been easier to discuss the value of gold in rational terms.\n",
      "0.5679\tIt has never been easy to have a rational conversation on the value of gold previously.\n",
      "0.5590\tIt never was easy to pursue a rational debate about gold values.\n",
      "0.5587\tIt was never easy to talk rationally about gold's value.\n",
      "0.5107\tRaising a rational conversation about gold's value has never been easy.\n",
      "0.5014\tIt has never been easy to engage in rational discussion about gold's worth.\n",
      "0.4975\tHaving a rational exchange about the value of gold has never been easy.\n",
      "0.4760\tEconomically speaking, it has never always been easy to talk about the value of gold.\n",
      "0.4721\tThe solution has never been easy to achieve rational discussion of gold's value.\n",
      "0.4686\tIt has never been easy to discuss the value of gold interactively.\n",
      "0.4250\tYou never have a way to talk rationally about gold's value.\n",
      "0.4187\tAny rational conversation about gold value has never been easy.\n",
      "0.4113\tDiscussion about the value of gold has never been easy.\n",
      "0.4085\tTo talk rationally about gold has never been easy.\n",
      "0.4024\tIt has never been readily possible to anchor a rational discussion about gold's value.\n",
      "0.3997\tIt has never been easy to discuss the value of gold efficiently.\n",
      "0.3977\tIt has never been easy to entertain rational talk about the value of gold ever.\n",
      "0.3955\tIt has never been easy to actually talk about the value of gold.\n",
      "0.3876\tThere has never been an easy time discussing the value of gold.\n",
      "0.3722\tIt has never been much easier to talk rationally about gold in value.\n",
      "0.3552\tThe rational conversation of gold value has never been easy.\n",
      "0.3464\tIt has never been easy to engage in rational exchange on gold.\n",
      "0.3445\tIt has never been easy to discuss and negotiate properly the value of gold.\n",
      "0.3408\tIt has never been easy to calculate the value of gold.\n",
      "0.3366\tRaising a rational conversation on the value of gold was never easy.\n",
      "0.3213\tNo rational talk about the value of gold ever seemed easy.\n",
      "0.2928\tIt has never been easy to discuss the value of gold head-on with rationality.\n",
      "0.2808\tIt have never been easy to talk on a rational basis about how value should be abundantly gold.\n",
      "0.2603\tA rational price conversation about gold has never been easy.\n",
      "0.2501\tIt was never a straightforward discussion of the value of gold.\n",
      "0.2406\tIt has never been easy to get a rational conversation about Gold's worth.\n",
      "0.2356\tThe price of gold has never been easy to ask amidst rational talk.\n",
      "0.2079\t\"It has never been easy for a rational discussion on gold's value to be undertaken.\n",
      "0.2048\tA rational discussion of gold's value was never easy.\n",
      "0.2028\tIt has not been easy to discuss the value of gold with one voice.\n",
      "0.1554\tTalk about gold value has never been easy.\n",
      "0.0992\tIt has never been easy to know about gold as a country to talk about rational wise terms.\n",
      "0.0609\tIt was never easy to consider Nielsen's values rationally.\n",
      "0.0232\tIt has never been easy to return to the subject of gold as one rational matter.\n",
      "-0.1140\tIt has never been easier to trump the value of gold.\n",
      "-0.1696\tMore than ever, the rational example of the value of gold was uncomplicated.\n",
      "-0.5259\tTo achieve what, far from being warranted, we must fail to sort out what the taxpayers think with capital penalties.\n",
      "-0.5481\tTrue enough nobody has ever known about gold.\n",
      "-0.5577\tIt took no time to deal sensibly with gold well.\n",
      "-0.7896\tEncouraging their choices was the result of an interrogation of money before, confusing the mathematical-plowing combines of the Ayurvedic work with the financial somethinglectionism of ancient estates and natural intellectual and intellectual property. O'Tébailes was appointed the first teacher, Professor, and President in Architecture, to approach the financial crisis with an argument about economics, economics, and economy.\n"
     ]
    }
   ],
   "source": [
    "for h, mu in sorted(zip(hyp_space, mbr_comet.mus(example_x, hyp_space)), key=lambda pair: pair[1], reverse=True):\n",
    "    print(f\"{mu:.4f}\\t{h}\")"
   ]
  },
  {
   "cell_type": "code",
   "execution_count": null,
   "id": "0efddfab",
   "metadata": {},
   "outputs": [],
   "source": []
  }
 ],
 "metadata": {
  "kernelspec": {
   "display_name": "Python 3 (ipykernel)",
   "language": "python",
   "name": "python3"
  },
  "language_info": {
   "codemirror_mode": {
    "name": "ipython",
    "version": 3
   },
   "file_extension": ".py",
   "mimetype": "text/x-python",
   "name": "python",
   "nbconvert_exporter": "python",
   "pygments_lexer": "ipython3",
   "version": "3.7.9"
  }
 },
 "nbformat": 4,
 "nbformat_minor": 5
}
