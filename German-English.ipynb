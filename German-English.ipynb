{
  "nbformat": 4,
  "nbformat_minor": 0,
  "metadata": {
    "colab": {
      "name": "MBR demo.ipynb",
      "provenance": [],
      "collapsed_sections": [],
      "toc_visible": true,
      "authorship_tag": "ABX9TyMAM4WoE9zkfexBowfQby1Z",
      "include_colab_link": true
    },
    "kernelspec": {
      "display_name": "Python 3",
      "name": "python3"
    },
    "language_info": {
      "name": "python"
    },
    "widgets": {
      "application/vnd.jupyter.widget-state+json": {
        "b586cc193394480d9f003d1c1e4631e5": {
          "model_module": "@jupyter-widgets/controls",
          "model_name": "HBoxModel",
          "model_module_version": "1.5.0",
          "state": {
            "_view_name": "HBoxView",
            "_dom_classes": [],
            "_model_name": "HBoxModel",
            "_view_module": "@jupyter-widgets/controls",
            "_model_module_version": "1.5.0",
            "_view_count": null,
            "_view_module_version": "1.5.0",
            "box_style": "",
            "layout": "IPY_MODEL_1f11297236b0450c841b6efee7bf48d5",
            "_model_module": "@jupyter-widgets/controls",
            "children": [
              "IPY_MODEL_1ef66be6545d433bb255e356c4b9c067",
              "IPY_MODEL_e42fa2107f9d472db4b8a51eaa2b5adc",
              "IPY_MODEL_e917f2b6918c4366805e68092cb9009c"
            ]
          }
        },
        "1f11297236b0450c841b6efee7bf48d5": {
          "model_module": "@jupyter-widgets/base",
          "model_name": "LayoutModel",
          "model_module_version": "1.2.0",
          "state": {
            "_view_name": "LayoutView",
            "grid_template_rows": null,
            "right": null,
            "justify_content": null,
            "_view_module": "@jupyter-widgets/base",
            "overflow": null,
            "_model_module_version": "1.2.0",
            "_view_count": null,
            "flex_flow": null,
            "width": null,
            "min_width": null,
            "border": null,
            "align_items": null,
            "bottom": null,
            "_model_module": "@jupyter-widgets/base",
            "top": null,
            "grid_column": null,
            "overflow_y": null,
            "overflow_x": null,
            "grid_auto_flow": null,
            "grid_area": null,
            "grid_template_columns": null,
            "flex": null,
            "_model_name": "LayoutModel",
            "justify_items": null,
            "grid_row": null,
            "max_height": null,
            "align_content": null,
            "visibility": null,
            "align_self": null,
            "height": null,
            "min_height": null,
            "padding": null,
            "grid_auto_rows": null,
            "grid_gap": null,
            "max_width": null,
            "order": null,
            "_view_module_version": "1.2.0",
            "grid_template_areas": null,
            "object_position": null,
            "object_fit": null,
            "grid_auto_columns": null,
            "margin": null,
            "display": null,
            "left": null
          }
        },
        "1ef66be6545d433bb255e356c4b9c067": {
          "model_module": "@jupyter-widgets/controls",
          "model_name": "HTMLModel",
          "model_module_version": "1.5.0",
          "state": {
            "_view_name": "HTMLView",
            "style": "IPY_MODEL_36493bc452ee45478865d48a94897541",
            "_dom_classes": [],
            "description": "",
            "_model_name": "HTMLModel",
            "placeholder": "​",
            "_view_module": "@jupyter-widgets/controls",
            "_model_module_version": "1.5.0",
            "value": "100%",
            "_view_count": null,
            "_view_module_version": "1.5.0",
            "description_tooltip": null,
            "_model_module": "@jupyter-widgets/controls",
            "layout": "IPY_MODEL_c4034bf361ff4e45b6a0f2ef51d1ecd8"
          }
        },
        "e42fa2107f9d472db4b8a51eaa2b5adc": {
          "model_module": "@jupyter-widgets/controls",
          "model_name": "FloatProgressModel",
          "model_module_version": "1.5.0",
          "state": {
            "_view_name": "ProgressView",
            "style": "IPY_MODEL_ac6e84aef28b42268f67f8fde9be41db",
            "_dom_classes": [],
            "description": "",
            "_model_name": "FloatProgressModel",
            "bar_style": "success",
            "max": 10,
            "_view_module": "@jupyter-widgets/controls",
            "_model_module_version": "1.5.0",
            "value": 10,
            "_view_count": null,
            "_view_module_version": "1.5.0",
            "orientation": "horizontal",
            "min": 0,
            "description_tooltip": null,
            "_model_module": "@jupyter-widgets/controls",
            "layout": "IPY_MODEL_6d4edba9c19f4538ac8fd88c6a887a1d"
          }
        },
        "e917f2b6918c4366805e68092cb9009c": {
          "model_module": "@jupyter-widgets/controls",
          "model_name": "HTMLModel",
          "model_module_version": "1.5.0",
          "state": {
            "_view_name": "HTMLView",
            "style": "IPY_MODEL_0ca9906b1a4844baa258b188975fecc6",
            "_dom_classes": [],
            "description": "",
            "_model_name": "HTMLModel",
            "placeholder": "​",
            "_view_module": "@jupyter-widgets/controls",
            "_model_module_version": "1.5.0",
            "value": " 10/10 [01:53&lt;00:00, 13.10s/it]",
            "_view_count": null,
            "_view_module_version": "1.5.0",
            "description_tooltip": null,
            "_model_module": "@jupyter-widgets/controls",
            "layout": "IPY_MODEL_f635937081204a2e8cf771193867a2e0"
          }
        },
        "36493bc452ee45478865d48a94897541": {
          "model_module": "@jupyter-widgets/controls",
          "model_name": "DescriptionStyleModel",
          "model_module_version": "1.5.0",
          "state": {
            "_view_name": "StyleView",
            "_model_name": "DescriptionStyleModel",
            "description_width": "",
            "_view_module": "@jupyter-widgets/base",
            "_model_module_version": "1.5.0",
            "_view_count": null,
            "_view_module_version": "1.2.0",
            "_model_module": "@jupyter-widgets/controls"
          }
        },
        "c4034bf361ff4e45b6a0f2ef51d1ecd8": {
          "model_module": "@jupyter-widgets/base",
          "model_name": "LayoutModel",
          "model_module_version": "1.2.0",
          "state": {
            "_view_name": "LayoutView",
            "grid_template_rows": null,
            "right": null,
            "justify_content": null,
            "_view_module": "@jupyter-widgets/base",
            "overflow": null,
            "_model_module_version": "1.2.0",
            "_view_count": null,
            "flex_flow": null,
            "width": null,
            "min_width": null,
            "border": null,
            "align_items": null,
            "bottom": null,
            "_model_module": "@jupyter-widgets/base",
            "top": null,
            "grid_column": null,
            "overflow_y": null,
            "overflow_x": null,
            "grid_auto_flow": null,
            "grid_area": null,
            "grid_template_columns": null,
            "flex": null,
            "_model_name": "LayoutModel",
            "justify_items": null,
            "grid_row": null,
            "max_height": null,
            "align_content": null,
            "visibility": null,
            "align_self": null,
            "height": null,
            "min_height": null,
            "padding": null,
            "grid_auto_rows": null,
            "grid_gap": null,
            "max_width": null,
            "order": null,
            "_view_module_version": "1.2.0",
            "grid_template_areas": null,
            "object_position": null,
            "object_fit": null,
            "grid_auto_columns": null,
            "margin": null,
            "display": null,
            "left": null
          }
        },
        "ac6e84aef28b42268f67f8fde9be41db": {
          "model_module": "@jupyter-widgets/controls",
          "model_name": "ProgressStyleModel",
          "model_module_version": "1.5.0",
          "state": {
            "_view_name": "StyleView",
            "_model_name": "ProgressStyleModel",
            "description_width": "",
            "_view_module": "@jupyter-widgets/base",
            "_model_module_version": "1.5.0",
            "_view_count": null,
            "_view_module_version": "1.2.0",
            "bar_color": null,
            "_model_module": "@jupyter-widgets/controls"
          }
        },
        "6d4edba9c19f4538ac8fd88c6a887a1d": {
          "model_module": "@jupyter-widgets/base",
          "model_name": "LayoutModel",
          "model_module_version": "1.2.0",
          "state": {
            "_view_name": "LayoutView",
            "grid_template_rows": null,
            "right": null,
            "justify_content": null,
            "_view_module": "@jupyter-widgets/base",
            "overflow": null,
            "_model_module_version": "1.2.0",
            "_view_count": null,
            "flex_flow": null,
            "width": null,
            "min_width": null,
            "border": null,
            "align_items": null,
            "bottom": null,
            "_model_module": "@jupyter-widgets/base",
            "top": null,
            "grid_column": null,
            "overflow_y": null,
            "overflow_x": null,
            "grid_auto_flow": null,
            "grid_area": null,
            "grid_template_columns": null,
            "flex": null,
            "_model_name": "LayoutModel",
            "justify_items": null,
            "grid_row": null,
            "max_height": null,
            "align_content": null,
            "visibility": null,
            "align_self": null,
            "height": null,
            "min_height": null,
            "padding": null,
            "grid_auto_rows": null,
            "grid_gap": null,
            "max_width": null,
            "order": null,
            "_view_module_version": "1.2.0",
            "grid_template_areas": null,
            "object_position": null,
            "object_fit": null,
            "grid_auto_columns": null,
            "margin": null,
            "display": null,
            "left": null
          }
        },
        "0ca9906b1a4844baa258b188975fecc6": {
          "model_module": "@jupyter-widgets/controls",
          "model_name": "DescriptionStyleModel",
          "model_module_version": "1.5.0",
          "state": {
            "_view_name": "StyleView",
            "_model_name": "DescriptionStyleModel",
            "description_width": "",
            "_view_module": "@jupyter-widgets/base",
            "_model_module_version": "1.5.0",
            "_view_count": null,
            "_view_module_version": "1.2.0",
            "_model_module": "@jupyter-widgets/controls"
          }
        },
        "f635937081204a2e8cf771193867a2e0": {
          "model_module": "@jupyter-widgets/base",
          "model_name": "LayoutModel",
          "model_module_version": "1.2.0",
          "state": {
            "_view_name": "LayoutView",
            "grid_template_rows": null,
            "right": null,
            "justify_content": null,
            "_view_module": "@jupyter-widgets/base",
            "overflow": null,
            "_model_module_version": "1.2.0",
            "_view_count": null,
            "flex_flow": null,
            "width": null,
            "min_width": null,
            "border": null,
            "align_items": null,
            "bottom": null,
            "_model_module": "@jupyter-widgets/base",
            "top": null,
            "grid_column": null,
            "overflow_y": null,
            "overflow_x": null,
            "grid_auto_flow": null,
            "grid_area": null,
            "grid_template_columns": null,
            "flex": null,
            "_model_name": "LayoutModel",
            "justify_items": null,
            "grid_row": null,
            "max_height": null,
            "align_content": null,
            "visibility": null,
            "align_self": null,
            "height": null,
            "min_height": null,
            "padding": null,
            "grid_auto_rows": null,
            "grid_gap": null,
            "max_width": null,
            "order": null,
            "_view_module_version": "1.2.0",
            "grid_template_areas": null,
            "object_position": null,
            "object_fit": null,
            "grid_auto_columns": null,
            "margin": null,
            "display": null,
            "left": null
          }
        }
      }
    }
  },
  "cells": [
    {
      "cell_type": "markdown",
      "metadata": {
        "id": "view-in-github",
        "colab_type": "text"
      },
      "source": [
        "<a href=\"https://colab.research.google.com/github/probabll/demo-mbr-nmt/blob/main/German-English.ipynb\" target=\"_parent\"><img src=\"https://colab.research.google.com/assets/colab-badge.svg\" alt=\"Open In Colab\"/></a>"
      ]
    },
    {
      "cell_type": "markdown",
      "metadata": {
        "id": "JzTFC_vDkIt7"
      },
      "source": [
        "# About\n",
        "\n",
        "This is a demo of sampling-based minimum Bayes risk decoding for NMT [(Eikema and Aziz, 2020)](https://www.aclweb.org/anthology/2020.coling-main.398/) for educational purposes. For a scalable implementation check [mbr_nmt](https://github.com/Roxot/mbr-nmt) and [(Eikema and Aziz, 2021)](https://arxiv.org/abs/2108.04718)."
      ]
    },
    {
      "cell_type": "markdown",
      "metadata": {
        "id": "q-B_PWy9j9h3"
      },
      "source": [
        "# Setting Up\n",
        "\n",
        "This part will take care of the following:\n",
        "\n",
        "1. Clone the repository `demo-mbr-nmt`.\n",
        "2. Install dependencies.\n",
        "3. Download pre-trained models."
      ]
    },
    {
      "cell_type": "code",
      "metadata": {
        "colab": {
          "base_uri": "https://localhost:8080/"
        },
        "id": "5y2fg4J7HRdC",
        "outputId": "f8f19743-fc12-490e-b460-1bde1bd80fe3"
      },
      "source": [
        "!git clone https://github.com/probabll/demo-mbr-nmt.git"
      ],
      "execution_count": 1,
      "outputs": [
        {
          "output_type": "stream",
          "name": "stdout",
          "text": [
            "fatal: destination path 'demo-mbr-nmt' already exists and is not an empty directory.\n"
          ]
        }
      ]
    },
    {
      "cell_type": "code",
      "metadata": {
        "colab": {
          "base_uri": "https://localhost:8080/"
        },
        "id": "KmRje0VOHbJp",
        "outputId": "69494f1a-930c-4545-96f3-e35e0c84de51"
      },
      "source": [
        "cd demo-mbr-nmt"
      ],
      "execution_count": 2,
      "outputs": [
        {
          "output_type": "stream",
          "name": "stdout",
          "text": [
            "/content/demo-mbr-nmt\n"
          ]
        }
      ]
    },
    {
      "cell_type": "code",
      "metadata": {
        "colab": {
          "base_uri": "https://localhost:8080/"
        },
        "id": "30m1tJspczE9",
        "outputId": "acb3944f-9f76-4603-cadc-6d95322af718"
      },
      "source": [
        "!git pull"
      ],
      "execution_count": 3,
      "outputs": [
        {
          "output_type": "stream",
          "name": "stdout",
          "text": [
            "Already up to date.\n"
          ]
        }
      ]
    },
    {
      "cell_type": "code",
      "metadata": {
        "colab": {
          "base_uri": "https://localhost:8080/"
        },
        "id": "3VdO2-whIEYs",
        "outputId": "357b2e31-709b-471e-cf8b-b50bfbb3f8c4"
      },
      "source": [
        "!pip install -r requirements.txt"
      ],
      "execution_count": 4,
      "outputs": [
        {
          "output_type": "stream",
          "name": "stdout",
          "text": [
            "Requirement already satisfied: torch in /usr/local/lib/python3.7/dist-packages (from -r requirements.txt (line 1)) (1.9.0+cu102)\n",
            "Requirement already satisfied: numpy in /usr/local/lib/python3.7/dist-packages (from -r requirements.txt (line 2)) (1.19.5)\n",
            "Requirement already satisfied: fairseq==0.10.2 in /usr/local/lib/python3.7/dist-packages (from -r requirements.txt (line 3)) (0.10.2)\n",
            "Requirement already satisfied: sacrebleu==1.5.1 in /usr/local/lib/python3.7/dist-packages (from -r requirements.txt (line 4)) (1.5.1)\n",
            "Requirement already satisfied: sacremoses==0.0.43 in /usr/local/lib/python3.7/dist-packages (from -r requirements.txt (line 5)) (0.0.43)\n",
            "Requirement already satisfied: sentencepiece==0.1.95 in /usr/local/lib/python3.7/dist-packages (from -r requirements.txt (line 6)) (0.1.95)\n",
            "Requirement already satisfied: regex in /usr/local/lib/python3.7/dist-packages (from fairseq==0.10.2->-r requirements.txt (line 3)) (2019.12.20)\n",
            "Requirement already satisfied: tqdm in /usr/local/lib/python3.7/dist-packages (from fairseq==0.10.2->-r requirements.txt (line 3)) (4.62.0)\n",
            "Requirement already satisfied: dataclasses in /usr/local/lib/python3.7/dist-packages (from fairseq==0.10.2->-r requirements.txt (line 3)) (0.6)\n",
            "Requirement already satisfied: cffi in /usr/local/lib/python3.7/dist-packages (from fairseq==0.10.2->-r requirements.txt (line 3)) (1.14.6)\n",
            "Requirement already satisfied: cython in /usr/local/lib/python3.7/dist-packages (from fairseq==0.10.2->-r requirements.txt (line 3)) (0.29.24)\n",
            "Requirement already satisfied: hydra-core in /usr/local/lib/python3.7/dist-packages (from fairseq==0.10.2->-r requirements.txt (line 3)) (1.1.1)\n",
            "Requirement already satisfied: portalocker==2.0.0 in /usr/local/lib/python3.7/dist-packages (from sacrebleu==1.5.1->-r requirements.txt (line 4)) (2.0.0)\n",
            "Requirement already satisfied: six in /usr/local/lib/python3.7/dist-packages (from sacremoses==0.0.43->-r requirements.txt (line 5)) (1.15.0)\n",
            "Requirement already satisfied: click in /usr/local/lib/python3.7/dist-packages (from sacremoses==0.0.43->-r requirements.txt (line 5)) (7.1.2)\n",
            "Requirement already satisfied: joblib in /usr/local/lib/python3.7/dist-packages (from sacremoses==0.0.43->-r requirements.txt (line 5)) (1.0.1)\n",
            "Requirement already satisfied: typing-extensions in /usr/local/lib/python3.7/dist-packages (from torch->-r requirements.txt (line 1)) (3.7.4.3)\n",
            "Requirement already satisfied: pycparser in /usr/local/lib/python3.7/dist-packages (from cffi->fairseq==0.10.2->-r requirements.txt (line 3)) (2.20)\n",
            "Requirement already satisfied: omegaconf==2.1.* in /usr/local/lib/python3.7/dist-packages (from hydra-core->fairseq==0.10.2->-r requirements.txt (line 3)) (2.1.1)\n",
            "Requirement already satisfied: antlr4-python3-runtime==4.8 in /usr/local/lib/python3.7/dist-packages (from hydra-core->fairseq==0.10.2->-r requirements.txt (line 3)) (4.8)\n",
            "Requirement already satisfied: importlib-resources in /usr/local/lib/python3.7/dist-packages (from hydra-core->fairseq==0.10.2->-r requirements.txt (line 3)) (5.2.2)\n",
            "Requirement already satisfied: PyYAML>=5.1.0 in /usr/local/lib/python3.7/dist-packages (from omegaconf==2.1.*->hydra-core->fairseq==0.10.2->-r requirements.txt (line 3)) (5.4.1)\n",
            "Requirement already satisfied: zipp>=3.1.0 in /usr/local/lib/python3.7/dist-packages (from importlib-resources->hydra-core->fairseq==0.10.2->-r requirements.txt (line 3)) (3.5.0)\n"
          ]
        }
      ]
    },
    {
      "cell_type": "code",
      "metadata": {
        "colab": {
          "base_uri": "https://localhost:8080/"
        },
        "id": "qpHRP7ne6QhI",
        "outputId": "c2764507-38f4-4c2b-9b9a-6690c043a52b"
      },
      "source": [
        "!bash de-en.sh"
      ],
      "execution_count": 5,
      "outputs": [
        {
          "output_type": "stream",
          "name": "stdout",
          "text": [
            "Downloading de-en\n",
            "--2021-09-06 16:11:10--  https://surfdrive.surf.nl/files/index.php/s/8lnmJPX3iXndRpz/download\n",
            "Resolving surfdrive.surf.nl (surfdrive.surf.nl)... 145.100.27.67, 2001:610:108:203b:0:a11:da7a:5afe\n",
            "Connecting to surfdrive.surf.nl (surfdrive.surf.nl)|145.100.27.67|:443... connected.\n",
            "HTTP request sent, awaiting response... 200 OK\n",
            "Length: 1097465344 (1.0G) [application/x-tar]\n",
            "Saving to: ‘models/fairseq/de-en.tar’\n",
            "\n",
            "models/fairseq/de-e 100%[===================>]   1.02G  23.4MB/s    in 52s     \n",
            "\n",
            "2021-09-06 16:12:02 (20.3 MB/s) - ‘models/fairseq/de-en.tar’ saved [1097465344/1097465344]\n",
            "\n",
            "Uncompressing\n",
            "._de-en\n",
            "de-en/\n",
            "de-en/._prep-newstest2018.sh\n",
            "de-en/prep-newstest2018.sh\n",
            "de-en/._dict.de.txt\n",
            "de-en/dict.de.txt\n",
            "de-en/._.DS_Store\n",
            "de-en/.DS_Store\n",
            "de-en/._sentencepiece.bpe.model.de\n",
            "de-en/sentencepiece.bpe.model.de\n",
            "de-en/._sentencepiece.bpe.model.en\n",
            "de-en/sentencepiece.bpe.model.en\n",
            "de-en/._README.md\n",
            "de-en/README.md\n",
            "de-en/._sentencepiece.bpe.vocab.de\n",
            "de-en/sentencepiece.bpe.vocab.de\n",
            "de-en/._dict.en.txt\n",
            "de-en/dict.en.txt\n",
            "de-en/data/\n",
            "de-en/._sentencepiece.bpe.vocab.en\n",
            "de-en/sentencepiece.bpe.vocab.en\n",
            "de-en/._mle\n",
            "de-en/mle/\n",
            "de-en/._truecaser\n",
            "de-en/truecaser/\n",
            "de-en/truecaser/._truecase-model.en\n",
            "de-en/truecaser/truecase-model.en\n",
            "de-en/truecaser/._truecase-model.de\n",
            "de-en/truecaser/truecase-model.de\n",
            "de-en/mle/._averaged_model.pt\n",
            "de-en/mle/averaged_model.pt\n",
            "de-en/mle/._train.log\n",
            "de-en/mle/train.log\n",
            "de-en/data/._newstest2018.de-en.en\n",
            "de-en/data/newstest2018.de-en.en\n",
            "de-en/data/._news-commentary-v12.de-en.en\n",
            "de-en/data/news-commentary-v12.de-en.en\n",
            "de-en/data/._newstest2018.de-en.de\n",
            "de-en/data/newstest2018.de-en.de\n",
            "de-en/data/._news-commentary-v12.de-en.de\n",
            "de-en/data/news-commentary-v12.de-en.de\n",
            "Check: models/fairseq/de-en\n"
          ]
        }
      ]
    },
    {
      "cell_type": "markdown",
      "metadata": {
        "id": "KBDGcn64e0qE"
      },
      "source": [
        "# Neural machine translation\n",
        "\n",
        "Given an input $x$ (i.e., a sentence in a source language), a trained NMT model predicts a conditional distribution $Y|X=x, \\theta$ over all possible target-language translations of $x$. \n",
        "\n",
        "The sample space $\\mathcal Y$ of the model is the set of all sequences of the form $(y_1, \\ldots, y_N)$ where $y_n$ belongs to a vocabulary of known target-language symbols, $N \\ge 1$ is the sequence length, and $y_N$ is a special end-of-sequence (EOS) symbol.\n",
        "\n",
        "An outcome $y \\in \\mathcal Y$ is assigned probability mass:\n",
        "\n",
        "\\begin{align}\n",
        "P_{Y|X}(y|x,\\theta) &= \\prod_{n=1}^{N} \\mathrm{Cat}(y_n|f(x, y_{<n}; \\theta))\n",
        "\\end{align}\n",
        "\n",
        "where $y_{<n}$ is the sequence of tokens before the $n$th token, and $f(\\cdot; \\theta)$ is a neural network architecture with parameters $\\theta$.\n"
      ]
    },
    {
      "cell_type": "markdown",
      "metadata": {
        "id": "bK8jgONEgakO"
      },
      "source": [
        "In the previous section you downloaded a pre-trained NMT model, that is, a specific choice of architecture (a Transformer encoder-decoder model) and a collection of parameters $\\theta$. This model was trained to maximise the model's likelihood given a dataset of observations (i.e., our training data). \n",
        "\n",
        "You can load the trained model using `demo.load`:"
      ]
    },
    {
      "cell_type": "code",
      "metadata": {
        "id": "qrBpkAmWgTvS"
      },
      "source": [
        "from demo import load"
      ],
      "execution_count": 6,
      "outputs": []
    },
    {
      "cell_type": "markdown",
      "metadata": {
        "id": "-jIU7ONxda4j"
      },
      "source": [
        "The next line will take a moment."
      ]
    },
    {
      "cell_type": "code",
      "metadata": {
        "id": "RA0fATt1ku7s"
      },
      "source": [
        "model = load(src='de', tgt='en', np_seed=10, torch_seed=10)"
      ],
      "execution_count": 7,
      "outputs": []
    },
    {
      "cell_type": "markdown",
      "metadata": {
        "id": "lXexv1i2jvoO"
      },
      "source": [
        "Given an input, a trained model can assign probability to known translations, as well as, be used to draw translation candidates."
      ]
    },
    {
      "cell_type": "markdown",
      "metadata": {
        "id": "oChT3fOAhBgK"
      },
      "source": [
        "## Assigning probability \n",
        "\n",
        "Let's first see how to compute the surprisal of a given translation (i.e, the negative logarithm of the outcome's probability):"
      ]
    },
    {
      "cell_type": "code",
      "metadata": {
        "id": "IdQrUm7Ujn9y"
      },
      "source": [
        "# Here is an example input in German and its human translation in English\n",
        "example_x = \"Es war noch nie leicht, ein rationales Gespräch über den Wert von Gold zu führen.\"\n",
        "example_y = \"It has never been easy to have a rational conversation about the value of gold.\""
      ],
      "execution_count": 8,
      "outputs": []
    },
    {
      "cell_type": "code",
      "metadata": {
        "colab": {
          "base_uri": "https://localhost:8080/"
        },
        "id": "2N7kPLu9hTXh",
        "outputId": "6faef2b4-82cc-4dcb-db73-090882cdca5e"
      },
      "source": [
        "# Surprisal is the negative of the log-probability of the outcome\n",
        "surp_obs = model.x2y.surprisal(\n",
        "    example_x, \n",
        "    example_y\n",
        ")['surprisal']\n",
        "print(surp_obs, (-surp_obs).exp())"
      ],
      "execution_count": 9,
      "outputs": [
        {
          "output_type": "stream",
          "name": "stdout",
          "text": [
            "tensor([3.3471]) tensor([0.0352])\n"
          ]
        }
      ]
    },
    {
      "cell_type": "markdown",
      "metadata": {
        "id": "EedCdpt4icqZ"
      },
      "source": [
        "## Drawing samples\n",
        "\n",
        "Now let's see how to draw translation candidates from the model distribution:"
      ]
    },
    {
      "cell_type": "code",
      "metadata": {
        "colab": {
          "base_uri": "https://localhost:8080/"
        },
        "id": "MA_Q4P5ZhA0c",
        "outputId": "de65bf9e-653f-443a-9261-1f2ed54c9c4c"
      },
      "source": [
        "for y in model.x2y.ancestral_sampling(example_x, num_samples=10)['output']:\n",
        "    print(y)"
      ],
      "execution_count": 10,
      "outputs": [
        {
          "output_type": "stream",
          "name": "stderr",
          "text": [
            "/usr/local/lib/python3.7/dist-packages/torch/_tensor.py:575: UserWarning: floor_divide is deprecated, and will be removed in a future version of pytorch. It currently rounds toward 0 (like the 'trunc' function NOT 'floor'). This results in incorrect rounding for negative values.\n",
            "To keep the current behavior, use torch.div(a, b, rounding_mode='trunc'), or for actual floor division, use torch.div(a, b, rounding_mode='floor'). (Triggered internally at  /pytorch/aten/src/ATen/native/BinaryOps.cpp:467.)\n",
            "  return torch.floor_divide(self, other)\n"
          ]
        },
        {
          "output_type": "stream",
          "name": "stdout",
          "text": [
            "It has never been easy to talk rationally about gold's value.\n",
            "It has never been easy to start a rational conversation about the value of gold.\n",
            "It has never been easy to make a rational talk about the value of gold.\n",
            "It has never been easy to begin a rational conversation on the value of gold.\n",
            "It has never been easy to address the value of gold in a rational manner.\n",
            "It has never been easy to handle a rational conversation on the value of gold.\n",
            "Discussing gold's value rationally has never been easy.\n",
            "It is never easy to call a rational discussion about gold's value.\n",
            "It is never easy to talk rationally about gold value.\n",
            "We always enjoy discussing the value of gold.\n"
          ]
        }
      ]
    },
    {
      "cell_type": "markdown",
      "metadata": {
        "id": "LXM5swQei1sv"
      },
      "source": [
        "## Predicting a translation\n",
        "\n",
        "Given an input sentence $x$, a trained model predicts an entire distribution $Y|X=x, \\theta$ over the space $\\mathcal Y$ of possible translations. \n",
        "\n",
        "In order to pick a single translation candidate as our preferred translation, we need to introduce a criterion for decision making. Next, we recap two such criteria."
      ]
    },
    {
      "cell_type": "markdown",
      "metadata": {
        "id": "rG4lq8rle4oO"
      },
      "source": [
        "### Maximum-a-posterior decoding \n",
        "\n",
        "MAP decoding tells us to pick the most probable translation.\n",
        "\\begin{align}\n",
        "y^{\\mathrm{mode}} &= \\arg\\max_{h \\in \\mathcal Y} ~ P_{Y|X}(h|x, \\theta)\n",
        "\\end{align}\n",
        "\n",
        "As the space $\\mathcal Y$ is unbounded and the NMT model makes no Markov assumptions, this search is intractable. In practice, we approximate the decision rule searching through a beam of probable translations. \n",
        "\n",
        "\\begin{align}\n",
        "y^{\\mathrm{beam}} &= \\arg\\max_{h \\in \\mathrm{beam}(x)} ~  P_{Y|X}(h|x, \\theta)\n",
        "\\end{align}"
      ]
    },
    {
      "cell_type": "code",
      "metadata": {
        "colab": {
          "base_uri": "https://localhost:8080/"
        },
        "id": "pL8Xn3zEknNz",
        "outputId": "036ec105-43dd-4918-e930-4137e445b40b"
      },
      "source": [
        "beam = model.x2y.beam_search(example_x, beam_size=5)\n",
        "for y, surp in zip(beam['output'], beam['surprisal']):\n",
        "    print(f\"{surp:.4f}\\t{y}\")\n",
        "y_map = beam['output'][0]"
      ],
      "execution_count": 11,
      "outputs": [
        {
          "output_type": "stream",
          "name": "stdout",
          "text": [
            "2.4119\tIt has never been easy to talk rationally about the value of gold.\n",
            "3.3470\tIt has never been easy to have a rational conversation about the value of gold.\n",
            "3.6803\tIt has never been easy to discuss the value of gold rationally.\n",
            "4.6698\tIt has never been easy to discuss the value of gold in a rational way.\n",
            "5.7409\tIt has never been easy to discuss the value of gold in a rational manner.\n"
          ]
        }
      ]
    },
    {
      "cell_type": "markdown",
      "metadata": {
        "id": "0PDf4AxfkmnW"
      },
      "source": [
        "**Some things to note**\n",
        "\n",
        "* Often, the beam search translation has much higher probability (lower suprisal) than the reference translation.\n",
        "* Often, if you increase the `beam_size` parameter, beam search will find translations that are even more probable (even lower surprisal).\n"
      ]
    },
    {
      "cell_type": "markdown",
      "metadata": {
        "id": "HbhoKOcXe6pa"
      },
      "source": [
        "### Minimum Bayes risk decoding\n",
        "\n",
        "MBR decoding tells us to pick the translation that has highest expected utility:\n",
        "\n",
        "\\begin{align}\n",
        "y^{\\text{mbr}} &= \\arg\\max_{h \\in \\mathcal Y} ~ \\underbrace{\\mathbb E[u(Y, h; x)|x, \\theta]}_{=: \\mu_u(h; x, \\theta)} \\\\\n",
        "&= \\arg\\max_{h \\in \\mathcal Y} ~ \\sum_{y \\in \\mathcal Y} u(y, h; x) P_{Y|X}(y|x, \\theta)\n",
        "\\end{align}\n",
        "\n",
        "where a utility function $u(y, h; x)$ quantifies the benefit of choosing $h$ as the translation of $x$, when $y$ is the correct (or preferred) translation.\n",
        "\n",
        "There are two sources of intractability in MBR decoding. First,  just like in MAP decoding, the search space (i.e., the sample space $\\mathcal Y$) is unbounded. Second, for any given candidate translation $h$, the expected utility $\\mu_u(h; x, \\theta) = \\mathbb E[u(Y, h; x)|x, \\theta]$ is intractable to compute. \n",
        "\n",
        "[Eikema and Aziz (2020)](https://www.aclweb.org/anthology/2020.coling-main.398/) propose to  \n",
        "\n",
        "1. approximate the hypothesis space by a tractable subset of hypotheses $\\mathcal H(x)$ obtained by sampling from the model;\n",
        "2. approximate the expected value using Monte Carlo (MC).\n",
        "\n",
        "The decision rule becomes\n",
        "\n",
        "\\begin{align}\n",
        "y^{\\text{smbr}} &= \\arg\\max_{h \\in \\mathcal H(x)} ~ \\underbrace{\\frac{1}{S} \\sum_{s=1}^S u(y^{(s)}, h; x)}_{=: \\hat\\mu_u(h; x, \\theta)}\n",
        "\\end{align}\n",
        "\n",
        "where $y^{(s)} \\sim Y|X=x, \\theta$ is a sample from the NMT model (samples can be drawn efficiently via ancestral sampling).\n",
        "\n",
        "For much more on sampling-based MBR see also [Eikema and Aziz (2021)](https://arxiv.org/abs/2108.04718)."
      ]
    },
    {
      "cell_type": "markdown",
      "metadata": {
        "id": "A8R6TSfimfe2"
      },
      "source": [
        "We have prepared a number of helpers for the demo. "
      ]
    },
    {
      "cell_type": "code",
      "metadata": {
        "id": "2ZM1BRRzdEDP"
      },
      "source": [
        "from demo import SampleFromNMT, CachedSampler, Utility, MBR"
      ],
      "execution_count": 12,
      "outputs": []
    },
    {
      "cell_type": "markdown",
      "metadata": {
        "id": "Ncx8j4MymjZW"
      },
      "source": [
        "Let's start by picking a utility function. In this demo we will assign utility using ChrF, a metric for automatic assessment of translation quality that works by comparing a translation candidate (a hypothesis) to a reference translation. "
      ]
    },
    {
      "cell_type": "code",
      "metadata": {
        "id": "9LgcfiQFk-ok"
      },
      "source": [
        "from sacrebleu import sentence_chrf"
      ],
      "execution_count": 13,
      "outputs": []
    },
    {
      "cell_type": "markdown",
      "metadata": {
        "id": "QUgnna1um28J"
      },
      "source": [
        "For modularity, we need to make chrf compatible with `demo.Utility`, so here is a thin wrapper for that:"
      ]
    },
    {
      "cell_type": "code",
      "metadata": {
        "id": "lf1cJ56ylBw8"
      },
      "source": [
        "class ChrF(Utility):\n",
        "    \n",
        "    def __call__(self, src: str, hyp: str, ref: str) -> float:\n",
        "        return sentence_chrf(hyp, [ref]).score  # note that chrf does not make use of the source sentence\n",
        "\n",
        "chrf = ChrF()    "
      ],
      "execution_count": 14,
      "outputs": []
    },
    {
      "cell_type": "markdown",
      "metadata": {
        "id": "BC9e_PjAnFrb"
      },
      "source": [
        "We then need a space of translation candidates, which MBR will score and rank. It's rather natural to use the NMT model itself to obtain such a hypothesis space, for example, via ancestral sampling:"
      ]
    },
    {
      "cell_type": "code",
      "metadata": {
        "colab": {
          "base_uri": "https://localhost:8080/"
        },
        "id": "gy9V9W62k7DM",
        "outputId": "9d86809d-9ef6-420b-bfbf-6b3913cda48b"
      },
      "source": [
        "# Duplicate translations do not change the result of MBR, so we discard duplicates\n",
        "hyp_space = list(set(model.x2y.ancestral_sampling(example_x, num_samples=100)['output']))\n",
        "len(hyp_space)"
      ],
      "execution_count": 15,
      "outputs": [
        {
          "output_type": "execute_result",
          "data": {
            "text/plain": [
              "78"
            ]
          },
          "metadata": {},
          "execution_count": 15
        }
      ]
    },
    {
      "cell_type": "markdown",
      "metadata": {
        "id": "H_hBZxOynYsy"
      },
      "source": [
        "MBR requires a sampler for MC estimation, here we construct one."
      ]
    },
    {
      "cell_type": "code",
      "metadata": {
        "id": "KUHOPU3RlGFP"
      },
      "source": [
        "nmt_sampler = SampleFromNMT(model.x2y, sample_size=100)"
      ],
      "execution_count": 16,
      "outputs": []
    },
    {
      "cell_type": "code",
      "metadata": {
        "colab": {
          "base_uri": "https://localhost:8080/"
        },
        "id": "W7SRKy3olHqr",
        "outputId": "8a111a24-9930-4f32-f01a-8ffa6c7933c4"
      },
      "source": [
        "nmt_sampler(example_x)"
      ],
      "execution_count": 17,
      "outputs": [
        {
          "output_type": "execute_result",
          "data": {
            "text/plain": [
              "['It has never been easy to talk rationally about the value of gold.',\n",
              " 'It has never been easy to talk rationally about the value of gold.',\n",
              " 'It has never been easy to talk rationally about the value of gold.',\n",
              " 'It has never been easy to talk rationally about the value of gold.',\n",
              " 'It has never been easy to talk rationally about the value of gold.',\n",
              " 'It has never been easy to talk rationally about the value of gold.',\n",
              " 'It has never been easy to talk rationally about the value of gold.',\n",
              " 'It has never been easy to talk rationally about the value of gold.',\n",
              " 'It has never been easy to talk rationally about the value of gold.',\n",
              " 'It has never been easy to talk rationally about the value of gold.',\n",
              " 'It has never been easy to have a rational conversation about the value of gold.',\n",
              " 'It has never been easy to have a rational conversation about the value of gold.',\n",
              " 'It has never been easy to have a rational conversation about the value of gold.',\n",
              " 'It has never been easy to engage in a rational conversation about the value of gold.',\n",
              " 'It has never been easy to discuss the value of gold rationally.',\n",
              " 'It has never been easy to discuss the value of gold rationally.',\n",
              " 'It has never been easy to discuss the value of gold rationally.',\n",
              " 'It has never been easy to discuss the value of gold rationally.',\n",
              " 'It has never been easy to discuss the value of gold rationally.',\n",
              " 'It has never been easy to discuss the value of gold rationally.',\n",
              " 'It has never been easy to enter into a rational conversation about the value of gold.',\n",
              " 'It has never been easy to have a rational discussion about the value of gold.',\n",
              " 'It has never been easy to have a rational conversation on the value of gold.',\n",
              " 'It has never been easy to engage in rational conversation about the value of gold.',\n",
              " 'It has never been easy to engage rationally in a conversation about the value of gold.',\n",
              " 'It has never been easy to conduct a rational conversation on the value of gold.',\n",
              " 'It has never been easy to conduct a rational discussion about the value of gold.',\n",
              " \"It was never easy to have a rational conversation about gold's value.\",\n",
              " 'It has never been easy to engage in rational talk about the value of gold.',\n",
              " 'It has never been easy to have a rational debate about the value of gold.',\n",
              " 'It has never been easy to direct a rational conversation about the value of gold.',\n",
              " \"It has never been easy to make a rational discussion about gold's value.\",\n",
              " 'It has never been easy to talk rationally about gold.',\n",
              " 'It has never been easy to discuss the value of gold on a rational basis.',\n",
              " \"It has never been easy to converse rationally about gold's value.\",\n",
              " 'It has never been easy to talk sensibly about the value of gold.',\n",
              " \"It has never been easy to have a rational exchange on gold's value.\",\n",
              " \"It has never been easy to talk sensibly about gold's value.\",\n",
              " 'It has never been easy to have a rational exchange of minds about the value of gold.',\n",
              " \"To have a rational conversation about gold's value has never been easy.\",\n",
              " 'It has never been easy, ever, to engage in a rational conversation about the value of gold.',\n",
              " 'It has never been easy to craft a rational discussion about the value of gold.',\n",
              " 'It has never been easy to proceed with a rational conversation about the value of gold.',\n",
              " 'It has never been easy to come to a rational discussion about the value of gold.',\n",
              " '\"It has never been easy to speak rationally about the value of gold.',\n",
              " 'It has never been easy to engage in rational discussions of the value of gold.',\n",
              " 'It has never always been easy to talk rationally about the value of gold.',\n",
              " 'It has never been easy to enter a rational conversation over the value of gold.',\n",
              " 'It has never been easy to talk rationally about the value of Gold.',\n",
              " 'It has never been easy to carry out a rational talk about the value of gold.',\n",
              " 'It has never been easy to have a rational conversation about the amount of gold.',\n",
              " 'It has never been easy to make rational exchanges about the value of gold.',\n",
              " 'It used to be easy to talk rationally about the value of gold.',\n",
              " 'It has never been easy to drink a rational conversation about the value of gold.',\n",
              " \"It has never been easy to engage rationally with talk about gold's value.\",\n",
              " 'Talking rationally about the value of gold was never easy.',\n",
              " 'A rational exchange of views about the value of gold has never been easy.',\n",
              " 'Living a rational conversation about the value of gold has never been easy.',\n",
              " '\"It has never been easy to have a rational conversation about gold.',\n",
              " 'It has never been easy to engage in rational management of the value of gold.',\n",
              " 'It was never easy to have a rational chat about the value of gold.',\n",
              " 'The value of gold has never been easy to talk rationally about.',\n",
              " 'It has never been easy to hold a low-key conversation about the value of gold.',\n",
              " 'Conducting rational talks about the value of gold has never been easy.',\n",
              " 'It has never been easier to engage in rational talk of the value of gold.',\n",
              " 'Measuring the value of gold has never been easy.',\n",
              " 'It has never been easy to enter into a rational human conversation about the value of gold.',\n",
              " 'There has never been a simple dialogue about the value of gold.',\n",
              " 'It was never easy to talk rationally about the gold value.',\n",
              " 'It was never easy to get any rational conversation about the value of gold.',\n",
              " 'Making rational conversation about the value of gold has never been easy.',\n",
              " \"Indeed, it's never made easy to talk rationally about the value of gold.\",\n",
              " 'It has never been easy to hold rational informed discussions about the value of gold.',\n",
              " 'It has never been easy to clash in rational terms about the value of gold.',\n",
              " 'It has never been easier to embark on rational talk about the value of gold.',\n",
              " 'It has always been easier to converse rationally about the value of gold.',\n",
              " 'Placing a rational conversation on the value of gold was never easy.',\n",
              " 'To be reasonable about the value of gold has never been easy.',\n",
              " 'It has never been easy to be coherent with the value of gold.',\n",
              " 'It has never been simple to purposefully talk about the value of gold.',\n",
              " 'It has never been easy to be rational in the eyes of a conversation about gold.',\n",
              " 'It never was easy to engage in a rational conversation about gold-like values.',\n",
              " 'Raising any rationality about the value of gold has never been easy.',\n",
              " 'Conducting rational words about the value of gold has never been easy.',\n",
              " 'At one point it has never been easy to discuss the real value of gold rationally.',\n",
              " 'This was not easy to reach a rational conversation about the value of gold.',\n",
              " 'It has never been easy to talk rationally on how well gold will be worth.',\n",
              " 'It has never been easy to conduct rational debate about property & # x02BC; s value.',\n",
              " 'No rational point being made about the value of gold has ever been easy.',\n",
              " 'It has never been easy to achieve a rational taxation of gold.',\n",
              " 'It has never been easy to tear rhetoric about the value of gold to crisis.',\n",
              " \"It is never easy to bring anyone back to a rational point of view about gold's value.\",\n",
              " 'The way it is rationally spent on the value of gold has never been easy to discage.',\n",
              " 'Raising comprehension about gold values has never been easy;',\n",
              " 'There has never been a business touch on when anyone has talked rationally about gold values.',\n",
              " 'A rational discussion about the gold value has never I had a mind come along.',\n",
              " 'Anyone who had some information on gold buying a shelf like fluxes had the opportunity to view the buying price of gold in real companies with in mind.',\n",
              " 'The European Union has been relying on a genuine individual for many years to reinforce our national political action and root causes.',\n",
              " '€? What budget was distributed for the profit from the gold granted?',\n",
              " 'Proposes powdered financial benefits for beginning buyers. Small and medium-sized companies is going to purchase DLCGs, but the forced selling them till the end meant lending money to their customers integrated in the marketplace.']"
            ]
          },
          "metadata": {},
          "execution_count": 17
        }
      ]
    },
    {
      "cell_type": "markdown",
      "metadata": {
        "id": "HJbnYuc0no7f"
      },
      "source": [
        "Sampling on CPU may be considered an expensive operation, as in MBR we need to draw samples repeatedly for each candidate in the hypothesis space, we may consider using a single shared pool of samples for all candidates. `demo.CachedSampler` is a helper for that."
      ]
    },
    {
      "cell_type": "code",
      "metadata": {
        "id": "oSOscTy9lJKw"
      },
      "source": [
        "cached_sampler = CachedSampler(nmt_sampler, sample_size=30)"
      ],
      "execution_count": 18,
      "outputs": []
    },
    {
      "cell_type": "code",
      "metadata": {
        "colab": {
          "base_uri": "https://localhost:8080/"
        },
        "id": "wLN_3-2nq6V4",
        "outputId": "13890b02-e288-41dc-f4ec-d28d1d4f13c3"
      },
      "source": [
        "cached_sampler(example_x)"
      ],
      "execution_count": 19,
      "outputs": [
        {
          "output_type": "execute_result",
          "data": {
            "text/plain": [
              "['It was never easy to discuss the value of gold rationally.',\n",
              " 'Speaking of the value of gold has never been easy.',\n",
              " 'It has never been easy to start through a rational conversation about the value of the gold.',\n",
              " 'Bond value was never easy to breathe: It was never the easy moment to talk rationally about the value of gold.',\n",
              " 'It has never been easy to make a rational conversation about currency values.',\n",
              " \"It was never easy to talk rationally about gold's value.\",\n",
              " 'It has never been easy to discuss the value of gold in a rational manner.',\n",
              " 'It has never been easy to discuss the value of gold more rationally.',\n",
              " 'It has never been easy to discuss the value of gold more rationally.',\n",
              " 'Any rational discussion on the value of gold has never been easy.',\n",
              " 'Rational talk about a gold value has never been easy.',\n",
              " 'Professor Guisenberg presided over an art test in 1952, designed by Thomas Altowski.',\n",
              " 'It has never been easy to hold a rational conversation about currency values.',\n",
              " 'It has never been easy to set a rational conversation about the value of gold.',\n",
              " 'It has never been easy to discuss the value of gold more rationally.',\n",
              " 'It has never been easy to enter into a rational conversation about the value of gold.',\n",
              " 'It has never been easy to enter into a rational conversation about the value of gold.',\n",
              " 'It has never been easy to discuss the value of gold in a rational way.',\n",
              " 'It has never been easy to enter into a rational conversation about the value of gold.',\n",
              " 'It has never been easy to keep a reasonable conversation about the value of gold.',\n",
              " 'It has never been easy to discuss the value of gold rationally.',\n",
              " 'A rational conversation about the value of gold has never been easy.',\n",
              " 'Any rational discussion on the value of gold has never been easy.',\n",
              " 'It has never been easy to enter into a rational conversation about the value of gold.',\n",
              " \"It's never been simple to have a rational conversation about gold's value.\",\n",
              " 'It has never been easy to have a rational conversation on the value of gold.',\n",
              " 'It has never been easy to discuss in a rational way the value of gold.',\n",
              " 'It has never been easy to regard the value of gold in a rational fashion.',\n",
              " 'It has never been easy to talk rationally about the value of gold.',\n",
              " \"It has never been easy to engage in rational conversation about gold's cost.\",\n",
              " 'It has never been easy to make a rational conversation about the value of gold.',\n",
              " \"A rational conversation about gold's value has never been easy.\",\n",
              " 'Today, the rapid have hardly been a group which honestly told, or the Spobiros are Québecians.',\n",
              " 'It has never been easy to make a rational conversation about currency values.',\n",
              " 'It has never been easy to make a rational conversation about currency values.',\n",
              " 'It has never been easy to engage in a rational conversation about the value of gold.',\n",
              " 'It has never been easy to input a rational conversation about price of gold.',\n",
              " \"It's never easier to talk rationally about the value of gold.\",\n",
              " 'It has never been easy to talk rationally about gold.',\n",
              " 'It has never been quick to engage in rational conversations about the value of gold.',\n",
              " 'An informed discussion about the value of gold was never easy.',\n",
              " 'It has never been easy to discuss the value of gold in a rational way.',\n",
              " 'Professor Guisenberg presided over an art test in 1952, designed by Thomas Altowski.',\n",
              " 'It has never been easy to conduct a rational conversation on the value of gold.',\n",
              " 'It has never been easy to have a rational conversation about the value of gold.',\n",
              " 'It has never been easy to start through a rational conversation about the value of the gold.',\n",
              " 'Having a rational conversation about the value of gold has never been easy; this will probably mean the exchange of money.',\n",
              " 'It has never been easy to regard the value of gold in a rational fashion.',\n",
              " 'Discussions of a caliber of gold came too early.',\n",
              " 'Discussions of a caliber of gold came too early.']"
            ]
          },
          "metadata": {},
          "execution_count": 19
        }
      ]
    },
    {
      "cell_type": "code",
      "metadata": {
        "id": "x9RbgW0Alxh2"
      },
      "source": [
        "mbr = MBR(chrf, cached_sampler)  # This version of MBR is what Eikema and Aziz (2021) call MBR N-by-S"
      ],
      "execution_count": 20,
      "outputs": []
    },
    {
      "cell_type": "code",
      "metadata": {
        "colab": {
          "base_uri": "https://localhost:8080/",
          "height": 37
        },
        "id": "6n4zP4QIl1zW",
        "outputId": "13cb4922-9ac6-4465-fa71-d53757a931ed"
      },
      "source": [
        "y_mbr = mbr.decode(example_x, hyp_space)\n",
        "y_mbr"
      ],
      "execution_count": 21,
      "outputs": [
        {
          "output_type": "execute_result",
          "data": {
            "application/vnd.google.colaboratory.intrinsic+json": {
              "type": "string"
            },
            "text/plain": [
              "'It has never been easy to make any rational conversation about the value of gold.'"
            ]
          },
          "metadata": {},
          "execution_count": 21
        }
      ]
    },
    {
      "cell_type": "code",
      "metadata": {
        "colab": {
          "base_uri": "https://localhost:8080/"
        },
        "id": "Bw0t9jkUrOZS",
        "outputId": "23cd8599-74be-446b-8009-d96f6a26e3fa"
      },
      "source": [
        "chrf(example_x, y_map, example_y), chrf(example_x, y_mbr, example_y)"
      ],
      "execution_count": 22,
      "outputs": [
        {
          "output_type": "execute_result",
          "data": {
            "text/plain": [
              "(0.6750826084658059, 0.8838063208456114)"
            ]
          },
          "metadata": {},
          "execution_count": 22
        }
      ]
    },
    {
      "cell_type": "code",
      "metadata": {
        "id": "WcX6X-6o5Kau"
      },
      "source": [
        "from tabulate import tabulate"
      ],
      "execution_count": 24,
      "outputs": []
    },
    {
      "cell_type": "code",
      "metadata": {
        "colab": {
          "base_uri": "https://localhost:8080/"
        },
        "id": "xt7-SP88pMXG",
        "outputId": "76a0cd49-f5e7-4032-f953-a73f4faf4318"
      },
      "source": [
        "rows = []\n",
        "for h, mu in sorted(zip(hyp_space, mbr.mus(example_x, hyp_space)), key=lambda pair: pair[1], reverse=True):\n",
        "    quality = chrf(example_x, h, example_y)\n",
        "    rows.append([mu, quality, h])\n",
        "print(tabulate(rows, headers=['E[chrf(x, h, Y)]', 'chrf(x, h, ref)', 'candidate']))"
      ],
      "execution_count": 25,
      "outputs": [
        {
          "output_type": "stream",
          "name": "stdout",
          "text": [
            "  E[chrf(x, h, Y)]    chrf(x, h, ref)  candidate\n",
            "------------------  -----------------  --------------------------------------------------------------------------------------------------------------------------------------------------------------------------------\n",
            "          0.664658           0.886664  It has never been easy to conduct a rational conversation about the value of gold.\n",
            "          0.659087           0.90062   It has never been easy to say a rational conversation about the value of gold.\n",
            "          0.655118           1         It has never been easy to have a rational conversation about the value of gold.\n",
            "          0.641811           0.90094   It has never been easy to do a rational conversation about the value of gold.\n",
            "          0.637213           0.835729  It has never been easy to have a rational conversation about gold's value.\n",
            "          0.633381           0.883806  It has never been easy to make any rational conversation about the value of gold.\n",
            "          0.628271           0.911187  It has never been easy to hold a rational conversation about the value of gold.\n",
            "          0.620876           0.817578  Conducting a rational conversation about the value of gold has never been easy.\n",
            "          0.618684           0.721071  It has never been easy to engage in a rational discussion about the value of gold.\n",
            "          0.617675           0.612032  It has never been easy to discuss the value of gold in a rational fashion.\n",
            "          0.617666           0.670212  It has never been easy to enter into dialogue rationally about the value of gold.\n",
            "          0.614589           0.60407   It has never been easy to discuss the value of gold in a rational way.\n",
            "          0.613682           0.675083  It has never been easy to talk rationally about the value of gold.\n",
            "          0.610339           0.886397  It has never been easy to thrill on a rational conversation about the value of gold.\n",
            "          0.606124           0.884556  It has never been easy to have a rational conversation over the value of gold.\n",
            "          0.605274           0.767775  It has never been easy to have a rational discussion about a meaning up to the value of gold.\n",
            "          0.602842           0.678189  It has never been easy to speak rationally about the value of gold.\n",
            "          0.596541           0.677154  It has never been easy to engage in rationality about the value of gold.\n",
            "          0.592622           0.587346  It has never been easy to discuss the value of gold rationally.\n",
            "          0.589643           0.714952  It has never been easy to conduct rational discussion about the value of gold.\n",
            "          0.586124           0.709362  It has never been easy to direct rational discussion about the value of gold.\n",
            "          0.583383           0.6227    It has never been easy to negotiate rationally on the value of gold.\n",
            "          0.580751           0.695361  It has never been easy to enter into a rational debate about the value of gold.\n",
            "          0.578215           0.618961  It has never been easy to engage in a rational dialogue on the value of gold.\n",
            "          0.576175           0.678455  It has never been easy to engage in rational debate about the value of gold.\n",
            "          0.573922           0.692405  It has never been easy to ask a rational word about the value of gold.\n",
            "          0.573308           0.618745  It's never been easy to talk rationally about the value of gold.\n",
            "          0.572303           0.62791   It has never been easy to be rational in the question of the value of gold.\n",
            "          0.571277           0.504081  It has never been easy to talk rationally about gold's value.\n",
            "          0.56936            0.650222  More generally, it has never been easy to speak rationally about the value of gold.\n",
            "          0.56746            0.67801   It has never been easy to be rational when talking about the value of gold.\n",
            "          0.564824           0.715683  It has never been easy to engage in a rational conversation about gold.\n",
            "          0.564819           0.730348  It has never been easy to conduct a rational conversation about gold values.\n",
            "          0.563938           0.677562  It has never been easy to engage in rational talk about the value of gold.\n",
            "          0.561168           0.792581  It has never been so easy to guide rational conversations about the value of gold.\n",
            "          0.560604           0.614493  But it has never been easy to enter into a rational debate on the value of gold.\n",
            "          0.558383           0.748634  It has never been easy to hold a rational conversation about gold's value.\n",
            "          0.553609           0.639809  It has never been easy to talk Rationally about the value of gold always.\n",
            "          0.548913           0.610123  It has never been easy to engage rationally on the value of gold.\n",
            "          0.54638            0.724392  It has never been easy to have a rational discussion of the value of gold.\n",
            "          0.545544           0.504081  \"It has never been easy to talk rationally about gold values.\n",
            "          0.542669           0.488271  It has never been easy to talk rationally about gold.\n",
            "          0.541175           0.813553  In order to sustain the quality, it has never been easy to have a rational conversation on the value of gold.\n",
            "          0.538226           0.744892  It has always been easier to keep a rational conversation about the value of gold.\n",
            "          0.537107           0.709403  Exchanging a rational conversation on the value of gold has never been easy.\n",
            "          0.534938           0.562835  It's never been easy to discern the value of gold and be a rational proposer.\n",
            "          0.527468           0.592258  It has never been easy to talk rationally about a value of gold.\n",
            "          0.523324           0.540816  It has never been easy to engage in rational discussion about gold's value.\n",
            "          0.506507           0.612627  It has never been easy to chat sensibly about the value of gold.\n",
            "          0.499075           0.531628  It was never easy to talk rationally about the value of gold.\n",
            "          0.496709           0.479668  It has never been easy to deal rationally with gold values.\n",
            "          0.49528            0.50747   It has never been easy still to discuss systematically the value of gold.\n",
            "          0.491318           0.764882  It has never been easy to have a rational conversation on gold's value.\n",
            "          0.486457           0.752891  It has always been easy to have an informal conversation about the value of gold.\n",
            "          0.486229           0.531629  Talking about the value of gold has never been easy.\n",
            "          0.478857           0.775973  It was never easy to hold a rational conversation about the value of gold.\n",
            "          0.476547           0.531508  It has never been easy to have rational talk on its value.\n",
            "          0.474625           0.631752  It has never been easy to keep a rational conversation focused on what gold ought to mean.\n",
            "          0.471237           0.424792  It has never been easy to discuss money rationally.\n",
            "          0.467101           0.460624  It was never easy to discuss the value of gold in a rational way.\n",
            "          0.461994           0.515633  It has never been easy to engage constructively with a given value of gold.\n",
            "          0.460473           0.489473  It has never been easy to be rational about gold.\n",
            "          0.439256           0.459534  It has never been easy to hold it rationally on incomes.\n",
            "          0.437783           0.560683  Indeed, it has never been simple to hold rational conversations about gold.\n",
            "          0.435147           0.464798  Discussing the value of gold with one another, universically speaking, has never been easy.\n",
            "          0.432098           0.631468  It used never to be easy to have a rational mindset about the value of gold.\n",
            "          0.431282           0.489732  \"Gold has never been easy to make a rational remark on what value it has to offer.\n",
            "          0.409525           0.435477  It's never been easy to put amounts to gold round about money in a rational way.\n",
            "          0.40589            0.451296  Discussing the value of gold has never been easy.\n",
            "          0.383871           0.403844  It's never been easy to start describing gold in a rational way.\n",
            "          0.383609           0.448246  One could never have seen a rational discussion about a value of gold facilitating this.\n",
            "          0.373323           0.358997  It is never easy or simply any rational discussion about gold's value.\n",
            "          0.35126            0.341711  To move independently, a bilateral transaction between the two was better. There was no time to discuss the value of the gold rationally.\n",
            "          0.336515           0.373002  It was never easy to be rational about gold with value.\n",
            "          0.281089           0.329801  Using energy for rational amendment of investors' price _ rumours and as services are reducing the effort linked with conversion, prices and exports have never been Frankfurt.\n",
            "          0.256596           0.261081  It's never a problem management talk about gold's value, as they reported a major theory - whether women like gold prizes or half a dollar awards - is uncomplicated.\n",
            "          0.236358           0.258179  Pragmatism and equivalence are both the objective and the test of mind. An incapable description is however: Rational meaning is dismissed as not the substance of a proper peg.\n",
            "          0.120835           0.100592  Getting to know gold is best possible.\n"
          ]
        }
      ]
    },
    {
      "cell_type": "code",
      "metadata": {
        "id": "oIdVKAOR8d4i"
      },
      "source": [
        ""
      ],
      "execution_count": null,
      "outputs": []
    },
    {
      "cell_type": "markdown",
      "metadata": {
        "id": "yLGYFCyn8eWK"
      },
      "source": [
        "### Analysis"
      ]
    },
    {
      "cell_type": "code",
      "metadata": {
        "id": "-j8MuP5T5wAI"
      },
      "source": [
        "import numpy as np\n",
        "import matplotlib.pyplot as plt"
      ],
      "execution_count": 27,
      "outputs": []
    },
    {
      "cell_type": "markdown",
      "metadata": {
        "id": "pihWy-jy8mTn"
      },
      "source": [
        "\n",
        "Here we analyse whether a candidate's expected utility $\\mu_u(h;x, \\theta)$ correlates with utility against the ground-truth. As $\\mu_u(h;x, \\theta)$ is intractable to  compute, we rely on stochastic estimates $\\hat\\mu_u(h;x, \\theta)$. \n"
      ]
    },
    {
      "cell_type": "code",
      "metadata": {
        "id": "ZbWtZuSL-oLv"
      },
      "source": [
        "from tqdm.auto import tqdm"
      ],
      "execution_count": 74,
      "outputs": []
    },
    {
      "cell_type": "markdown",
      "metadata": {
        "id": "pioxFdzMAi3D"
      },
      "source": [
        "We repeat the next experiment a number of times to account for variance, which may take some time."
      ]
    },
    {
      "cell_type": "code",
      "metadata": {
        "colab": {
          "base_uri": "https://localhost:8080/",
          "height": 49,
          "referenced_widgets": [
            "b586cc193394480d9f003d1c1e4631e5",
            "1f11297236b0450c841b6efee7bf48d5",
            "1ef66be6545d433bb255e356c4b9c067",
            "e42fa2107f9d472db4b8a51eaa2b5adc",
            "e917f2b6918c4366805e68092cb9009c",
            "36493bc452ee45478865d48a94897541",
            "c4034bf361ff4e45b6a0f2ef51d1ecd8",
            "ac6e84aef28b42268f67f8fde9be41db",
            "6d4edba9c19f4538ac8fd88c6a887a1d",
            "0ca9906b1a4844baa258b188975fecc6",
            "f635937081204a2e8cf771193867a2e0"
          ]
        },
        "id": "v_jfzt6z6ZVP",
        "outputId": "19510d68-76d2-4f1f-c7c4-2b4d01101f37"
      },
      "source": [
        "estimates = []\n",
        "# compute utility against reference\n",
        "for h in hyp_space:    \n",
        "    cached_sampler.reset()  #\n",
        "    u = chrf(example_x, h, example_y)  # use human reference\n",
        "    estimates.append([u])\n",
        "repetitions = 10  # let's repeat MC estimation a number of times to get a sense of variance    \n",
        "for _ in tqdm(range(repetitions)):\n",
        "    cached_sampler.reset()  # reset cache to obtain a better view of variance\n",
        "    for n, h in enumerate(hyp_space):         \n",
        "        estimates[n].append(mbr.mu(example_x, h))\n",
        "estimates = np.array(estimates)    "
      ],
      "execution_count": 75,
      "outputs": [
        {
          "output_type": "display_data",
          "data": {
            "application/vnd.jupyter.widget-view+json": {
              "model_id": "b586cc193394480d9f003d1c1e4631e5",
              "version_minor": 0,
              "version_major": 2
            },
            "text/plain": [
              "  0%|          | 0/10 [00:00<?, ?it/s]"
            ]
          },
          "metadata": {}
        }
      ]
    },
    {
      "cell_type": "code",
      "metadata": {
        "colab": {
          "base_uri": "https://localhost:8080/"
        },
        "id": "O1xofobo54mw",
        "outputId": "8aa99687-e13b-47bc-8ae5-1da7043c551d"
      },
      "source": [
        "estimates.shape"
      ],
      "execution_count": 76,
      "outputs": [
        {
          "output_type": "execute_result",
          "data": {
            "text/plain": [
              "(78, 11)"
            ]
          },
          "metadata": {},
          "execution_count": 76
        }
      ]
    },
    {
      "cell_type": "code",
      "metadata": {
        "colab": {
          "base_uri": "https://localhost:8080/",
          "height": 299
        },
        "id": "QRkSUvPA7Akb",
        "outputId": "f3d595d6-05a2-4fc2-d91b-a5831a342e14"
      },
      "source": [
        "_ = plt.errorbar(\n",
        "    estimates[:,0], estimates[:,1:].mean(1), yerr=estimates[:,1:].std(1) * 2, \n",
        "    marker='.', linestyle='', color='gray', label=r'mean and var of $\\hat\\mu_u(h;\\theta)$')\n",
        "_ = plt.title(\"Estimates of expected utility vs ground-truth utility\")\n",
        "_ = plt.xlabel(r'$u(y_{ref}, h; x)$')\n",
        "_ = plt.ylabel(r'$\\hat \\mu_u(h; x, \\theta)$')\n",
        "_ = plt.legend()"
      ],
      "execution_count": 115,
      "outputs": [
        {
          "output_type": "display_data",
          "data": {
            "image/png": "[encoded data removed]",
            "text/plain": [
              "<Figure size 432x288 with 1 Axes>"
            ]
          },
          "metadata": {
            "needs_background": "light"
          }
        }
      ]
    },
    {
      "cell_type": "code",
      "metadata": {
        "id": "a7sicmEi_zYY"
      },
      "source": [
        ""
      ],
      "execution_count": null,
      "outputs": []
    }
  ]
}