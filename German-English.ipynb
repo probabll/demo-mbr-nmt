{
  "nbformat": 4,
  "nbformat_minor": 0,
  "metadata": {
    "colab": {
      "name": "MBR demo.ipynb",
      "provenance": [],
      "collapsed_sections": [],
      "toc_visible": true,
      "authorship_tag": "ABX9TyP2JdrDDXzevT3idX3xjRRW",
      "include_colab_link": true
    },
    "kernelspec": {
      "display_name": "Python 3",
      "name": "python3"
    },
    "language_info": {
      "name": "python"
    }
  },
  "cells": [
    {
      "cell_type": "markdown",
      "metadata": {
        "id": "view-in-github",
        "colab_type": "text"
      },
      "source": [
        "<a href=\"https://colab.research.google.com/github/probabll/demo-mbr-nmt/blob/main/German-English.ipynb\" target=\"_parent\"><img src=\"https://colab.research.google.com/assets/colab-badge.svg\" alt=\"Open In Colab\"/></a>"
      ]
    },
    {
      "cell_type": "markdown",
      "metadata": {
        "id": "JzTFC_vDkIt7"
      },
      "source": [
        "# About\n",
        "\n",
        "This is a demo of sampling-based minimum Bayes risk decoding for NMT [(Eikema and Aziz, 2020)](https://www.aclweb.org/anthology/2020.coling-main.398/) for educational purposes. For a scalable implementation check [mbr_nmt](https://github.com/Roxot/mbr-nmt) and [(Eikema and Aziz, 2021)](https://arxiv.org/abs/2108.04718)."
      ]
    },
    {
      "cell_type": "markdown",
      "metadata": {
        "id": "q-B_PWy9j9h3"
      },
      "source": [
        "# Setting Up\n",
        "\n",
        "This part will take care of the following:\n",
        "\n",
        "1. Clone the repository `demo-mbr-nmt`.\n",
        "2. Install dependencies.\n",
        "3. Download pre-trained models."
      ]
    },
    {
      "cell_type": "code",
      "metadata": {
        "colab": {
          "base_uri": "https://localhost:8080/"
        },
        "id": "5y2fg4J7HRdC",
        "outputId": "33e11d45-5161-4cff-93aa-0d066e1a6fc0"
      },
      "source": [
        "!git clone https://github.com/probabll/demo-mbr-nmt.git"
      ],
      "execution_count": 1,
      "outputs": [
        {
          "output_type": "stream",
          "name": "stdout",
          "text": [
            "Cloning into 'demo-mbr-nmt'...\n",
            "remote: Enumerating objects: 66, done.\u001b[K\n",
            "remote: Counting objects: 100% (66/66), done.\u001b[K\n",
            "remote: Compressing objects: 100% (59/59), done.\u001b[K\n",
            "remote: Total 66 (delta 33), reused 14 (delta 6), pack-reused 0\u001b[K\n",
            "Unpacking objects: 100% (66/66), done.\n"
          ]
        }
      ]
    },
    {
      "cell_type": "code",
      "metadata": {
        "colab": {
          "base_uri": "https://localhost:8080/"
        },
        "id": "KmRje0VOHbJp",
        "outputId": "7e1db204-bef7-4b3d-fa28-8f73ade18510"
      },
      "source": [
        "cd demo-mbr-nmt"
      ],
      "execution_count": 2,
      "outputs": [
        {
          "output_type": "stream",
          "name": "stdout",
          "text": [
            "/content/demo-mbr-nmt\n"
          ]
        }
      ]
    },
    {
      "cell_type": "code",
      "metadata": {
        "colab": {
          "base_uri": "https://localhost:8080/"
        },
        "id": "30m1tJspczE9",
        "outputId": "62045beb-a550-4a5c-a11b-cc93e790e8c4"
      },
      "source": [
        "!git pull"
      ],
      "execution_count": 3,
      "outputs": [
        {
          "output_type": "stream",
          "name": "stdout",
          "text": [
            "Already up to date.\n"
          ]
        }
      ]
    },
    {
      "cell_type": "code",
      "metadata": {
        "colab": {
          "base_uri": "https://localhost:8080/"
        },
        "id": "3VdO2-whIEYs",
        "outputId": "7a02c942-6537-4059-96b8-1bfa43d8a86f"
      },
      "source": [
        "!pip install -r requirements.txt"
      ],
      "execution_count": 4,
      "outputs": [
        {
          "output_type": "stream",
          "name": "stdout",
          "text": [
            "Requirement already satisfied: torch in /usr/local/lib/python3.7/dist-packages (from -r requirements.txt (line 1)) (1.9.0+cu102)\n",
            "Requirement already satisfied: numpy in /usr/local/lib/python3.7/dist-packages (from -r requirements.txt (line 2)) (1.19.5)\n",
            "Requirement already satisfied: fairseq==0.10.2 in /usr/local/lib/python3.7/dist-packages (from -r requirements.txt (line 3)) (0.10.2)\n",
            "Requirement already satisfied: sacrebleu==1.5.1 in /usr/local/lib/python3.7/dist-packages (from -r requirements.txt (line 4)) (1.5.1)\n",
            "Requirement already satisfied: sacremoses==0.0.43 in /usr/local/lib/python3.7/dist-packages (from -r requirements.txt (line 5)) (0.0.43)\n",
            "Requirement already satisfied: sentencepiece==0.1.95 in /usr/local/lib/python3.7/dist-packages (from -r requirements.txt (line 6)) (0.1.95)\n",
            "Requirement already satisfied: dataclasses in /usr/local/lib/python3.7/dist-packages (from fairseq==0.10.2->-r requirements.txt (line 3)) (0.6)\n",
            "Requirement already satisfied: regex in /usr/local/lib/python3.7/dist-packages (from fairseq==0.10.2->-r requirements.txt (line 3)) (2019.12.20)\n",
            "Requirement already satisfied: tqdm in /usr/local/lib/python3.7/dist-packages (from fairseq==0.10.2->-r requirements.txt (line 3)) (4.62.0)\n",
            "Requirement already satisfied: cffi in /usr/local/lib/python3.7/dist-packages (from fairseq==0.10.2->-r requirements.txt (line 3)) (1.14.6)\n",
            "Requirement already satisfied: hydra-core in /usr/local/lib/python3.7/dist-packages (from fairseq==0.10.2->-r requirements.txt (line 3)) (1.1.1)\n",
            "Requirement already satisfied: cython in /usr/local/lib/python3.7/dist-packages (from fairseq==0.10.2->-r requirements.txt (line 3)) (0.29.24)\n",
            "Requirement already satisfied: portalocker==2.0.0 in /usr/local/lib/python3.7/dist-packages (from sacrebleu==1.5.1->-r requirements.txt (line 4)) (2.0.0)\n",
            "Requirement already satisfied: six in /usr/local/lib/python3.7/dist-packages (from sacremoses==0.0.43->-r requirements.txt (line 5)) (1.15.0)\n",
            "Requirement already satisfied: click in /usr/local/lib/python3.7/dist-packages (from sacremoses==0.0.43->-r requirements.txt (line 5)) (7.1.2)\n",
            "Requirement already satisfied: joblib in /usr/local/lib/python3.7/dist-packages (from sacremoses==0.0.43->-r requirements.txt (line 5)) (1.0.1)\n",
            "Requirement already satisfied: typing-extensions in /usr/local/lib/python3.7/dist-packages (from torch->-r requirements.txt (line 1)) (3.7.4.3)\n",
            "Requirement already satisfied: pycparser in /usr/local/lib/python3.7/dist-packages (from cffi->fairseq==0.10.2->-r requirements.txt (line 3)) (2.20)\n",
            "Requirement already satisfied: omegaconf==2.1.* in /usr/local/lib/python3.7/dist-packages (from hydra-core->fairseq==0.10.2->-r requirements.txt (line 3)) (2.1.1)\n",
            "Requirement already satisfied: antlr4-python3-runtime==4.8 in /usr/local/lib/python3.7/dist-packages (from hydra-core->fairseq==0.10.2->-r requirements.txt (line 3)) (4.8)\n",
            "Requirement already satisfied: importlib-resources in /usr/local/lib/python3.7/dist-packages (from hydra-core->fairseq==0.10.2->-r requirements.txt (line 3)) (5.2.2)\n",
            "Requirement already satisfied: PyYAML>=5.1.0 in /usr/local/lib/python3.7/dist-packages (from omegaconf==2.1.*->hydra-core->fairseq==0.10.2->-r requirements.txt (line 3)) (5.4.1)\n",
            "Requirement already satisfied: zipp>=3.1.0 in /usr/local/lib/python3.7/dist-packages (from importlib-resources->hydra-core->fairseq==0.10.2->-r requirements.txt (line 3)) (3.5.0)\n"
          ]
        }
      ]
    },
    {
      "cell_type": "code",
      "metadata": {
        "colab": {
          "base_uri": "https://localhost:8080/"
        },
        "id": "qpHRP7ne6QhI",
        "outputId": "7fc2c5f2-3131-408c-92f0-827a0db64860"
      },
      "source": [
        "!bash de-en.sh"
      ],
      "execution_count": 5,
      "outputs": [
        {
          "output_type": "stream",
          "name": "stdout",
          "text": [
            "Downloading de-en\n",
            "--2021-09-06 14:25:25--  https://surfdrive.surf.nl/files/index.php/s/8lnmJPX3iXndRpz/download\n",
            "Resolving surfdrive.surf.nl (surfdrive.surf.nl)... 145.100.27.67, 2001:610:108:203b:0:a11:da7a:5afe\n",
            "Connecting to surfdrive.surf.nl (surfdrive.surf.nl)|145.100.27.67|:443... connected.\n",
            "HTTP request sent, awaiting response... 200 OK\n",
            "Length: 1096181760 (1.0G) [application/x-tar]\n",
            "Saving to: ‘models/fairseq/de-en.tar’\n",
            "\n",
            "models/fairseq/de-e 100%[===================>]   1.02G  22.3MB/s    in 47s     \n",
            "\n",
            "2021-09-06 14:26:13 (22.0 MB/s) - ‘models/fairseq/de-en.tar’ saved [1096181760/1096181760]\n",
            "\n",
            "Uncompressing\n",
            "._de-en\n",
            "de-en/\n",
            "de-en/._prep-newstest2018.sh\n",
            "de-en/prep-newstest2018.sh\n",
            "de-en/._dict.de.txt\n",
            "de-en/dict.de.txt\n",
            "de-en/._.DS_Store\n",
            "de-en/.DS_Store\n",
            "de-en/._sentencepiece.bpe.model\n",
            "de-en/sentencepiece.bpe.model\n",
            "de-en/._README.md\n",
            "de-en/README.md\n",
            "de-en/._dict.en.txt\n",
            "de-en/dict.en.txt\n",
            "de-en/data/\n",
            "de-en/._sentencepiece.bpe.vocab\n",
            "de-en/sentencepiece.bpe.vocab\n",
            "de-en/._mle\n",
            "de-en/mle/\n",
            "de-en/._truecaser\n",
            "de-en/truecaser/\n",
            "de-en/truecaser/._truecase-model.en\n",
            "de-en/truecaser/truecase-model.en\n",
            "de-en/truecaser/._truecase-model.de\n",
            "de-en/truecaser/truecase-model.de\n",
            "de-en/mle/._averaged_model.pt\n",
            "de-en/mle/averaged_model.pt\n",
            "de-en/mle/._train.log\n",
            "de-en/mle/train.log\n",
            "de-en/data/._newstest2018.de-en.en\n",
            "de-en/data/newstest2018.de-en.en\n",
            "de-en/data/._news-commentary-v12.de-en.en\n",
            "de-en/data/news-commentary-v12.de-en.en\n",
            "de-en/data/._newstest2018.de-en.de\n",
            "de-en/data/newstest2018.de-en.de\n",
            "de-en/data/._news-commentary-v12.de-en.de\n",
            "de-en/data/news-commentary-v12.de-en.de\n",
            "Check: models/fairseq/de-en\n"
          ]
        }
      ]
    },
    {
      "cell_type": "markdown",
      "metadata": {
        "id": "etNl0aGqkCQp"
      },
      "source": [
        "# Theory"
      ]
    },
    {
      "cell_type": "markdown",
      "metadata": {
        "id": "KBDGcn64e0qE"
      },
      "source": [
        "## Neural machine translation\n",
        "\n",
        "Given an input $x$ (i.e., a sentence in a source language), a trained NMT model predicts a conditional distribution $Y|X=x, \\theta$ over all possible target-language translations of $x$. \n",
        "\n",
        "The sample space $\\mathcal Y$ of the model is the set of all sequences of the form $(y_1, \\ldots, y_N)$ where $y_n$ belongs to a vocabulary of known target-language symbols, $N \\ge 1$ is the sequence length, and $y_N$ is a special end-of-sequence (EOS) symbol.\n",
        "\n",
        "An outcome $y \\in \\mathcal Y$ is assigned probability mass:\n",
        "\n",
        "\\begin{align}\n",
        "P_{Y|X}(y|x,\\theta) &= \\prod_{n=1}^{N} \\mathrm{Cat}(y_n|f(x, y_{<n}; \\theta))\n",
        "\\end{align}\n",
        "\n",
        "where $y_{<n}$ is the sequence of tokens before the $n$th token, and $f(\\cdot; \\theta)$ is a neural network architecture with parameters $\\theta$.\n"
      ]
    },
    {
      "cell_type": "markdown",
      "metadata": {
        "id": "bK8jgONEgakO"
      },
      "source": [
        "In the previous section you downloaded a pre-trained NMT model, that is, a specific choice of architecture (a Transformer encoder-decoder model) and a collection of parameters $\\theta$. This model was trained to maximise the model's likelihood given a dataset of observations (i.e., our training data). \n",
        "\n",
        "You can load the trained model using `demo.load`:"
      ]
    },
    {
      "cell_type": "code",
      "metadata": {
        "id": "qrBpkAmWgTvS"
      },
      "source": [
        "from demo import load"
      ],
      "execution_count": 7,
      "outputs": []
    },
    {
      "cell_type": "markdown",
      "metadata": {
        "id": "-jIU7ONxda4j"
      },
      "source": [
        "The next line will take a moment."
      ]
    },
    {
      "cell_type": "code",
      "metadata": {
        "id": "RA0fATt1ku7s"
      },
      "source": [
        "model = load(src='de', tgt='en', np_seed=10, torch_seed=10)"
      ],
      "execution_count": 8,
      "outputs": []
    },
    {
      "cell_type": "markdown",
      "metadata": {
        "id": "lXexv1i2jvoO"
      },
      "source": [
        "Given an input, a trained model can assign probability to known translations, as well as, be used to draw translation candidates."
      ]
    },
    {
      "cell_type": "markdown",
      "metadata": {
        "id": "oChT3fOAhBgK"
      },
      "source": [
        "### Assigning probability \n",
        "\n",
        "Let's first see how to compute the surprisal of a given translation (i.e, the negative logarithm of the outcome's probability):"
      ]
    },
    {
      "cell_type": "code",
      "metadata": {
        "id": "IdQrUm7Ujn9y"
      },
      "source": [
        "# Here is an example input in German and its human translation in English\n",
        "example_x = \"Es war noch nie leicht, ein rationales Gespräch über den Wert von Gold zu führen.\"\n",
        "example_y = \"It has never been easy to have a rational conversation about the value of gold.\""
      ],
      "execution_count": 50,
      "outputs": []
    },
    {
      "cell_type": "code",
      "metadata": {
        "colab": {
          "base_uri": "https://localhost:8080/"
        },
        "id": "2N7kPLu9hTXh",
        "outputId": "1bd72cb1-a151-4a25-8f32-49f2a2e2ea62"
      },
      "source": [
        "# Surprisal is the negative of the log-probability of the outcome\n",
        "surp_obs = model.x2y.surprisal(\n",
        "    example_x, \n",
        "    example_y\n",
        ")['surprisal']\n",
        "print(surp_obs, (-surp_obs).exp())"
      ],
      "execution_count": 51,
      "outputs": [
        {
          "output_type": "stream",
          "name": "stdout",
          "text": [
            "tensor([3.3471]) tensor([0.0352])\n"
          ]
        }
      ]
    },
    {
      "cell_type": "markdown",
      "metadata": {
        "id": "EedCdpt4icqZ"
      },
      "source": [
        "### Drawing samples\n",
        "\n",
        "Now let's see how to draw translation candidates from the model distribution:"
      ]
    },
    {
      "cell_type": "code",
      "metadata": {
        "colab": {
          "base_uri": "https://localhost:8080/"
        },
        "id": "MA_Q4P5ZhA0c",
        "outputId": "2978efd1-7cf6-4ed7-faba-0a5c47df903b"
      },
      "source": [
        "for y in model.x2y.ancestral_sampling(example_x, num_samples=10)['output']:\n",
        "    print(y)"
      ],
      "execution_count": 52,
      "outputs": [
        {
          "output_type": "stream",
          "name": "stdout",
          "text": [
            "It has never been easy to engage in a rational conversation about the value of gold.\n",
            "It has never been easy to discuss the value of gold rationally.\n",
            "It has never been easy to conduct a rational conversation about the value of gold.\n",
            "It has never been easy to engage in a rational conversation about gold's value.\n",
            "It has never been easy to talk about the value of gold in rational terms.\n",
            "It has never been easy to conduct rational discussion on the value of gold.\n",
            "It has never been easy to conduct a rational conversation about a gold value.\n",
            "It has never been easy to argue about the value of gold at all rationally.\n",
            "A rational argument about gold value has never been easy.\n",
            "Indeed, regular rational discussion over gold's value has never been easy.\n"
          ]
        }
      ]
    },
    {
      "cell_type": "markdown",
      "metadata": {
        "id": "LXM5swQei1sv"
      },
      "source": [
        "## Predicting a translation\n",
        "\n",
        "Given an input sentence $x$, a trained model predicts an entire distribution $Y|X=x, \\theta$ over the space $\\mathcal Y$ of possible translations. \n",
        "\n",
        "In order to pick a single translation candidate as our preferred translation, we need to introduce a criterion for decision making. Next, we recap two such criteria."
      ]
    },
    {
      "cell_type": "markdown",
      "metadata": {
        "id": "rG4lq8rle4oO"
      },
      "source": [
        "### Maximum-a-posterior decoding \n",
        "\n",
        "MAP decoding tells us to pick the most probable translation.\n",
        "\\begin{align}\n",
        "y^{\\mathrm{mode}} &= \\arg\\max_{h \\in \\mathcal Y} ~ P_{Y|X}(h|x, \\theta)\n",
        "\\end{align}\n",
        "\n",
        "As the space $\\mathcal Y$ is unbounded and the NMT model makes no Markov assumptions, this search is intractable. In practice, we approximate the decision rule searching through a beam of probable translations. \n",
        "\n",
        "\\begin{align}\n",
        "y^{\\mathrm{beam}} &= \\arg\\max_{h \\in \\mathrm{beam}(x)} ~  P_{Y|X}(h|x, \\theta)\n",
        "\\end{align}"
      ]
    },
    {
      "cell_type": "code",
      "metadata": {
        "colab": {
          "base_uri": "https://localhost:8080/"
        },
        "id": "pL8Xn3zEknNz",
        "outputId": "62119858-8172-4d93-c468-fd747105d37d"
      },
      "source": [
        "beam = model.x2y.beam_search(example_x, beam_size=5)\n",
        "for y, surp in zip(beam['output'], beam['surprisal']):\n",
        "    print(f\"{surp:.4f}\\t{y}\")\n",
        "y_map = beam['output'][0]"
      ],
      "execution_count": 53,
      "outputs": [
        {
          "output_type": "stream",
          "name": "stdout",
          "text": [
            "2.4119\tIt has never been easy to talk rationally about the value of gold.\n",
            "3.3470\tIt has never been easy to have a rational conversation about the value of gold.\n",
            "3.6803\tIt has never been easy to discuss the value of gold rationally.\n",
            "4.6698\tIt has never been easy to discuss the value of gold in a rational way.\n",
            "5.7409\tIt has never been easy to discuss the value of gold in a rational manner.\n"
          ]
        }
      ]
    },
    {
      "cell_type": "markdown",
      "metadata": {
        "id": "0PDf4AxfkmnW"
      },
      "source": [
        "**Some things to note**\n",
        "\n",
        "* Often, the beam search translation has much higher probability (lower suprisal) than the reference translation.\n",
        "* Often, if you increase the `beam_size` parameter, beam search will find translations that are even more probable (even lower surprisal).\n"
      ]
    },
    {
      "cell_type": "markdown",
      "metadata": {
        "id": "HbhoKOcXe6pa"
      },
      "source": [
        "### Minimum Bayes risk decoding\n",
        "\n",
        "MBR decoding tells us to pick the translation that has highest expected utility:\n",
        "\n",
        "\\begin{align}\n",
        "y^{\\text{mbr}} &= \\arg\\max_{h \\in \\mathcal Y} ~ \\mathbb E[u(Y, h; x)|x, \\theta] \\\\\n",
        "&= \\arg\\max_{h \\in \\mathcal Y} ~ \\sum_{y \\in \\mathcal Y} u(y, h; x) P_{Y|X}(y|x, \\theta)\n",
        "\\end{align}\n",
        "\n",
        "where a utility function $u(y, h; x)$ quantifies the benefit of choosing $h$ as the translation of $x$, when $y$ is the correct (or preferred) translation.\n",
        "\n",
        "There are two sources of intractability in MBR decoding. First,  just like in MAP decoding, the search space (i.e., the sample space $\\mathcal Y$) is unbounded. Second, for any given candidate translation $h$, the expected utility $\\mu_u(h; x, \\theta) = \\mathbb E[u(Y, h; x)|x, \\theta]$ is intractable to compute. \n",
        "\n",
        "[Eikema and Aziz (2020)](https://www.aclweb.org/anthology/2020.coling-main.398/) propose to  \n",
        "\n",
        "1. approximate the hypothesis space by a tractable subset of hypotheses $\\mathcal H(x)$ obtained by sampling from the model;\n",
        "2. approximate the expected value using Monte Carlo (MC).\n",
        "\n",
        "The decision rule becomes\n",
        "\n",
        "\\begin{align}\n",
        "y^{\\text{smbr}} &= \\arg\\max_{h \\in \\mathcal H(x)} ~ \\frac{1}{S} \\sum_{s=1}^S u(y^{(s)}, h; x)\n",
        "\\end{align}\n",
        "\n",
        "where $y^{(s)} \\sim Y|X=x, \\theta$ is a sample from the NMT model (samples can be drawn efficiently via ancestral sampling).\n",
        "\n",
        "For much more on sampling-based MBR see also [Eikema and Aziz (2021)](https://arxiv.org/abs/2108.04718)."
      ]
    },
    {
      "cell_type": "markdown",
      "metadata": {
        "id": "A8R6TSfimfe2"
      },
      "source": [
        "We have prepared a number of helpers for the demo. "
      ]
    },
    {
      "cell_type": "code",
      "metadata": {
        "id": "2ZM1BRRzdEDP"
      },
      "source": [
        "from demo import SampleFromNMT, CachedSampler, Utility, MBR"
      ],
      "execution_count": 54,
      "outputs": []
    },
    {
      "cell_type": "markdown",
      "metadata": {
        "id": "Ncx8j4MymjZW"
      },
      "source": [
        "Let's start by picking a utility function. In this demo we will assign utility using ChrF, a metric for automatic assessment of translation quality that works by comparing a translation candidate (a hypothesis) to a reference translation. "
      ]
    },
    {
      "cell_type": "code",
      "metadata": {
        "id": "9LgcfiQFk-ok"
      },
      "source": [
        "from sacrebleu import sentence_chrf"
      ],
      "execution_count": 55,
      "outputs": []
    },
    {
      "cell_type": "markdown",
      "metadata": {
        "id": "QUgnna1um28J"
      },
      "source": [
        "For modularity, we need to make chrf compatible with `demo.Utility`, so here is a thin wrapper for that:"
      ]
    },
    {
      "cell_type": "code",
      "metadata": {
        "id": "lf1cJ56ylBw8"
      },
      "source": [
        "class ChrF(Utility):\n",
        "    \n",
        "    def __call__(self, src: str, hyp: str, ref: str) -> float:\n",
        "        return sentence_chrf(hyp, [ref]).score  # note that chrf does not make use of the source sentence\n",
        "\n",
        "chrf = ChrF()    "
      ],
      "execution_count": 56,
      "outputs": []
    },
    {
      "cell_type": "markdown",
      "metadata": {
        "id": "BC9e_PjAnFrb"
      },
      "source": [
        "We then need a space of translation candidates, which MBR will score and rank. It's rather natural to use the NMT model itself to obtain such a hypothesis space, for example, via ancestral sampling:"
      ]
    },
    {
      "cell_type": "code",
      "metadata": {
        "colab": {
          "base_uri": "https://localhost:8080/"
        },
        "id": "gy9V9W62k7DM",
        "outputId": "98a3e74e-2b50-4d90-93d8-4f984af4f9e8"
      },
      "source": [
        "# Duplicate translations do not change the result of MBR, so we discard duplicates\n",
        "hyp_space = list(set(model.x2y.ancestral_sampling(example_x, num_samples=100)['output']))\n",
        "len(hyp_space)"
      ],
      "execution_count": 58,
      "outputs": [
        {
          "output_type": "execute_result",
          "data": {
            "text/plain": [
              "79"
            ]
          },
          "metadata": {},
          "execution_count": 58
        }
      ]
    },
    {
      "cell_type": "markdown",
      "metadata": {
        "id": "H_hBZxOynYsy"
      },
      "source": [
        "MBR requires a sampler for MC estimation, here we construct one."
      ]
    },
    {
      "cell_type": "code",
      "metadata": {
        "id": "KUHOPU3RlGFP"
      },
      "source": [
        "nmt_sampler = SampleFromNMT(model.x2y, sample_size=100)"
      ],
      "execution_count": 59,
      "outputs": []
    },
    {
      "cell_type": "code",
      "metadata": {
        "colab": {
          "base_uri": "https://localhost:8080/"
        },
        "id": "W7SRKy3olHqr",
        "outputId": "2da4f7d0-facd-43c6-930a-7c147d02e1e4"
      },
      "source": [
        "nmt_sampler(example_x)"
      ],
      "execution_count": 60,
      "outputs": [
        {
          "output_type": "execute_result",
          "data": {
            "text/plain": [
              "['It has never been easy to talk rationally about the value of gold.',\n",
              " 'It has never been easy to talk rationally about the value of gold.',\n",
              " 'It has never been easy to talk rationally about the value of gold.',\n",
              " 'It has never been easy to talk rationally about the value of gold.',\n",
              " 'It has never been easy to talk rationally about the value of gold.',\n",
              " 'It has never been easy to talk rationally about the value of gold.',\n",
              " 'It has never been easy to talk rationally about the value of gold.',\n",
              " 'It has never been easy to talk rationally about the value of gold.',\n",
              " 'It has never been easy to have a rational conversation about the value of gold.',\n",
              " 'It has never been easy to have a rational conversation about the value of gold.',\n",
              " 'It has never been easy to have a rational conversation about the value of gold.',\n",
              " 'It has never been easy to engage in a rational conversation about the value of gold.',\n",
              " \"It has never been easy to talk rationally about gold's value.\",\n",
              " 'It has never been easy to discuss the value of gold rationally.',\n",
              " 'It has never been easy to discuss the value of gold rationally.',\n",
              " 'It has never been easy to discuss the value of gold rationally.',\n",
              " 'It has never been easy to discuss the value of gold rationally.',\n",
              " \"It has never been easy to have a rational conversation about gold's value.\",\n",
              " 'It has never been easy to make a rational conversation about the value of gold.',\n",
              " 'It has never been easy to enter into a rational conversation about the value of gold.',\n",
              " 'It has never been easy to discuss the value of gold in a rational way.',\n",
              " 'It has never been easy to discuss the value of gold in a rational way.',\n",
              " 'It has never been easy to have a rational discussion about the value of gold.',\n",
              " 'It has never been easy to have a rational discussion about the value of gold.',\n",
              " 'It has never been easy to speak rationally about the value of gold.',\n",
              " \"It's never been easy to talk rationally about the value of gold.\",\n",
              " \"It's never been easy to talk rationally about the value of gold.\",\n",
              " \"It has never been easy to conduct a rational conversation about gold's value.\",\n",
              " 'It has never been easy to enter a rational conversation about the value of gold.',\n",
              " 'It has never been easy to enter a rational conversation about the value of gold.',\n",
              " 'It has never been easy to be rational about the value of gold.',\n",
              " \"It has never been easy to call a rational conversation about gold's value.\",\n",
              " 'It has never been easier to talk rationally about the value of gold.',\n",
              " 'It has never been easy to summon a rational conversation about the value of gold.',\n",
              " \"It was never easy to talk rationally about gold's value.\",\n",
              " 'It has never been easy to hold rational conversations about the value of gold.',\n",
              " \"It has never been easy to have a rational discussion on gold's value.\",\n",
              " 'It has never been easy to have rational discussions about the value of gold.',\n",
              " \"It has never been easy to be rational about gold's value.\",\n",
              " 'It has never been easy to have a rational conversation of the value of gold.',\n",
              " 'It has never been easy to direct a rational conversation about the value of gold.',\n",
              " 'It has never been simple to talk rationally about the value of gold.',\n",
              " 'It has never been easy to engage rationally in a conversation on the value of gold.',\n",
              " 'It has never been easy to engage rationally in a conversation on the value of gold.',\n",
              " 'It has never been easy to engage in rational talks about the value of gold.',\n",
              " 'It has never been easy to engage in a rational dialogue about the value of gold.',\n",
              " 'It has never been easy to contemplate the value of gold in a rational way.',\n",
              " 'Talking rationally about the value of gold has never been easy.',\n",
              " 'Talking rationally about the value of gold has never been easy.',\n",
              " 'It has never been straightforward to talk rationally about the value of gold.',\n",
              " 'It has never been easier to discuss the value of gold rationally.',\n",
              " 'It has never been easier to discuss the value of gold rationally.',\n",
              " 'Indeed, it has never been easy to have a rational conversation about the value of gold.',\n",
              " 'It has never been easy to have a rational conversation about the value of gold at all.',\n",
              " \"Talking about gold's value has never been easy.\",\n",
              " 'A rational conversation about the value of gold was never easy.',\n",
              " 'It has never been easy to engage in a rational conversation on gold values.',\n",
              " 'It has never been easy to converse sensibly about the value of gold.',\n",
              " 'Launching a rational conversation about the value of gold has never been easy.',\n",
              " 'It has never been easy to discuss the worth of gold rationally.',\n",
              " 'It has never been easy to make rational comments on the value of gold.',\n",
              " 'It has never been easy for you to call a rational conversation about the value of gold.',\n",
              " 'It has never been easy to hold a rational conversation about what gold worth means.',\n",
              " 'It has never been easy to power a rational conversation about the value of gold.',\n",
              " 'Dialogue on the value of gold has never been easy.',\n",
              " 'It has never been easy to seek to discuss the value of gold rationally.',\n",
              " 'The value of gold has never been easy to contemplate rationally.',\n",
              " 'It has never been easy to make rational human conversations about the value of gold.',\n",
              " 'It has never been easy to discuss values of gold in a rational fashion.',\n",
              " 'It has never been easy to make, or talk rationally, about the value of gold.',\n",
              " 'It was never easy enough to discuss the value of gold rationally.',\n",
              " 'It has never been easy to see rational talk of the value of gold.',\n",
              " \"It has never been easy to engage in rational discussion of economics about gold's value.\",\n",
              " 'It has never been easy to get a rational conversation about how gold worth.',\n",
              " 'It has never been easy to address the value of gold equitably.',\n",
              " 'It has never been easy to make a rational selection about the value of gold.',\n",
              " 'Arguably, it never has been easy to engage in a rational discussion on the value of gold.',\n",
              " 'It has never been easiest to find rational talk about the value of gold.',\n",
              " 'When we discussed the value of gold, it was never easy to speak rationally.',\n",
              " 'It has never been easy to talk rationally about just about the price of gold.',\n",
              " 'Traders have never had the trouble to talk rationally about the value of gold.',\n",
              " 'It is never easy to form a rational mind-boggling conversation on the value of gold.',\n",
              " 'It has never been easy to have a rational discussion about vestiges of gold.',\n",
              " 'It has never been easy to calm a sound talk about the value of gold.',\n",
              " 'It has never been easy to rationalize how gold works.',\n",
              " 'It has never been simple to talk rationally about the value of gold technology.',\n",
              " \"It has never been easy to hold good business talks about gold's value.\",\n",
              " 'Talking about the value of gold in rational syndrome has never been easy.',\n",
              " 'It has never been easy to record a rational dinner about the value of gold.',\n",
              " 'It has never been easy to express rationally where the value of gold was concerned.',\n",
              " 'It has never been easy to have rational constancy on the value of gold.',\n",
              " 'Making rational conversations about matters relating to the value of gold has never been easy.',\n",
              " 'It has never been easy to engage rationally in an issue of gold as such.',\n",
              " 'It has never been comfortable: A rational conversation about the value of gold is not easy.',\n",
              " 'There has never been so much mercy in talking rationally about the value of gold.',\n",
              " 'It was never easy to reasonably talk about gold values.',\n",
              " 'Meeting a rational conversation on the value of gold while remaining fluid has never been easy.',\n",
              " 'The importance of gold has never proved easy to pursue rationally.',\n",
              " 'It has never of a facile feat to discuss the value of gold rationally.',\n",
              " 'Talking about value on gold has never been easy, as this is often the case.']"
            ]
          },
          "metadata": {},
          "execution_count": 60
        }
      ]
    },
    {
      "cell_type": "markdown",
      "metadata": {
        "id": "HJbnYuc0no7f"
      },
      "source": [
        "Sampling on CPU may be considered an expensive operation, as in MBR we need to draw samples repeatedly for each candidate in the hypothesis space, we may consider using a single shared pool of samples for all candidates. `demo.CachedSampler` is a helper for that."
      ]
    },
    {
      "cell_type": "code",
      "metadata": {
        "id": "oSOscTy9lJKw"
      },
      "source": [
        "cached_sampler = CachedSampler(nmt_sampler, sample_size=50)"
      ],
      "execution_count": 61,
      "outputs": []
    },
    {
      "cell_type": "code",
      "metadata": {
        "colab": {
          "base_uri": "https://localhost:8080/"
        },
        "id": "wLN_3-2nq6V4",
        "outputId": "ac05e803-c5ea-4760-b450-b172d67517d2"
      },
      "source": [
        "cached_sampler(example_x)"
      ],
      "execution_count": 62,
      "outputs": [
        {
          "output_type": "execute_result",
          "data": {
            "text/plain": [
              "['It has never been easy to have a rational discussion about the value of gold.',\n",
              " 'One can never keep talking rationally about the value of gold.',\n",
              " 'It has never been easy to enter into a rational conversation about the value of gold.',\n",
              " 'Realizing the value of gold has never been routine.',\n",
              " 'It has never been easy to begin a rational discussion about the value of gold.',\n",
              " \"It has never been easy to enter into a rational dialogue about gold's value.\",\n",
              " 'Rational discussions on the values of gold have never been easy.',\n",
              " 'Honesty about golden value has never been quick to make a rational interview.',\n",
              " 'It has never been easy to hold a rational conversation on the value of gold.',\n",
              " \"Talking about gold's value has never been easy.\",\n",
              " \"It was never easier to have a rational conversation on gold's value.\",\n",
              " 'It has never been easy to employ a rational conversation on the value of gold.',\n",
              " 'It has never been easy to hold a rational conversation about the value of gold.',\n",
              " \"It has never been easy to give some rational conversation about gold's value.\",\n",
              " 'Honesty about golden value has never been quick to make a rational interview.',\n",
              " 'It has never been easy to contemplate the value of gold for rational purposes.',\n",
              " 'Any rational conversation about the value of gold has never been easy.',\n",
              " 'It has never been easy to have a rational conversation about the value of gold.',\n",
              " \"Mentioning gold's value has never been easy.\",\n",
              " \"It has never been easy to call a rational conversation about gold's value.\",\n",
              " 'Realizing the value of gold has never been routine.',\n",
              " 'It has never been as easy to be rational as talking about the value of gold.',\n",
              " 'It has never been easy to talk rationally about gold values.',\n",
              " 'It has never been easy to speak rationally about the value of gold.',\n",
              " 'It was never easy to negotiate rationally about the value of gold.',\n",
              " 'It has never been easy to conduct rational conversations about the value of gold.',\n",
              " \"It has never been easy to give some rational conversation about gold's value.\",\n",
              " \"It was never easier to have a rational conversation on gold's value.\",\n",
              " 'It has never been easy to talk rationally about the value of gold.',\n",
              " 'It has never been easy to hold a rational discussion of the value of gold.',\n",
              " 'An intelligent conversation on the value of gold has never been simple.',\n",
              " 'It has never been easy to enter a rational conversation about the value of gold.',\n",
              " 'It has never been easy to enter into rational discussions about the value of gold.',\n",
              " 'It has never been easy to advocate rationally thinking on the value of gold.',\n",
              " 'Indeed, only a well-founded discussion about the value of gold has taken place before.',\n",
              " 'It has never been easy to enter into a rational discussion of the value of gold.',\n",
              " 'It has never been easy to hold a rational discussion about the value of gold.',\n",
              " 'It has never been easy to talk a rational economy of value money.',\n",
              " \"It's never been easy to address rational issues about gold's value.\",\n",
              " 'It has never been easy to have a rational conversation about the value of gold.',\n",
              " 'It has never been easy to make a rational conversation about the value of gold.',\n",
              " 'It has never been easy to begin a rational discussion about the value of gold.',\n",
              " 'There has never been an easy time discussing the value of gold.',\n",
              " \"It's never been easy to enter into a rational conversation about the value of gold.\",\n",
              " 'It was never an easy matter to have a rational conversation about the value of gold.',\n",
              " 'It has never been easy to have a rational conversation about the value of gold.',\n",
              " 'Having a rational conversation about the value of gold has never been easy.',\n",
              " 'Using a rational conversation about the value of gold has never been easy.',\n",
              " 'It has never been easy to have a rational conversation about the value of gold.',\n",
              " 'It has never been easy to talk rationally about the value of gold.']"
            ]
          },
          "metadata": {},
          "execution_count": 62
        }
      ]
    },
    {
      "cell_type": "code",
      "metadata": {
        "id": "x9RbgW0Alxh2"
      },
      "source": [
        "mbr = MBR(chrf, cached_sampler)  # This version of MBR is what Eikema and Aziz (2021) call MBR N-by-S"
      ],
      "execution_count": 63,
      "outputs": []
    },
    {
      "cell_type": "code",
      "metadata": {
        "colab": {
          "base_uri": "https://localhost:8080/",
          "height": 37
        },
        "id": "6n4zP4QIl1zW",
        "outputId": "a4d970b2-23bc-40e0-b7a0-4378ee76fc42"
      },
      "source": [
        "y_mbr = mbr.decode(example_x, hyp_space)\n",
        "y_mbr"
      ],
      "execution_count": 64,
      "outputs": [
        {
          "output_type": "execute_result",
          "data": {
            "application/vnd.google.colaboratory.intrinsic+json": {
              "type": "string"
            },
            "text/plain": [
              "'It has never been easy to have a rational conversation about the value of gold.'"
            ]
          },
          "metadata": {},
          "execution_count": 64
        }
      ]
    },
    {
      "cell_type": "code",
      "metadata": {
        "colab": {
          "base_uri": "https://localhost:8080/"
        },
        "id": "Bw0t9jkUrOZS",
        "outputId": "34886e7f-2f5d-40e7-9f2b-503f50e21433"
      },
      "source": [
        "chrf(example_x, y_map, example_y), chrf(example_x, y_mbr, example_y)"
      ],
      "execution_count": 65,
      "outputs": [
        {
          "output_type": "execute_result",
          "data": {
            "text/plain": [
              "(0.6750826084658059, 1.0)"
            ]
          },
          "metadata": {},
          "execution_count": 65
        }
      ]
    },
    {
      "cell_type": "code",
      "metadata": {
        "colab": {
          "base_uri": "https://localhost:8080/"
        },
        "id": "xt7-SP88pMXG",
        "outputId": "c3c8f228-25fa-4e1d-a958-1efeaacd3b4a"
      },
      "source": [
        "for h, mu in sorted(zip(hyp_space, mbr.mus(example_x, hyp_space)), key=lambda pair: pair[1], reverse=True):\n",
        "    print(f\"{mu:.4f}\\t{h}\")"
      ],
      "execution_count": 66,
      "outputs": [
        {
          "output_type": "stream",
          "name": "stdout",
          "text": [
            "0.6840\tIt has never been easy to hold a rational conversation about the value of gold.\n",
            "0.6831\tIt has never been easy to have a rational conversation about the value of gold.\n",
            "0.6711\tIt has never been easy to make rational conversations about the value of gold.\n",
            "0.6573\tIt has never been easy to enter into a rational conversation about the value of gold.\n",
            "0.6513\tIt has never been easy to invoke a rational conversation about the value of gold.\n",
            "0.6495\tIt has never been easy to enter into a rational discussion about the value of gold.\n",
            "0.6470\tIt has never been easy to engage in a rational conversation about the value of gold.\n",
            "0.6467\tIt has never been easy to force a rational conversation about the value of gold.\n",
            "0.6442\tHaving a rational conversation about the value of gold has never been easy.\n",
            "0.6367\tIt has never been easy to call a rational discussion about the value of gold.\n",
            "0.6310\tIt has never been easy to hold a rational conversation over the value of gold.\n",
            "0.6283\tIt has never been easy to enter into a rational conversation about the value of gold roughly.\n",
            "0.6271\tIt has never been easy to initiate a rational discussion on the value of gold.\n",
            "0.6239\tIt has never been easy to set a rational idea about the value of gold.\n",
            "0.6214\tIt has never been easy for a rational discussion about the value of gold.\n",
            "0.6192\tIt has never been easy to talk rationally about the value of gold.\n",
            "0.6186\tIt has never been easy to make any rational conversation on the value of gold.\n",
            "0.6180\tIt has never been easy to hold a rational discussion about the value of gold.\n",
            "0.6167\tIt has never been easy to have a rational chat about the value of gold.\n",
            "0.6128\tIt has never been easy talking rationally about the value of gold.\n",
            "0.6060\tIt has never been easy to have a rational debate about the value of gold.\n",
            "0.5961\tIt has never been easy to discuss the value of gold's value rationally.\n",
            "0.5948\tIt has never been easy to put a rational conversation on the value of gold.\n",
            "0.5932\tIt has never been easy to speak rationally about the value of gold.\n",
            "0.5909\tIt has never been easy to discuss the value of gold in a rational way.\n",
            "0.5901\tIt has never been easy to have a rational conversation about gold's value.\n",
            "0.5884\tIt has never been easy to meet up rational discussion concerning the value of gold.\n",
            "0.5838\tIt has never been easy to be rational about the value of gold.\n",
            "0.5837\tIt has never been easy to discuss the value of gold rationally.\n",
            "0.5763\tIt has never been easy to negotiate rationally on the value of gold.\n",
            "0.5762\tIt has never been easy to interrupt rational spending on the value of gold.\n",
            "0.5757\tAllowing a rational discussion on the value of gold has never been easy.\n",
            "0.5752\tThe idea of speaking rationally about the value of gold has never been easy.\n",
            "0.5740\tIt's never made easy to hold a rational conversation about the value of gold.\n",
            "0.5735\t\"Gold has never been easy for anyone to speak rationally about the value of gold.\n",
            "0.5717\tIt has never been easy to get a rational debate on the value of gold.\n",
            "0.5647\tIt has never been easy to discuss the value of gold got hold of rational money.\n",
            "0.5537\tIt has never been easy to make a sensible agreement about the value of gold.\n",
            "0.5503\tIt has never been easy to have a rational conversation on gold's value.\n",
            "0.5495\tIt has never been easy to hold a rational conversation about its value.\n",
            "0.5413\tIt has never been easy to guarantee a rational conversation about gold.\n",
            "0.5381\tHaving a rational conversation about gold's value has never been easy.\n",
            "0.5343\tIt has never seemed easy to have a rational talk about the value of gold.\n",
            "0.5321\tIt has never been easy to negotiate ways to rationalize the value of gold.\n",
            "0.5309\tIt has never been easy for a rational idea of the value of gold to develop.\n",
            "0.5254\tIt has never been as easy to have a rational conversation about gold's value.\n",
            "0.5203\tIt has never been easy to chat rationally about gold's value.\n",
            "0.5154\tIt had never been easy to be rational about the value of gold.\n",
            "0.5020\tIt has never been easy to make an easy reminder of the value of gold.\n",
            "0.5002\tIt has never been easy to have a rational idea of gold's value.\n",
            "0.4994\tIt has never been easy to engage rationally in discussions about gold's worth.\n",
            "0.4960\tIt has never been easy remaining uncertain whether to discuss the value of gold.\n",
            "0.4941\tOne never found it easy to make a rational conversation about the value of gold.\n",
            "0.4932\tTalking about the value of gold has never been easy.\n",
            "0.4916\tIt has never been easy to tell rational talk of gold's value.\n",
            "0.4880\tIt has never been easy for a rational discussion on gold's value to be held.\n",
            "0.4865\tIt is never so easy to talk rationally about the value of gold.\n",
            "0.4846\tAchieving a rational talking about the value of gold was never an easy one.\n",
            "0.4828\tIt has never been easy to have a rational focus on gold's value.\n",
            "0.4710\tSetting a rational debate about gold's value has never been easy.\n",
            "0.4680\tIt has never been easy to have a rational Carbon Specification of the Bottom of Gold.\n",
            "0.4611\tIt has never been easy to arrive at a rational agreement on gold values.\n",
            "0.4590\tNever has it been easy to have a rational conversation about gold's value.\n",
            "0.4560\tEver since this question was one that was not easy to discuss where gold is located, it has never been easy to talk rationally about it.\n",
            "0.4558\tIt has never been easy to discuss rational value in gold.\n",
            "0.4407\tAttracting a strategic rational conversation on the value of gold was never easy.\n",
            "0.4280\tThe balance of gold has never been an easy matter to talk rationally.\n",
            "0.4270\tIt was never an easy question to engage in rational exchange circles on the value of gold.\n",
            "0.4228\tAn intellectually inviting conversation on gold has never been easy.\n",
            "0.3947\tHardly a rational discussion of the value of gold was easy.\n",
            "0.3892\tIt was never easy to discuss the value of gold sensibly enough.\n",
            "0.3845\tIt wasn't always easy to achieve rational talks across the value of gold.\n",
            "0.3752\tIt has never been easier to keep an enjoyable talk of gold.\n",
            "0.3733\tIt was never easy to speak with rationality about gold's value.\n",
            "0.3588\tIt has never been easier to semble about this value.\n",
            "0.3365\tTalk about money like gold has never been easy.\n",
            "0.2251\tVery often, iconic discussions about gold character can be made about a matching taxer.\n",
            "0.1995\tHuman is cheap tense about spending household money on gold anyway, but some have forge a trading room that supplies supplies golden hands for many markets in the area of retail banking and not a lot more. I really don't know what your name is like, but that you never exactly tell.\n",
            "0.1956\tEconomists, inflation inflation, and development are growing too much. Many people in companies where equilibrium is usually consumed - entering or moving fluctuations - massively or through changes - are most unlikely to fail, although real loss is hard to be asserted.\n"
          ]
        }
      ]
    },
    {
      "cell_type": "code",
      "metadata": {
        "id": "1S1zHx1Qajhw"
      },
      "source": [
        ""
      ],
      "execution_count": null,
      "outputs": []
    }
  ]
}