{
  "nbformat": 4,
  "nbformat_minor": 0,
  "metadata": {
    "colab": {
      "name": "MBR demo.ipynb",
      "provenance": [],
      "collapsed_sections": [],
      "toc_visible": true,
      "authorship_tag": "ABX9TyN6GN8TaCNinJbA7Ow/xpd9",
      "include_colab_link": true
    },
    "kernelspec": {
      "display_name": "Python 3",
      "name": "python3"
    },
    "language_info": {
      "name": "python"
    }
  },
  "cells": [
    {
      "cell_type": "markdown",
      "metadata": {
        "id": "view-in-github",
        "colab_type": "text"
      },
      "source": [
        "<a href=\"https://colab.research.google.com/github/probabll/demo-mbr-nmt/blob/main/German-English.ipynb\" target=\"_parent\"><img src=\"https://colab.research.google.com/assets/colab-badge.svg\" alt=\"Open In Colab\"/></a>"
      ]
    },
    {
      "cell_type": "markdown",
      "metadata": {
        "id": "JzTFC_vDkIt7"
      },
      "source": [
        "# Intuition"
      ]
    },
    {
      "cell_type": "markdown",
      "metadata": {
        "id": "etNl0aGqkCQp"
      },
      "source": [
        "# Theory"
      ]
    },
    {
      "cell_type": "markdown",
      "metadata": {
        "id": "q-B_PWy9j9h3"
      },
      "source": [
        "# Setting Up"
      ]
    },
    {
      "cell_type": "code",
      "metadata": {
        "colab": {
          "base_uri": "https://localhost:8080/"
        },
        "id": "5y2fg4J7HRdC",
        "outputId": "fab096df-b077-4f34-bebe-2ba7dbd261df"
      },
      "source": [
        "!git clone https://github.com/probabll/demo-mbr-nmt.git"
      ],
      "execution_count": 1,
      "outputs": [
        {
          "output_type": "stream",
          "name": "stdout",
          "text": [
            "fatal: destination path 'demo-mbr-nmt' already exists and is not an empty directory.\n"
          ]
        }
      ]
    },
    {
      "cell_type": "code",
      "metadata": {
        "colab": {
          "base_uri": "https://localhost:8080/"
        },
        "id": "KmRje0VOHbJp",
        "outputId": "ca459f3e-5b25-4054-a24e-58d9db8931b5"
      },
      "source": [
        "cd demo-mbr-nmt"
      ],
      "execution_count": 2,
      "outputs": [
        {
          "output_type": "stream",
          "name": "stdout",
          "text": [
            "/content/demo-mbr-nmt\n"
          ]
        }
      ]
    },
    {
      "cell_type": "code",
      "metadata": {
        "colab": {
          "base_uri": "https://localhost:8080/"
        },
        "id": "30m1tJspczE9",
        "outputId": "65e1d9c9-8e78-4ef0-aae9-b43bc4cdd9fd"
      },
      "source": [
        "!git pull"
      ],
      "execution_count": 17,
      "outputs": [
        {
          "output_type": "stream",
          "name": "stdout",
          "text": [
            "remote: Enumerating objects: 13, done.\u001b[K\n",
            "remote: Counting objects:   7% (1/13)\u001b[K\rremote: Counting objects:  15% (2/13)\u001b[K\rremote: Counting objects:  23% (3/13)\u001b[K\rremote: Counting objects:  30% (4/13)\u001b[K\rremote: Counting objects:  38% (5/13)\u001b[K\rremote: Counting objects:  46% (6/13)\u001b[K\rremote: Counting objects:  53% (7/13)\u001b[K\rremote: Counting objects:  61% (8/13)\u001b[K\rremote: Counting objects:  69% (9/13)\u001b[K\rremote: Counting objects:  76% (10/13)\u001b[K\rremote: Counting objects:  84% (11/13)\u001b[K\rremote: Counting objects:  92% (12/13)\u001b[K\rremote: Counting objects: 100% (13/13)\u001b[K\rremote: Counting objects: 100% (13/13), done.\u001b[K\n",
            "remote: Compressing objects:  11% (1/9)\u001b[K\rremote: Compressing objects:  22% (2/9)\u001b[K\rremote: Compressing objects:  33% (3/9)\u001b[K\rremote: Compressing objects:  44% (4/9)\u001b[K\rremote: Compressing objects:  55% (5/9)\u001b[K\rremote: Compressing objects:  66% (6/9)\u001b[K\rremote: Compressing objects:  77% (7/9)\u001b[K\rremote: Compressing objects:  88% (8/9)\u001b[K\rremote: Compressing objects: 100% (9/9)\u001b[K\rremote: Compressing objects: 100% (9/9), done.\u001b[K\n",
            "remote: Total 9 (delta 5), reused 0 (delta 0), pack-reused 0\u001b[K\n",
            "Unpacking objects:  11% (1/9)   \rUnpacking objects:  22% (2/9)   \rUnpacking objects:  33% (3/9)   \rUnpacking objects:  44% (4/9)   \rUnpacking objects:  55% (5/9)   \rUnpacking objects:  66% (6/9)   \rUnpacking objects:  77% (7/9)   \rUnpacking objects:  88% (8/9)   \rUnpacking objects: 100% (9/9)   \rUnpacking objects: 100% (9/9), done.\n",
            "From https://github.com/probabll/demo-mbr-nmt\n",
            "   b09d39e..d68000f  main       -> origin/main\n",
            "Updating b09d39e..d68000f\n",
            "Fast-forward\n",
            " de-en.sh | 15 \u001b[32m+++++++++\u001b[m\u001b[31m------\u001b[m\n",
            " demo.py  | 44 \u001b[32m+++++++++++++++++++\u001b[m\u001b[31m-------------------------\u001b[m\n",
            " en-de.sh | 15 \u001b[32m+++++++++\u001b[m\u001b[31m------\u001b[m\n",
            " 3 files changed, 37 insertions(+), 37 deletions(-)\n"
          ]
        }
      ]
    },
    {
      "cell_type": "code",
      "metadata": {
        "colab": {
          "base_uri": "https://localhost:8080/"
        },
        "id": "3VdO2-whIEYs",
        "outputId": "c8f271cb-dd79-4328-902a-56dcbf66f4b6"
      },
      "source": [
        "!pip install -r requirements.txt"
      ],
      "execution_count": 3,
      "outputs": [
        {
          "output_type": "stream",
          "name": "stdout",
          "text": [
            "Requirement already satisfied: torch in /usr/local/lib/python3.7/dist-packages (from -r requirements.txt (line 1)) (1.9.0+cu102)\n",
            "Requirement already satisfied: numpy in /usr/local/lib/python3.7/dist-packages (from -r requirements.txt (line 2)) (1.19.5)\n",
            "Requirement already satisfied: fairseq==0.10.2 in /usr/local/lib/python3.7/dist-packages (from -r requirements.txt (line 3)) (0.10.2)\n",
            "Requirement already satisfied: sacrebleu==1.5.1 in /usr/local/lib/python3.7/dist-packages (from -r requirements.txt (line 4)) (1.5.1)\n",
            "Requirement already satisfied: sacremoses==0.0.43 in /usr/local/lib/python3.7/dist-packages (from -r requirements.txt (line 5)) (0.0.43)\n",
            "Requirement already satisfied: sentencepiece==0.1.95 in /usr/local/lib/python3.7/dist-packages (from -r requirements.txt (line 6)) (0.1.95)\n",
            "Requirement already satisfied: dataclasses in /usr/local/lib/python3.7/dist-packages (from fairseq==0.10.2->-r requirements.txt (line 3)) (0.6)\n",
            "Requirement already satisfied: hydra-core in /usr/local/lib/python3.7/dist-packages (from fairseq==0.10.2->-r requirements.txt (line 3)) (1.1.1)\n",
            "Requirement already satisfied: cffi in /usr/local/lib/python3.7/dist-packages (from fairseq==0.10.2->-r requirements.txt (line 3)) (1.14.6)\n",
            "Requirement already satisfied: regex in /usr/local/lib/python3.7/dist-packages (from fairseq==0.10.2->-r requirements.txt (line 3)) (2019.12.20)\n",
            "Requirement already satisfied: tqdm in /usr/local/lib/python3.7/dist-packages (from fairseq==0.10.2->-r requirements.txt (line 3)) (4.62.0)\n",
            "Requirement already satisfied: cython in /usr/local/lib/python3.7/dist-packages (from fairseq==0.10.2->-r requirements.txt (line 3)) (0.29.24)\n",
            "Requirement already satisfied: portalocker==2.0.0 in /usr/local/lib/python3.7/dist-packages (from sacrebleu==1.5.1->-r requirements.txt (line 4)) (2.0.0)\n",
            "Requirement already satisfied: six in /usr/local/lib/python3.7/dist-packages (from sacremoses==0.0.43->-r requirements.txt (line 5)) (1.15.0)\n",
            "Requirement already satisfied: click in /usr/local/lib/python3.7/dist-packages (from sacremoses==0.0.43->-r requirements.txt (line 5)) (7.1.2)\n",
            "Requirement already satisfied: joblib in /usr/local/lib/python3.7/dist-packages (from sacremoses==0.0.43->-r requirements.txt (line 5)) (1.0.1)\n",
            "Requirement already satisfied: typing-extensions in /usr/local/lib/python3.7/dist-packages (from torch->-r requirements.txt (line 1)) (3.7.4.3)\n",
            "Requirement already satisfied: pycparser in /usr/local/lib/python3.7/dist-packages (from cffi->fairseq==0.10.2->-r requirements.txt (line 3)) (2.20)\n",
            "Requirement already satisfied: antlr4-python3-runtime==4.8 in /usr/local/lib/python3.7/dist-packages (from hydra-core->fairseq==0.10.2->-r requirements.txt (line 3)) (4.8)\n",
            "Requirement already satisfied: omegaconf==2.1.* in /usr/local/lib/python3.7/dist-packages (from hydra-core->fairseq==0.10.2->-r requirements.txt (line 3)) (2.1.1)\n",
            "Requirement already satisfied: importlib-resources in /usr/local/lib/python3.7/dist-packages (from hydra-core->fairseq==0.10.2->-r requirements.txt (line 3)) (5.2.2)\n",
            "Requirement already satisfied: PyYAML>=5.1.0 in /usr/local/lib/python3.7/dist-packages (from omegaconf==2.1.*->hydra-core->fairseq==0.10.2->-r requirements.txt (line 3)) (5.4.1)\n",
            "Requirement already satisfied: zipp>=3.1.0 in /usr/local/lib/python3.7/dist-packages (from importlib-resources->hydra-core->fairseq==0.10.2->-r requirements.txt (line 3)) (3.5.0)\n"
          ]
        }
      ]
    },
    {
      "cell_type": "code",
      "metadata": {
        "id": "qpHRP7ne6QhI"
      },
      "source": [
        "!bash de-en.sh"
      ],
      "execution_count": 18,
      "outputs": []
    },
    {
      "cell_type": "markdown",
      "metadata": {
        "id": "0XBuvp7lkrm7"
      },
      "source": [
        "# Demo"
      ]
    },
    {
      "cell_type": "code",
      "metadata": {
        "id": "2ZM1BRRzdEDP"
      },
      "source": [
        "from demo import SampleFromNMT, CachedSampler, Utility, MBR, load"
      ],
      "execution_count": 19,
      "outputs": []
    },
    {
      "cell_type": "markdown",
      "metadata": {
        "id": "-jIU7ONxda4j"
      },
      "source": [
        "The next line will take a moment."
      ]
    },
    {
      "cell_type": "code",
      "metadata": {
        "id": "RA0fATt1ku7s"
      },
      "source": [
        "model = load('de', 'en', np_seed=10, torch_seed=10)"
      ],
      "execution_count": 20,
      "outputs": []
    },
    {
      "cell_type": "code",
      "metadata": {
        "id": "poycIKRbkyZ4"
      },
      "source": [
        "example_x = \"Die historischen Landkarten des digitalen Bayern-Atlases, ein Angebot des Geoportals Bayern der Staatsregierung, sind alles andere als aktuell - doch gerade deshalb sehr aufschlussreich.\"\n",
        "example_y = \"The historical maps of the digital BayernAtlas, an offering from the State Government's Geoportal Bayern, are anything but up-to-date – and yet it is precisely for this reason that they are so informative.\""
      ],
      "execution_count": 24,
      "outputs": []
    },
    {
      "cell_type": "code",
      "metadata": {
        "colab": {
          "base_uri": "https://localhost:8080/",
          "height": 54
        },
        "id": "CG6e1NFQkz4D",
        "outputId": "ba70b428-8e26-4f9c-8977-d10fefdb05a0"
      },
      "source": [
        "model.x.decode(model.x.encode(example_x))"
      ],
      "execution_count": 25,
      "outputs": [
        {
          "output_type": "execute_result",
          "data": {
            "application/vnd.google.colaboratory.intrinsic+json": {
              "type": "string"
            },
            "text/plain": [
              "'Das kennt jeder, der sich schon mal aufregen musste, weil das Auto-Navi statt einer Umgehungsstraße eine grüne Wiese anzeigte.'"
            ]
          },
          "metadata": {},
          "execution_count": 25
        }
      ]
    },
    {
      "cell_type": "code",
      "metadata": {
        "colab": {
          "base_uri": "https://localhost:8080/",
          "height": 37
        },
        "id": "_E5CYtQ1k1UR",
        "outputId": "021865b2-a03c-4381-a4bc-ce6b38556104"
      },
      "source": [
        "model.y.decode(model.y.encode(example_y))"
      ],
      "execution_count": 26,
      "outputs": [
        {
          "output_type": "execute_result",
          "data": {
            "application/vnd.google.colaboratory.intrinsic+json": {
              "type": "string"
            },
            "text/plain": [
              "\"Anyone who has ever got worked up because the car's sat-nav is showing a green field instead of a bypass knows that.\""
            ]
          },
          "metadata": {},
          "execution_count": 26
        }
      ]
    },
    {
      "cell_type": "markdown",
      "metadata": {
        "id": "Q9JZSWKYk46b"
      },
      "source": [
        "## Approximate MAP decoding"
      ]
    },
    {
      "cell_type": "code",
      "metadata": {
        "colab": {
          "base_uri": "https://localhost:8080/"
        },
        "id": "fnLjH5Iqk2tB",
        "outputId": "735a8134-72c2-4d10-b3b8-bf2155c8ed6e"
      },
      "source": [
        "beam = model.x2y.beam_search(example_x, beam_size=30)\n",
        "for y, surp in zip(beam['output'], beam['surprisal']):\n",
        "    print(f\"{surp:.4f}\\t{y}\")\n",
        "y_map = beam['output'][0]"
      ],
      "execution_count": 29,
      "outputs": [
        {
          "output_type": "stream",
          "name": "stdout",
          "text": [
            "13.3244\tThis is something everyone who had to get excited about because the Auto-Navi displayed a green meadow instead of a bypass road.\n",
            "13.3439\tThis is something everyone who had to get excited about because the Auto-Navi displayed a green meadow instead of a bypass road.\n",
            "13.3562\tThis is something everyone who had to get excited about because the Auto-Navi showed a green meadow instead of a bypass road.\n",
            "13.5292\tThis is something everyone who had to get excited about because the Auto-Navi showed a green meadow instead of a bypass road.\n",
            "14.1213\tThis is something everyone who had to get excited about because the Auto @-@Navi displayed a green meadow instead of a bypass road.\n",
            "13.7534\tThis is something everyone who had to get excited about because the AutoNavi displayed a green meadow instead of a bypass road.\n",
            "13.9665\tThis is something everyone who had to get excited about because the AutoNavi showed a green meadow instead of a bypass road.\n",
            "13.5885\tThis is something everyone who had to get excited about because AutoNavi showed a green meadow instead of a bypass road.\n",
            "14.1141\tThis is something everyone who has had to get excited about because AutoNavi showed a green meadow instead of a bypass road.\n",
            "13.6489\tThis is something everyone who had to get excited about because AutoNavi displayed a green meadow instead of a bypass road.\n",
            "14.1751\tThis is something everyone who had to get excited about because the Auto-Navi showed a green meadow instead of a bypass.\n",
            "14.1791\tThis is something everyone who had to get excited about because the Auto-Navi displayed a green grass instead of a bypass road.\n",
            "14.2121\tThis is something everyone who has had to get excited about because AutoNavi displayed a green meadow instead of a bypass road.\n",
            "14.7078\tThis is something everyone who has had to get excited about because the Auto-Navi displayed a green grass instead of a bypass road.\n",
            "14.2393\tThis is something everyone who had to get excited about because the Auto-Navi displayed a green grass instead of a bypass road.\n",
            "14.7208\tThis is something everyone who has had to get excited about because the Auto-Navi displayed a green grass instead of a bypass road.\n",
            "14.2930\tThis is something everyone who had to get excited about because the Auto-Navi displayed a green meadow instead of a bypass.\n",
            "14.7783\tThis is something everyone who has had to get excited about because the Auto-Navi showed a green meadow instead of a bypass.\n",
            "14.8141\tThis is something everyone who has had to get excited about because the Auto-Navi displayed a green meadow instead of a bypass.\n",
            "14.4406\tThis is something everyone who had to get excited about because the Auto-Navi displayed a green meadow instead of a bypass.\n",
            "14.4847\tThis is something everyone who had to get excited about because the Auto-Navi showed a green grass instead of a bypass road.\n",
            "14.4874\tThis is something everyone who had to get excited about because the Auto-Navi showed a green meadow instead of a bypass.\n",
            "14.9862\tThis is something everyone who has had to get excited about because the Auto-Navi displayed a green meadow instead of a bypass.\n",
            "15.0625\tThis is something everyone who has had to get excited about because the Auto-Navi showed a green meadow instead of a bypass.\n",
            "13.7788\tEveryone who has had to get excited because the Auto-Navi displayed a green meadow instead of a bypass road.\n",
            "13.8080\tEveryone who has had to get excited because the Auto-Navi displayed a green meadow instead of a bypass road.\n",
            "15.3678\tThis is something everyone who had to get excited about, because the Auto-Navi showed a green meadow instead of a bypass.\n",
            "15.5815\tThis is something everyone who had to get excited about, because the Auto-Navi displayed a green meadow instead of a bypass.\n",
            "15.5891\tEveryone who had to get excited is aware of this, because the Auto-Navi displayed a green meadow instead of a bypass.\n",
            "15.6973\tThis is something everyone who had to get excited about, because the Auto-Navi displayed a green meadow instead of a bypass.\n"
          ]
        }
      ]
    },
    {
      "cell_type": "markdown",
      "metadata": {
        "id": "o1OCp1ruk9B2"
      },
      "source": [
        "## Approximate MBR decoding"
      ]
    },
    {
      "cell_type": "code",
      "metadata": {
        "colab": {
          "base_uri": "https://localhost:8080/"
        },
        "id": "gy9V9W62k7DM",
        "outputId": "08321b3a-3478-4ea4-d55d-1ce591be95c3"
      },
      "source": [
        "hyp_space = list(set(model.x2y.ancestral_sampling(example_x, num_samples=100)['output']))\n",
        "len(hyp_space)"
      ],
      "execution_count": 30,
      "outputs": [
        {
          "output_type": "execute_result",
          "data": {
            "text/plain": [
              "100"
            ]
          },
          "metadata": {},
          "execution_count": 30
        }
      ]
    },
    {
      "cell_type": "code",
      "metadata": {
        "id": "9LgcfiQFk-ok"
      },
      "source": [
        "from sacrebleu import sentence_chrf"
      ],
      "execution_count": 31,
      "outputs": []
    },
    {
      "cell_type": "code",
      "metadata": {
        "id": "lf1cJ56ylBw8"
      },
      "source": [
        "class ChrF(Utility):\n",
        "    \n",
        "    def __call__(self, src: str, hyp: str, ref: str) -> float:\n",
        "        return sentence_chrf(hyp, [ref]).score  # note that chrf does not make use of the source sentence\n",
        "\n",
        "chrf = ChrF()    "
      ],
      "execution_count": 32,
      "outputs": []
    },
    {
      "cell_type": "code",
      "metadata": {
        "colab": {
          "base_uri": "https://localhost:8080/"
        },
        "id": "tYD_BvlUlDBC",
        "outputId": "ae4e897e-c1a1-41b2-ce53-773cdfef71dc"
      },
      "source": [
        "chrf('This is cool!', 'Das ist cool!', 'Cool!')"
      ],
      "execution_count": 33,
      "outputs": [
        {
          "output_type": "execute_result",
          "data": {
            "text/plain": [
              "0.40623147802266224"
            ]
          },
          "metadata": {},
          "execution_count": 33
        }
      ]
    },
    {
      "cell_type": "code",
      "metadata": {
        "colab": {
          "base_uri": "https://localhost:8080/"
        },
        "id": "nW63hag7lEcm",
        "outputId": "32143663-c389-4ceb-d602-a738143c21d5"
      },
      "source": [
        "chrf.batch('This is cool!', 'Das ist cool!', ['Cool!', 'Das ist cool!'])"
      ],
      "execution_count": 34,
      "outputs": [
        {
          "output_type": "execute_result",
          "data": {
            "text/plain": [
              "array([0.40623148, 1.        ])"
            ]
          },
          "metadata": {},
          "execution_count": 34
        }
      ]
    },
    {
      "cell_type": "code",
      "metadata": {
        "colab": {
          "base_uri": "https://localhost:8080/"
        },
        "id": "ecZ4aIWBrZnR",
        "outputId": "1c9b7e85-faaf-4fcd-adb6-342ecd249071"
      },
      "source": [
        "chrf(example_x, y_map, example_y)"
      ],
      "execution_count": 35,
      "outputs": [
        {
          "output_type": "execute_result",
          "data": {
            "text/plain": [
              "0.43730321818330387"
            ]
          },
          "metadata": {},
          "execution_count": 35
        }
      ]
    },
    {
      "cell_type": "code",
      "metadata": {
        "id": "KUHOPU3RlGFP"
      },
      "source": [
        "nmt_sampler = SampleFromNMT(model.x2y, sample_size=100)"
      ],
      "execution_count": 36,
      "outputs": []
    },
    {
      "cell_type": "code",
      "metadata": {
        "colab": {
          "base_uri": "https://localhost:8080/"
        },
        "id": "W7SRKy3olHqr",
        "outputId": "06b961ad-c4a1-45ca-9f1e-adca13ed425f"
      },
      "source": [
        "nmt_sampler(example_x)"
      ],
      "execution_count": 37,
      "outputs": [
        {
          "output_type": "execute_result",
          "data": {
            "text/plain": [
              "[\"Everyone who had to get in touch was aware of this, as the Auto-Navi didn't display a green meadow instead of a bypass.\",\n",
              " 'Everyone knows it because AutoNavi showed a green grass instead of a bypass road.',\n",
              " 'Those who had to get excited because Auto-Navi displayed a green meadow instead of having a bypass.',\n",
              " 'This became clear to everybody who had to get up late because the AutoNavi showed a green meadow instead of a bypass road.',\n",
              " 'This is something everybody who had to get excited about because the Auto-Navi showed a green theme instead of a road bypass.',\n",
              " 'This is what everyone who had to get up to because Auto-Navi instead of a bypass showed a meadow.',\n",
              " 'Everybody who has had to get excited occasionally knows that because Auto @-@Navi displayed a green meadow instead of a bypass road.',\n",
              " \"That's what anyone has been aware of, who has had to excite himself because the Auto Navi has shown a green grass instead of a bypass road.\",\n",
              " 'It was known by those who had to get excited because the Auto-Navi seemed to make a green meadow instead of a bypass.',\n",
              " 'Everyone who has had to get excited about this should wear a green surface on AutoNavi instead of a bypass road.',\n",
              " 'For anyone who has not been made aware of this, the Auto-Navi showed a green meadow in place of a bypass road.',\n",
              " 'You know that everyone who has had to get up, that the Auto-Navi Show a green grass instead of a bypass road.',\n",
              " \"Everyone knows this and wanted to get out of town, because the car-noi showed 'a green meadow' instead of a 'bypass' road '.\",\n",
              " 'Everyone who had to get used to it because AutoNavi had been having a green field instead of a bypass.',\n",
              " 'It is something everybody else knows, since Motor-Navi showed a green meadow instead of a bypass road.',\n",
              " 'Everyone, who has had to get excited about that, can be made aware of the fact that AutoNavi displayed a green space instead of a By-pass street.',\n",
              " 'That is something everybody was very aware of, because instead of showing a bypass road the auto-loco indicated a green meadow.',\n",
              " 'Everyone who has had to get excited about that has no trouble with the Auto-Navi showing green fields rather than a road.',\n",
              " 'Everybody knows this because the Auto-Navi showed a green lawn where no bypass existed.',\n",
              " 'Everyone who needed to get excitedly worked up already because instead of the bypass, Auto-NAVI showed a green meadow.',\n",
              " \"And that's what everyone who has had to eavesdrop up because the AutoNavi turned off a green grass.\",\n",
              " 'Everyone who has gotten so experimented because AutoNavi displayed a green field instead of a bypass alley.',\n",
              " 'That is to be understood for everyone who has been getting excited by the Auto-Navi in place of a bypass pointing to a green grass.',\n",
              " 'Anyone who has had to work out this must be aware of this because Auto-Noavi surfaced from a green grass rather than an bypass road.',\n",
              " 'Everyone who has known this is in a hurry because the car-nove used to show on a green meadow instead of a bypassroad.',\n",
              " 'Everyone knows this and had to get involved. Being able to see the AutoNavi on a green meadow instead of an bypass road!',\n",
              " \"That's something everybody who saw it exciting enough to see why AutoNavi became a green grass rather than a road bypass.\",\n",
              " 'That\\'s what everyone who had had to ring out because Auto @-@Navi and not a \"bypass\" area showed you the green area.',\n",
              " 'Everybody who has before had to get up and get away is aware because the auto-north display a green grass instead of a bypass road.',\n",
              " 'We all know that since Auto-Navigi presented a green meadow instead of an accidental domain.',\n",
              " 'This is something anyone who had to get up and excited about here because the AutoNavi indicated a green meadow rather than a ringlike terrain.',\n",
              " 'This fact came out of everyone\\'s minds, because AutosNavi seemed to be producing green fields, not \"bypasses.\"',\n",
              " 'Everybody knows this, having had to get excited about it, because the cars-locomotive was showing a spacious green meadow instead of an electric descent.',\n",
              " 'Anyone who has had to discover this has knowledge of what this quickly means because the Auto-Navi opened a green meadow rather than a bypass road.',\n",
              " 'Everyone who already had to get offbeat was aware of this, because instead of a cleared-off, the auto- loco showed a green field.',\n",
              " 'This day everyone who has had to scratch up around because AutoNavi announced a green meadow instead of a car.',\n",
              " 'All the people who were in danger of stirring up, were aware of the fact that the car-Novo LEDs presented a green meadow instead of one bypass road.',\n",
              " \"That's something everybody know, who was able to get up and trouble after the Auto @-@Navi compared to the Ring Road displaying a green domain.\",\n",
              " 'This has come to light on everyone who had to get up-to-date, that the Auto - Nordic Commission has shown a green meadow instead of entering the bypass.',\n",
              " 'Everyone who had to get excited about it has a clear path to the pedestrian area.',\n",
              " 'Does anybody know that they used to be subject to fun because the Auto-Navi turned instead of a ring road into a green meadow?',\n",
              " 'Everyone who has had to get angry has seen that instead of using a pedestrian area (through a cable car) it is a green area.',\n",
              " 'Everybody who is into the exciting new days is familiar on the automatic side because the island has instead indicated a \"green meadow\" instead of a \"bypass.\"',\n",
              " 'Everybody who has wandered the Lagoon had to ask himself what he thinks, because the car-NAVI showed a green meadow instead of a cross-road.',\n",
              " \"Everyone knows this; that's why AutoNavi just displayed a notice green ply field, rather than a bypass.\",\n",
              " 'Everyone who had to get known this bit as their car is showing a green grass panel rather than a bypass road.',\n",
              " 'Everybody knows this, who had to get involved in particular because new CarNavi showing a green field before a bit of bypassing road.',\n",
              " 'Everyone has known that for having a bit of excitement advertised by Auto-Naval on a green meadow and far away from a motorway bypass.',\n",
              " 'So everyone who never again was made to feel the stress of this event, because the Auto @-@Navi, instead of a container road, indicated a green site as well.',\n",
              " 'This is common knowledge for all who dotted the discs in the park at some points, for the version of Auto-Navi shows a green grass instead of one bypass.',\n",
              " 'Everyone knows that that was exciting because instead of travelling through a car, the car tuner demonstrated a green grass area.',\n",
              " 'This day is a thrilling task for anyone who should have found out already from seeing Auto-Navi show a green meadow rather than having a bypass everywhere.',\n",
              " 'Everyone who has found something else can tell, because instead of flipping this motor-bike we found a green pasture.',\n",
              " 'Nobody knows that, since our auto refuge showed a meadow instead of a vehicle lane.',\n",
              " 'Everybody knew that, that the auto will have to respond by showing a green grass left instead of a bypass Road.',\n",
              " 'This figure is visible to everyone. Everyone who had to get up tampered with is now red about the parking lots instead of a nearby covered green area.',\n",
              " 'Anybody who has so far had to get excited about this assumption knows that on the Auto @-@Navi it brought a no way back ahead.',\n",
              " 'Everybody could keep up with everything, because Auto vinegar had showing a green meadow as opposed to a ring road.',\n",
              " 'Everyone who has had to start exciting about this could find a green spot for their car van.Navi and traffesive the parking garage.',\n",
              " 'Everyone mad which had to get up trotted by a river displaying a green meadow instead of a hoist road.',\n",
              " 'The BMW NAVI has always had a green meadow instead of a walkway, so info might have been helpful. He knows it, that already...',\n",
              " 'This is something we all know, every time someone would like to all the members of this group to get up and start your skipings along the autobahn instead of driving bypasses the camp.',\n",
              " 'Everyone who has been made aware of this was particularly exited by the tackled green ground with the MOTAIN-No-VALCAN instead of a mere bypass.',\n",
              " 'Anyone mentally crazy who has been getting the vehicle fired up has discovered that the car can be seen in a park instead of a driving street.',\n",
              " 'Everyone got all the accents, but the usergre shows out their green grass instead of a bypass road.',\n",
              " 'Everyone knew this when the car-continent seemed somewhat to go uphill and had to volunteer because the parking space was a green site instead of an urban going bypass.',\n",
              " 'That everyone knows, but could get bothered about the autostation kire, since this car yard was not bad for moving around.',\n",
              " 'Anyone who needs to leave things as your vehicle could know that because auto _ Orte there were green fields rather than a bypass track.',\n",
              " 'That at any time everybody knows that, having been afraid to visit their street since the autocourse improving suddenly produced a green meadow instead of a bypass.',\n",
              " \"Just think that is all that everybody knew that it was much before get here because the sorry car-no \\xad didn't have a green area in front of it.\",\n",
              " 'Everybody who has had to psychological and Legal exercise to spend one time looking forward to courses, will know that, as the Auto-Navy appeared next to a red field instead of a bypass.',\n",
              " 'We are interested in it and are ready for your special service.',\n",
              " 'These are just some of the interesting features which are going to have intercity. If you are in.',\n",
              " 'The Deutsche Bundesbahn [25] operates on the north-eastern outskirts of town, with the German just as much as it operates several ice lifts. The Inter-boundary area is alternating with the outer-bound south-east-east part, making it the new obsolete part of the world here.',\n",
              " 'Everyone who already had to get worked up so the AutoNavi switched on his green grass instead of pushing a bypass and was somehow an \"interesting new, screen.\" They made my browsing to many questions that came through just one click, and all tests we did not receive were forwarded to free internet on it.',\n",
              " 'You\\'ll never be India\\'s first big winner in past Concerts. \"Europe still smelled of James ballet and I\\'m just right. I\\'d say it\\'s a if you say that\" nothing \"is a God not suitable gift than this lovely country depends on loving people.',\n",
              " 'General knowledge allotted to those who worked long before the car started showing a piece of green meadow instead of a vehicle not in forest route anymore.',\n",
              " 'This is something it seems as if anyone who had to get bound, is the Autorhof instead to the bypass, and the street itself is no dirty advertising.',\n",
              " \"Sube tours, much of the city's major attractions, are close, since the big venture is only 30 metres away.\",\n",
              " 'I wonder if anybody else could find it okay. I have just found them so cute, that I just crossed my entire border somewhere and the house around was personally taken in.',\n",
              " \"And the BMW 9 is an A320A low performance V8 with it's drive, but an ASCII version invariably's classic quality. In the middle of the Deathcover, V8 is custom-built for the American market.\",\n",
              " 'Its fun to the public when the cars - No.1 \"airworthy\" has been really kicking us apart.',\n",
              " \"That's something everyone has been in a hurry hoping you would not now be in\\x84 nivelate \\x93 binderness and things have gone wrong if you began driving far away.\",\n",
              " 'Everybody knows that once, they had to get started already introducing a green grass fields, and that show would here change from a city passway.',\n",
              " 'That is idiom for anyone with enjoyed looking at parts of the wind.',\n",
              " 'We knew all these things and walked them up; where else turned down by a driveway.',\n",
              " 'You know the whole thing is just plain and inighted shape.',\n",
              " 'This would perhaps be a big achievement. You are most likely a final push road - this day you have to start with the number of euro notes.',\n",
              " 'While filmed in the dark, the bright colors of the new design continued to spread and that cars were their own in textrospect.',\n",
              " 'You experience this almost professionally in terms of the safety and ability of their users to compare to the separate provisions.',\n",
              " 'The cross is to the point at which the car is a genuine exhilarating radiant and notuperous game. The light source handle the flying espionage and leads to awful improvement at every point in time, and you see this as a spectator.',\n",
              " 'This started Nova Naxos, but written at the end of October, the music about the internet was repetitive and able to quickly earn because of the 1960s trends.',\n",
              " 'All characters with an ego who started to embark on a car virtual journey - not an attrocaht - is conversely keeping his hands open.',\n",
              " \"It chose him a campaign for the most controversial news about the E touring Tournament expression, and because the sticker was very interesting. One of the great treats to remember with the GDR doesn't just mean pilots are killed.\",\n",
              " 'For secret private individuals the first time in 46ème years has been recorded.',\n",
              " 'However, these are slightly less interesting methods than Guiness.',\n",
              " 'Check this out example!',\n",
              " 'Jon il Viale; Tenuta Santo Clarva, and several other famous pop dance performers, Chan Chiar International (FF) and Chébison Gal% and Terre Vissage Agnelli.',\n",
              " 'Twice the console becomes visible.',\n",
              " 'From the MBF-NZ on the # 2 o5.']"
            ]
          },
          "metadata": {},
          "execution_count": 37
        }
      ]
    },
    {
      "cell_type": "code",
      "metadata": {
        "id": "oSOscTy9lJKw"
      },
      "source": [
        "cached_sampler = CachedSampler(nmt_sampler, sample_size=30)"
      ],
      "execution_count": 38,
      "outputs": []
    },
    {
      "cell_type": "code",
      "metadata": {
        "colab": {
          "base_uri": "https://localhost:8080/"
        },
        "id": "wLN_3-2nq6V4",
        "outputId": "0413dbf5-25cc-4b5c-b782-c78fc89e20bc"
      },
      "source": [
        "cached_sampler(example_x)"
      ],
      "execution_count": 39,
      "outputs": [
        {
          "output_type": "execute_result",
          "data": {
            "text/plain": [
              "['So everybody knows, that simply got excited because the Auto-Navi showed a green grass in place of a bypass.',\n",
              " 'Everyone who wanted to get up but inquired did know that, because the Auto-Navi being instead of a bypassed road attached a green fields.',\n",
              " 'Jeder kennt dieses Kündigt er schon mal voll auf der Auto-Navi statt einer Durchhungsstrasse eine Grünweche anweist. ().',\n",
              " 'Our German bus operator is here. You will see the East European telescopic results of the appropriate sheikse classification.',\n",
              " 'Everybody knows that, who had to prove their own aging because the Auto-Navi showed a green meadow rather than a bypass road.',\n",
              " 'You know, that was a thing of the past, because Auto-navigation was fast and had no other way around it and a green grass.',\n",
              " 'The others day at 11.00 pm done it really \"misleadingly for\" (mid-October). It was just a few minutes from the 3.00 pmpm!',\n",
              " 'Everyone needs to get up in courage, because it was a greenfield instead of a road bypass.',\n",
              " 'Hundreds of socially motivated professionals share experience in their work.',\n",
              " 'Everyone knows this and has had to get involved, with the Auto-Novi instead of the Ring Road displaying a green meadow.',\n",
              " \"It's a reminder to everyone who needed to get excited because Auto-Navi showed a green meadow instead of a bypass road.\",\n",
              " \"Everybody who is interested can find out, after all, that the Auto-Navi revealed a green meadow; instead of a bypass road, it it's the same park.\",\n",
              " 'Everyone knows this and has had to get involved, with the Auto-Novi instead of the Ring Road displaying a green meadow.',\n",
              " 'It is very viable to stick to the first average road bus.',\n",
              " 'He was always aware of this, because the Auto-Navi indicated a grass area instead of a bypass.',\n",
              " 'Everyone who has been asked to get inside before on the car and shown a green meadow rather than an bypass road in halting this urge.',\n",
              " 'This is something everyone who had to get up at because the Auto-Navi had revealed a green field instead of trying to \"walk\" around the street.',\n",
              " 'Anyone who would like to become too excited detects this because AutoNavi showed a green grass area instead of a bypass.',\n",
              " 'You are safe and assured of a quiet and quiet position.',\n",
              " 'Everyone who has been asked to get inside before on the car and shown a green meadow rather than an bypass road in halting this urge.',\n",
              " 'Anyone who was already talking about an outbreak is aware of this, as automatically AutoNavi indicated that there should be a green meadow instead of a bypassed avenue.',\n",
              " 'Everyone knows this and we have seen that some other people showed up by car / race an open meadow, that the guy had to fire up his path.',\n",
              " 'Everyone who has found out about this has been permitting to get stuck with the locomotive and for the parking code several times car side switching out of entering the car.',\n",
              " 'We all know that - we went out of the way, the driving-subways showing them on a green meadow instead of bypass roads - so all the cycling clubs could start off.',\n",
              " 'The others day at 11.00 pm done it really \"misleadingly for\" (mid-October). It was just a few minutes from the 3.00 pmpm!',\n",
              " 'Everybody knows that, since AutoNavi showed a green meadow instead of a by-pass road, he has rather got excited.',\n",
              " 'Everyone who has had to get out of their way, is aware of the fact, that Auto-Navi was showing a green site instead of a bypass road.',\n",
              " \"Get inspired by the Sol horse mule from the NSA Tourist Association and explore this family run, central Australian Adventure Route in God. Don't miss out on the Bitch Factory in CarNavi.\",\n",
              " 'Everyone who has already had to get around was shown a green grass instead of a sidewalk road.',\n",
              " 'Everybody who has been just dreaming of the truck has to pose here for the time being. Instead of looking at the new \"motor-vehicle-bike-route,\" he illustrated a green field.']"
            ]
          },
          "metadata": {},
          "execution_count": 39
        }
      ]
    },
    {
      "cell_type": "code",
      "metadata": {
        "id": "x9RbgW0Alxh2"
      },
      "source": [
        "mbr = MBR(chrf, cached_sampler)  # This version of MBR is what Eikema and Aziz (2021) call MBR N-by-S"
      ],
      "execution_count": 40,
      "outputs": []
    },
    {
      "cell_type": "code",
      "metadata": {
        "colab": {
          "base_uri": "https://localhost:8080/",
          "height": 37
        },
        "id": "6n4zP4QIl1zW",
        "outputId": "cfc12737-199e-43dd-dfa5-779cd36810d9"
      },
      "source": [
        "y_mbr = mbr.decode(example_x, hyp_space)\n",
        "y_mbr"
      ],
      "execution_count": 41,
      "outputs": [
        {
          "output_type": "execute_result",
          "data": {
            "application/vnd.google.colaboratory.intrinsic+json": {
              "type": "string"
            },
            "text/plain": [
              "'Everyone who need help is aware of that because the Auto-Navi displayed a green meadow instead of a bypass road.'"
            ]
          },
          "metadata": {},
          "execution_count": 41
        }
      ]
    },
    {
      "cell_type": "code",
      "metadata": {
        "colab": {
          "base_uri": "https://localhost:8080/"
        },
        "id": "Bw0t9jkUrOZS",
        "outputId": "c0f6894f-87ff-4bd2-f11d-613d17649dd5"
      },
      "source": [
        "chrf(example_x, y_mbr, example_y)"
      ],
      "execution_count": 42,
      "outputs": [
        {
          "output_type": "execute_result",
          "data": {
            "text/plain": [
              "0.4252269767015976"
            ]
          },
          "metadata": {},
          "execution_count": 42
        }
      ]
    },
    {
      "cell_type": "code",
      "metadata": {
        "colab": {
          "base_uri": "https://localhost:8080/"
        },
        "id": "oHz79rQknYfg",
        "outputId": "583e1d9b-a53c-4a1d-e097-964989aa63f6"
      },
      "source": [
        "mbr.mu(example_x, y_mbr)"
      ],
      "execution_count": 43,
      "outputs": [
        {
          "output_type": "execute_result",
          "data": {
            "text/plain": [
              "0.3950191490559801"
            ]
          },
          "metadata": {},
          "execution_count": 43
        }
      ]
    },
    {
      "cell_type": "code",
      "metadata": {
        "colab": {
          "base_uri": "https://localhost:8080/"
        },
        "id": "xt7-SP88pMXG",
        "outputId": "a337767f-476a-416e-9c38-366d4b5a5501"
      },
      "source": [
        "for h, mu in sorted(zip(hyp_space, mbr.mus(example_x, hyp_space)), key=lambda pair: pair[1], reverse=True):\n",
        "    print(f\"{mu:.4f}\\t{h}\")"
      ],
      "execution_count": 44,
      "outputs": [
        {
          "output_type": "stream",
          "name": "stdout",
          "text": [
            "0.3994\tSomething everybody knows that Chiclana dazzled... because the Auto-Navi displayed a green meadow instead of a bypass.\n",
            "0.3821\tThis is something everybody knows, that has already had to orient themselves on because the AutoNavi displayed a green meadow instead of a bypass road.\n",
            "0.3793\tThis seems to be something that everybody knew, who ever had to get up scooter, because the Auto-Navi displayed a green grass instead of a bypass.\n",
            "0.3784\tYou know this for everybody who has had to make a start because the Auto @-@Navi showed a green meadow instead of a bypass.\n",
            "0.3666\tEveryone who need help is aware of that because the Auto-Navi displayed a green meadow instead of a bypass road.\n",
            "0.3654\tThat was noticed by all who had to get excivated because the Auto-Navi showed a green meadow instead of a by-pass road.\n",
            "0.3585\tEveryone who had to get excited knew that because Auto-Navi displayed a greenful grass instead of bypass roads.\n",
            "0.3570\tEveryone who has had to get used to this has been aware of it because the Auto-Navi, instead of having an Animal Road, showed a green meadow.\n",
            "0.3555\tThis is something anyone who has had to get excited by when the Auto-Navi was taking a green grass instead of a by-car-drive.\n",
            "0.3542\tEveryone with a little experience knows this and we those with toddlers seemed to get excited as the Auto-Navi showed a green meadow instead of a bypass street.\n",
            "0.3511\tEveryone who has already had to exercise any trouble knows this, since the Auto-Navi displayed a green field instead of a bypass road.\n",
            "0.3508\tEveryone knows this and could already get excited, because the auto-navigator displayed a green meadow instead of a bypass road.\n",
            "0.3501\tEveryone who had to get up scooter has seen this, knowing that the Auto-Noavi displayed a green grass instead of a fifteen-minute walk.\n",
            "0.3496\tEveryone who already had to get carried away has common knowledge of this, as Auto-Navi showed a green meadow instead of a bypass.\n",
            "0.3483\tEveryone who has already had to get excited knows this because Auto @-@Navi showed a green field instead of a bypass road.\n",
            "0.3402\tAnyone who had to get to know this idea would recognise it because the Auto-Show showed a green meadow instead of a bypass road.\n",
            "0.3399\tThat's something everybody who have had to look really ex loud in every-day day shift, because the Auto @-@Navi displayed a green meadow instead of taking a by-pass road.\n",
            "0.3347\tAll of you who have always got involved in this wondering, because the Auto-Navi revealed a green meadow instead of a bypass.\n",
            "0.3341\tEveryone who has had to get offtoile is familiar with this because the Auto-Navi displayed a green grass instead of a green grassrait.\n",
            "0.3324\tEverybody who had to get around the idea, because the Auto / Navi strolled a green grass instead of a bypass alley.\n",
            "0.3319\tEveryone who had to get excited for the Auto-Nava is aware of this, because instead of one bypass, the truck showed a green field.\n",
            "0.3290\tAbout this everyone who has had to keep up once, because the auto panorama showed a green grass instead of an bypass road.\n",
            "0.3271\tThis is something everybody, who had to get carried away by because the Auto-Navi presented a green site instead of a bypass road.\n",
            "0.3260\tThis is something everyone who had to get off the hook because the Auto navy instead of landed ways displays a green meadow.\n",
            "0.3252\tEverybody knows that, he all the time has had to bother him because Auto-Navi displayed a green grass instead of having to circumvent the road.\n",
            "0.3249\tEverybody who previously had to get is aware of this because instead of showing around the road, the Auto-Navi appears to show a green meadow.\n",
            "0.3205\tEverybody knows that, that you have who has already been pre in on them, as the Auto-Navi instead of a by-passing complex indicates that it is a green meadow.\n",
            "0.3190\tAnyone who has had to get excited because AutoNavi instead of a bypass showed a green grass.\n",
            "0.3177\tThis is a common for everyone who had to put himself into the fields of interest, because, instead of driving a bypass, the street-Navi was a green grass floor.\n",
            "0.3167\tEveryone is aware of this, that they have to get excited because visualizing a green meadow instead of a bypass road was the autos-locomotive.\n",
            "0.3147\tThis is very well known to anyone who has had to get excited by the new Auto-NAVi designating a green meadow instead of an bypass road.\n",
            "0.3140\tEveryone who has had to get out of your party a little because the Auto-Navi didn't supply them with a green park rather than a Trek-by-channel.\n",
            "0.3136\tEveryone who had to get on a bike even though it could have done none other than display a green grass instead of using a bypass route.\n",
            "0.3135\tEveryone who had to always learn this is aware of the fact, that Auto-Navi told us that there was a green grass instead of a bypass.\n",
            "0.3121\tEveryone who has been unemployed and had to satisfy everyone is aware because AutoNavi displayed a green meadow instead of bypass.\n",
            "0.3096\tEverybody who has to get out of the car knows that because the Auto-Navi displayed a green meadow rather than a bypass road.\n",
            "0.3093\tSo everyone who has dazzled was familiar with meaning that the Auto-News was showing a green meadow instead of a by-pass.\n",
            "0.3092\tEveryone who has had the possibility to get out of steam since Auto-Nois showed a green field instead of a track that was useless to drive a car.\n",
            "0.3075\tEverybody knows this and has grown too busy since after the Auto @-@Navi did not simply show a green grass instead of a bypass road, by which he made the custom walk.\n",
            "0.3020\tEveryone who has to show his / her spirit is aware of any problems, together with car nanoparticles showing them as green meadows instead of bypass roads.\n",
            "0.3005\tUsers should now notice that the AutoNavi displayed a green meadow instead of a road bypass.\n",
            "0.2996\tEveryone who has already got into trouble due to the Auto-Navi switching from a bypass to a green meadow will know that.\n",
            "0.2987\tEverybody who knows this, was already getting interested about it, because auto-locomotive shown a green meadow instead of going bypass.\n",
            "0.2976\tYou are aware of this, and people who have tried to get to work here may find the car Navanerna shown a green yard instead of a bypass road.\n",
            "0.2945\tEveryone who has to get excited about thatvelyr has figured the Bridge of Tiffany street to be the green plot instead of a bypass.\n",
            "0.2927\tThat's something that everyone who used to have to find out about them because the car \"Nava\" instead of the bycicle came out with a green meadow.\n",
            "0.2917\tEverybody knows that, everybody, who has even had to get exciting because instead of a by-pass no copper snow hearkened away and the green fields are displayed here.\n",
            "0.2910\tYou know this, everyone who has to start with things because this Auto millo indicated a green grass instead of a bypass.\n",
            "0.2860\tEverybody knows that somebody who has tried advertise an old mobility, because the Auto-NAVI has placed a green meadow... on the highway.\n",
            "0.2832\tEveryone who has had to get bothered know this mainly because the Auto-Navy showed a green meadow.\n",
            "0.2831\tEveryone who had to get into off-road, because AutoNavi was at the grass stock instead of a road.\n",
            "0.2793\tPeople need a try and get to know this because the Auto _Navi displayed a green field instead of a bypass.\n",
            "0.2788\tEveryone who has found excitement gotten the idea by showing a green meadow instead of a bypass road.\n",
            "0.2681\tEveryone has seen its way into this cause the Auto @-@Navi displayed a real goat instead of a car painted bypass.\n",
            "0.2670\tPeople know how to do this because the car-specify a green meadow instead of the by-pass route.\n",
            "0.2660\tEverybody knows this in the automobile-navigators as trains let go and should want to walk, whether because the car-locomotive had to drive at the crossing point or not.\n",
            "0.2633\tSomeone who wondered something about that would be distributing a green field instead of where a street bypassed it.\n",
            "0.2617\tThis is something everybody with available experience knows because the AutoNavi left one carrying a route called green back here.\n",
            "0.2610\tThis is something everybody knows about, because the AutoNavi has served as a green meadow out of use.\n",
            "0.2608\tEverybody who could get upset worked up because AutoNavi showed a green field instead of a nearby street.\n",
            "0.2607\tYou already know that you had to spread through the car by showing a green meadow to Daimler-Judge instead of a indicating bypass-path window.\n",
            "0.2591\tWhoever got to know it before, only should be aware that Auto-Navi show a green grass instead of a bypass.\n",
            "0.2558\tEveryone known this is due to the green area brought out by AutoNavi instead of being bypassed by the Thüringer Alm Erlebniswelt.\n",
            "0.2501\tEverybody knows that because the car-nove display a green grass instead of a ring road has been necessary.\n",
            "0.2469\tWe all know this that the Auto-Nav viaduct had to get started HP / Porsche Automobil-Guided Auto Show (grandeur), which did not have to pan the green squares.\n",
            "0.2392\tThose who seem to have forcibly spent time with Auto @-@Navi could know that there is a green meadow rather than a by-pass road.\n",
            "0.2324\tEverybody who had to do anything can call the car giant back could see the red meadow instead of the green few.\n",
            "0.2302\tAll of us who have been obliged to get some excitement, forgetting the location and how we arrived quickly after another bus stop as a result, being quickly turned off the garage.\n",
            "0.2291\tWhoever has been to the point of getting up and running on a CarNavi was quite interested in showing a maze instead of the unrest's stroll.\n",
            "0.2261\t15 minutes of drive comprising cable cars for any distance: Half the time and a half you will have to reload your car slowly, and then manage your next event, which I highly advise you to donate to personnel fee looks as appropriate and quietly as possible.\n",
            "0.2236\tEverybody who once had to get excited did not have a just that, because the track is not noisy it is not boring.\n",
            "0.2231\tSomeone else asked if they had the time of their habits whether to open a golf course around your horse break than know that a safe car home services to be bought has already been found. He was warned: Of course, even a winter moorland doesn't spell off the town with a small fee.\n",
            "0.2226\tYou know, that everyone who had to get out of view or bare close to it by car signalled a green mine.\n",
            "0.2190\tEverybody will be aware of it, that there were so many movements but people they had run should they did not sight a green field.\n",
            "0.2135\tAs a family, I began to relax in the sun and open the car pool. This is a thing that has so often seemed to explain the surrounding world through many scenes: Italians bellowed the spirit out of the fan.\n",
            "0.2128\tMagical strategy and freedom enjoyment on the road. First world champion of which Car Statesman David Kotar said to be the first car to be fired by a deserved 4GB licence.\n",
            "0.2088\tHis guide Mike can not be mean more than 1 foot (although he is perhaps anyway very friendly and no problem with me), but that's art and doesn't mean that I have to settle down and sit at the foot of my own waking machine with me.\n",
            "0.2081\tThis is something everybody who has exchanged with some youngsters knows thanks to the auto spontaneous show they had at their traffic.\n",
            "0.2079\tBlending the Arabi and Islamic multitudes from international standards, motor racing reasons, BMW has released models and new models and search engines for assets in this stormy woodcore.\n",
            "0.2063\tThe other officials considered construction by the rightsist AMD a excellent topic at the 5th Place yesterday, and at some time it got turned off as a fairly straightforward task.\n",
            "0.2024\tEveryone that has felt virus-killing carried a few days of surveillance with the Auto-Navi AKVIS Chameleon plug.\n",
            "0.1989\tJust for me, we family speaks German and took the chance to spend the last months painting memories with animals so they could see a stunning beauty.\n",
            "0.1962\tThere was no problem about this as the auto-locomotives didn't show a green grass anymore.\n",
            "0.1959\tThis is known by ever who had to get out of hand by showing an LED light instead of opening a car nearby.\n",
            "0.1958\tWhilst Bolzano is chief authority in the USA, the president Carlos Cameron is committed to broadcast a film again during the speakering L. Clausi on Fridays at 18.00 (an authorised) Paris Music Day, which will take place in Denver on 08.12.10, 1968.\n",
            "0.1915\tThey are no longer independent fanatics about the radio which does outlived the band's arenas but truncated racehall of the band.\n",
            "0.1850\tNormally you have to be adventurous because there is no direction bypass by car.\n",
            "0.1843\tAll people that'd have had to get into the Trillian and thus spend some time with their PCs, even families / clubs.\n",
            "0.1824\tWhen I uploaded my speck of my mail, I also asked his best friend Gavla for help in getting young. Please go to the e-mail address address below.\n",
            "0.1809\tThe car park doesn't display a green grass.Jut weirdly, we're a very few german girls and forums!\n",
            "0.1808\tDie Präsident Beckler bietet Ihnen mich wieder der praktische Fischer-Ressourcen mit den Einsatzes der Auto-Navi aufweichen.\n",
            "0.1696\tWe are sure nobody knew this, even if it had said a bad night on the map paint a green view.\n",
            "0.1547\tStian's was a popular sight from the record stores centing all your pest comet nees.\n",
            "0.1427\tNo long time ago We forget the Bronze Age boom from the Morning Tunnel to the start of January 2009.\n",
            "0.1345\tEveryone - veteran of the Windows world - knows when he must rock.\n",
            "0.1310\tThe show near the 40500 200 sqm road is used by those hot and cold weather.\n",
            "0.1164\tWörlitz can be seen on the map of the Salzburg National Park by foot.\n",
            "0.1099\tWe never knew this when we knew that the car-nost\n",
            "0.1093\tIt's just a quiet moment we saw something new once again.\n",
            "0.0688\tIs found in the parking garage.\n"
          ]
        }
      ]
    },
    {
      "cell_type": "code",
      "metadata": {
        "id": "1S1zHx1Qajhw"
      },
      "source": [
        ""
      ],
      "execution_count": null,
      "outputs": []
    }
  ]
}