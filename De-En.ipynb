{
 "cells": [
  {
   "cell_type": "markdown",
   "id": "2de84c21",
   "metadata": {},
   "source": [
    "This is a demo of sampling-based minimum Bayes risk decoding for NMT [(Eikema and Aziz, 2020)](https://www.aclweb.org/anthology/2020.coling-main.398/) for educational purposes. For a scalable implementation check [mbr_nmt](https://github.com/Roxot/mbr-nmt) and [(Eikema and Aziz, 2021)](https://arxiv.org/abs/2108.04718)."
   ]
  },
  {
   "cell_type": "code",
   "execution_count": 1,
   "id": "e5496cce",
   "metadata": {},
   "outputs": [],
   "source": [
    "from demo import SampleFromNMT, SampleFromBuffer, Utility, MBR, load_de_en"
   ]
  },
  {
   "cell_type": "markdown",
   "id": "bf863861",
   "metadata": {},
   "source": [
    "Let's start with a quick recap of concepts."
   ]
  },
  {
   "cell_type": "markdown",
   "id": "b3e324e2",
   "metadata": {},
   "source": [
    "# Neural machine translation\n",
    "\n",
    "Given an input $x$, a trained NMT model predicts a conditional distribution $Y|X=x, \\theta$ over all possible translations of $x$. \n",
    "\n",
    "The sample space $\\mathcal Y$ of the model is the set of all sequences of the form $(y_1, \\ldots, y_N)$ where $y_n$ belongs to a vocabulary of known target-language symbols, $N \\ge 1$ is the sequence length, and $y_N$ is a special end-of-sequence (EOS) symbol.\n",
    "\n",
    "An outcome $y \\in \\mathcal Y$ is assigned probability mass:\n",
    "\n",
    "\\begin{align}\n",
    "P_{Y|X}(y|x,\\theta) &= \\prod_{n=1}^{N} \\mathrm{Cat}(y_n|f(x, y_{<n}; \\theta))\n",
    "\\end{align}\n",
    "\n",
    "where $y_{<n}$ is the sequence of tokens before the $n$th token, and $f(\\cdot; \\theta)$ is a neural network architecture with parameters $\\theta$.\n"
   ]
  },
  {
   "cell_type": "markdown",
   "id": "bc22ab1d",
   "metadata": {},
   "source": [
    "# Maximum-a-posterior decoding \n",
    "\n",
    "MAP decoding picks the most probable translation.\n",
    "\\begin{align}\n",
    "y^{\\mathrm{mode}} &= \\arg\\max_{h \\in \\mathcal Y} ~ P_{Y|X}(h|x, \\theta)\n",
    "\\end{align}\n",
    "\n",
    "As the space $\\mathcal Y$ is unbounded and the NMT model makes no Markov assumptions, this search is intractable. In practice, we approximate the decision rule searching through a beam of probable translations. \n",
    "\n",
    "\\begin{align}\n",
    "y^{\\mathrm{beam}} &= \\arg\\max_{h \\in \\mathrm{beam}(x)} ~  P_{Y|X}(h|x, \\theta)\n",
    "\\end{align}"
   ]
  },
  {
   "cell_type": "markdown",
   "id": "07448d52",
   "metadata": {},
   "source": [
    "# Minimum Bayes risk decoding\n",
    "\n",
    "MBR decoding picks the translation that has highest expected utility:\n",
    "\n",
    "\\begin{align}\n",
    "y^{\\text{mbr}} &= \\arg\\max_{h \\in \\mathcal Y} ~ \\mathbb E[u(Y, h; x)|x, \\theta] \\\\\n",
    "&= \\arg\\max_{h \\in \\mathcal Y} ~ \\sum_{y \\in \\mathcal Y} u(y, h; x) P_{Y|X}(y|x, \\theta)\n",
    "\\end{align}\n",
    "\n",
    "where a utility function $u(y, h; x)$ quantifies the benefit of choosing $h$ as the translation of $x$, when $y$ is the correct (or preferred) translation.\n",
    "\n",
    "There are two sources of intractability in MBR decoding. First,  just like in MAP decoding, the search space (i.e., the sample space $\\mathcal Y$) is unbounded. Second, for any given candidate translation $h$, the expected utility $\\mathbb E[u(Y, h; x)|x, \\theta]$ is intractable to compute. \n",
    "\n",
    "[Eikema and Aziz (2020)](https://www.aclweb.org/anthology/2020.coling-main.398/) propose to  \n",
    "\n",
    "1. approximate the hypothesis space by a tractable subset of hypotheses $\\mathcal H(x)$ obtained by sampling from the model;\n",
    "2. approximate the expected value using Monte Carlo (MC).\n",
    "\n",
    "The decision rule becomes\n",
    "\n",
    "\\begin{align}\n",
    "y^{\\text{smbr}} &= \\arg\\max_{h \\in \\mathcal H(x)} ~ \\frac{1}{S} \\sum_{s=1}^S u(y^{(s)}, h; x)\n",
    "\\end{align}\n",
    "\n",
    "where $y^{(s)} \\sim Y|X=x, \\theta$ is a sample from the NMT model (samples can be drawn efficiently via ancestral sampling).\n",
    "\n",
    "For much more on sampling-based MBR see also [Eikema and Aziz (2021)](https://arxiv.org/abs/2108.04718)."
   ]
  },
  {
   "cell_type": "markdown",
   "id": "9217960f",
   "metadata": {},
   "source": [
    "# Load pre-trained models "
   ]
  },
  {
   "cell_type": "markdown",
   "id": "d451e1de",
   "metadata": {},
   "source": [
    "Load pre-processing pipelines and fairseq models. This will take a moment.\n",
    "\n",
    "Make sure you've downloaded the models (run `bash download-data.sh`)."
   ]
  },
  {
   "cell_type": "code",
   "execution_count": 2,
   "id": "d825ba72",
   "metadata": {},
   "outputs": [],
   "source": [
    "models = load_de_en(np_seed=10, torch_seed=10)"
   ]
  },
  {
   "cell_type": "markdown",
   "id": "258df7e9",
   "metadata": {},
   "source": [
    "Here, `x` is German and `y` is English."
   ]
  },
  {
   "cell_type": "code",
   "execution_count": 3,
   "id": "b99b0ed8",
   "metadata": {},
   "outputs": [],
   "source": [
    "example_x = 'Es war noch nie leicht, ein rationales Gespräch über den Wert von Gold zu führen.'\n",
    "example_y = 'It has never been easy to have a rational conversation about the value of gold.'"
   ]
  },
  {
   "cell_type": "code",
   "execution_count": 4,
   "id": "0a15a0ec",
   "metadata": {},
   "outputs": [
    {
     "data": {
      "text/plain": [
       "'Es war noch nie leicht, ein rationales Gespräch über den Wert von Gold zu führen.'"
      ]
     },
     "execution_count": 4,
     "metadata": {},
     "output_type": "execute_result"
    }
   ],
   "source": [
    "models.pipeline_x.decode(models.pipeline_x.encode(example_x))"
   ]
  },
  {
   "cell_type": "code",
   "execution_count": 5,
   "id": "f407f1ef",
   "metadata": {},
   "outputs": [
    {
     "data": {
      "text/plain": [
       "'It has never been easy to have a rational conversation about the value of gold.'"
      ]
     },
     "execution_count": 5,
     "metadata": {},
     "output_type": "execute_result"
    }
   ],
   "source": [
    "models.pipeline_y.decode(models.pipeline_y.encode(example_y))"
   ]
  },
  {
   "cell_type": "markdown",
   "id": "69794935",
   "metadata": {},
   "source": [
    "# Demo\n",
    "\n",
    "\n",
    "## Approximate MAP decoding"
   ]
  },
  {
   "cell_type": "code",
   "execution_count": 6,
   "id": "b6ea9a55",
   "metadata": {},
   "outputs": [
    {
     "data": {
      "text/plain": [
       "'It has never been easy to talk rationally about the value of gold.'"
      ]
     },
     "execution_count": 6,
     "metadata": {},
     "output_type": "execute_result"
    }
   ],
   "source": [
    "models.x2y.beam_search(example_x)['output'][0]"
   ]
  },
  {
   "cell_type": "markdown",
   "id": "19222a78",
   "metadata": {},
   "source": [
    "## Approximate MBR decoding\n",
    "\n",
    "Let's start by creating a hypothesis space. For example, we can use the unique translations found in a large sample. "
   ]
  },
  {
   "cell_type": "code",
   "execution_count": 7,
   "id": "93b6a427",
   "metadata": {
    "scrolled": false
   },
   "outputs": [
    {
     "data": {
      "text/plain": [
       "84"
      ]
     },
     "execution_count": 7,
     "metadata": {},
     "output_type": "execute_result"
    }
   ],
   "source": [
    "hyp_space = list(set(models.x2y.ancestral_sampling(example_x, num_samples=100)['output']))\n",
    "len(hyp_space)"
   ]
  },
  {
   "cell_type": "markdown",
   "id": "c67e829c",
   "metadata": {},
   "source": [
    "As source sentences get longer or away from the training domain, it's common to find very few duplicates in samples from NMT. Note that duplicates in the hypothesis space do not affect the results, they only waste some computation, that's why we keep only the unique translations. "
   ]
  },
  {
   "cell_type": "markdown",
   "id": "329829a4",
   "metadata": {},
   "source": [
    "Now we need to choose a utility function. In this demo we will assign utility based on ChrF."
   ]
  },
  {
   "cell_type": "code",
   "execution_count": 8,
   "id": "83c5375c",
   "metadata": {},
   "outputs": [],
   "source": [
    "from sacrebleu import sentence_chrf"
   ]
  },
  {
   "cell_type": "code",
   "execution_count": 9,
   "id": "9f2e01ad",
   "metadata": {},
   "outputs": [],
   "source": [
    "class ChrF(Utility):\n",
    "    \n",
    "    def __call__(self, src: str, ref: str, hyp: str) -> float:\n",
    "        return sentence_chrf(hyp, ref).score  # note that chrf does not make use of the source sentence\n",
    "\n",
    "chrf = ChrF()    "
   ]
  },
  {
   "cell_type": "code",
   "execution_count": 10,
   "id": "18194637",
   "metadata": {},
   "outputs": [
    {
     "data": {
      "text/plain": [
       "0.23120690266113889"
      ]
     },
     "execution_count": 10,
     "metadata": {},
     "output_type": "execute_result"
    }
   ],
   "source": [
    "chrf('This is cool!', 'Das ist cool!', 'Cool!')"
   ]
  },
  {
   "cell_type": "markdown",
   "id": "0bd7f9a9",
   "metadata": {},
   "source": [
    "MBR decoding requires approximating the expected utility of each candidate in the hypothesis space, the mechanism of choice is MC estimation. Thus, MBR decoding requires access to samples from the model. \n",
    "\n",
    "Ideally, for each hypothesis, we would draw samples completely independently:"
   ]
  },
  {
   "cell_type": "code",
   "execution_count": 11,
   "id": "d032a438",
   "metadata": {},
   "outputs": [],
   "source": [
    "nmt_sampler = SampleFromNMT(models.x2y, sample_size=30)"
   ]
  },
  {
   "cell_type": "code",
   "execution_count": 12,
   "id": "8d0e4b3f",
   "metadata": {},
   "outputs": [
    {
     "data": {
      "text/plain": [
       "['It has never been easy to talk rationally about the value of gold.',\n",
       " 'It has never been easy to talk rationally about the value of gold.',\n",
       " 'It has never been easy to discuss the value of gold rationally.',\n",
       " 'It has never been easy to hold a rational conversation about the value of gold.',\n",
       " \"It has never been easy to engage in a rational conversation about gold's value.\",\n",
       " 'It was never easy to have a rational conversation about the value of gold.',\n",
       " 'It was never easy to talk rationally about the value of gold.',\n",
       " 'It has never been easy to discuss the value of gold in a rational manner.',\n",
       " 'It has never been easy to engage rationally in a conversation about the value of gold.',\n",
       " \"It has never been easy to have a rational conversation on gold's value.\",\n",
       " 'It has never been easy to enter a rational conversation about the value of gold.',\n",
       " 'It has never been easy to enter into a rational conversation on the value of gold.',\n",
       " 'It has never been simple to talk rationally about the value of gold.',\n",
       " 'It has never been easy to engage in rational talking about the value of gold.',\n",
       " \"It has never been easy to have a rational conversation over gold's value.\",\n",
       " 'There has never been an easy time having a rational conversation about the value of gold.',\n",
       " 'It has never been easy to have any rational discussion on the value of gold.',\n",
       " 'It has never been easy discussing the value of gold rationally.',\n",
       " \"It has never been easy to generate a rational discussion of gold's value.\",\n",
       " \"It has never been easy to produce a rational argument about gold's value.\",\n",
       " 'It was never easy to be rationalistic about the value of gold.',\n",
       " \"Rational consideration of gold's value has never been easy.\",\n",
       " 'It was never easy to negotiate rationally on gold values.',\n",
       " \"They have never been easy to talk rationally about the company's value.\",\n",
       " 'Trading with gold has never been easy.',\n",
       " 'Discussion of the sum of gold on budget has never been easy.',\n",
       " 'Choosing gold like its value has never been easy.',\n",
       " 'It has never been worth remembering rationally about what gold represents.',\n",
       " 'Granting the gold value a Rational Talkship Zylinder is never as easy as avoiding an Inaccurate Job.',\n",
       " 'Knowing how you grasp the prospect of a conclusion - mind to be quiet - is crucial for us today.']"
      ]
     },
     "execution_count": 12,
     "metadata": {},
     "output_type": "execute_result"
    }
   ],
   "source": [
    "nmt_sampler(example_x)"
   ]
  },
  {
   "cell_type": "markdown",
   "id": "ffa40a57",
   "metadata": {},
   "source": [
    "Depending on the size of your sample space, this will quickly become too costly. A good alternative is to obtain a large collection of samples (e.g., 100 to 1000) and draw samples with replacement from this collection:"
   ]
  },
  {
   "cell_type": "code",
   "execution_count": 13,
   "id": "4ce07d40",
   "metadata": {},
   "outputs": [],
   "source": [
    "buffered_sampler = SampleFromBuffer(\n",
    "    {example_x: models.x2y.ancestral_sampling(example_x, num_samples=100)['output']}, \n",
    "    sample_size=30\n",
    ")"
   ]
  },
  {
   "cell_type": "code",
   "execution_count": 14,
   "id": "a04cbfd7",
   "metadata": {},
   "outputs": [
    {
     "data": {
      "text/plain": [
       "['It has never been easy to engage in a rational conversation on the value of gold.',\n",
       " \"It has never been easy to listen rationally to gold's value.\",\n",
       " 'It has never been easy to achieve a rational conversation on the value of gold.',\n",
       " \"It's never been easy to make rational talks about the value of gold.\",\n",
       " 'It has never been easy to have a rational conversation about the value of gold.',\n",
       " \"It has never been easy to have a rational discussion about gold's value.\",\n",
       " 'It is never easy to make rational conversations about the value of gold.',\n",
       " 'It has never been easy to talk rationally about gold.',\n",
       " 'It has never before been easy to discuss the value of gold rationally.',\n",
       " \"It has never been easy to call a rational conversation about one's gold value.\",\n",
       " 'It has never been easy to have a rational conversation about what gold should do as its value does.',\n",
       " 'It has never been easy to get the real money looking at the value of gold.',\n",
       " \"Keeping a rational posting about gold's value ourselves has never been easy.\",\n",
       " 'A rational conversation about the value of gold has never been easy.',\n",
       " 'It was never easy to negotiate rationally about the value of gold.',\n",
       " 'It has never been easy to talk rationally about the value of gold.',\n",
       " 'It has never been easy to speak rationally about the value of gold.',\n",
       " 'It has never been easy to discuss the value of gold in a rational way.',\n",
       " 'It has never been easy to engage rationally with talk about the value of gold.',\n",
       " 'Discussing the value of gold has never been easy.',\n",
       " 'It has never been easy to have a rational dialogue about the value of gold.',\n",
       " 'It has never been easy to engage in rational dialog communication about the value of gold.',\n",
       " \"It had never been easy to conduct a rational conversation about gold's value.\",\n",
       " 'It has never been easy to talk, rationally speaking, about the value of gold.',\n",
       " 'It has never been easy to achieve a rational conversation on the value of gold.',\n",
       " 'It has never been difficult to face rationality about the value of gold.',\n",
       " 'It has never been easy to engage in a rational discussion of the value of gold.',\n",
       " 'It has never been easy to have a rational conversation on the value of gold.',\n",
       " 'It has never been easy to achieve a rational conversation on the value of gold.',\n",
       " \"It has never been easy to listen rationally to gold's value.\"]"
      ]
     },
     "execution_count": 14,
     "metadata": {},
     "output_type": "execute_result"
    }
   ],
   "source": [
    "buffered_sampler(example_x)"
   ]
  },
  {
   "cell_type": "markdown",
   "id": "4b96371e",
   "metadata": {},
   "source": [
    "Next, we estimate expected utilities and rank our candidates."
   ]
  },
  {
   "cell_type": "code",
   "execution_count": 19,
   "id": "00d99a71",
   "metadata": {},
   "outputs": [],
   "source": [
    "mbr = MBR(chrf, buffered_sampler)  # This version of MBR is what Eikema and Aziz (2021) call MBR N-by-S"
   ]
  },
  {
   "cell_type": "code",
   "execution_count": 16,
   "id": "938faa7b",
   "metadata": {},
   "outputs": [
    {
     "data": {
      "text/plain": [
       "'It has never been easy to enter a rational conversation about the value of gold.'"
      ]
     },
     "execution_count": 16,
     "metadata": {},
     "output_type": "execute_result"
    }
   ],
   "source": [
    "y_mbr = mbr.decode(example_x, hyp_space)\n",
    "y_mbr"
   ]
  },
  {
   "cell_type": "code",
   "execution_count": 17,
   "id": "1fb9ac53",
   "metadata": {},
   "outputs": [
    {
     "data": {
      "text/plain": [
       "0.6481923913355545"
      ]
     },
     "execution_count": 17,
     "metadata": {},
     "output_type": "execute_result"
    }
   ],
   "source": [
    "mbr.mu(example_x, y_mbr)"
   ]
  },
  {
   "cell_type": "markdown",
   "id": "cd406225",
   "metadata": {},
   "source": [
    "You can also use inspect the expected utility of all candidates (note that estimates of expected utility are random variables, thus some variability across runs is expected, esp for small sample sizes):"
   ]
  },
  {
   "cell_type": "code",
   "execution_count": 18,
   "id": "a54737e1",
   "metadata": {},
   "outputs": [
    {
     "name": "stdout",
     "output_type": "stream",
     "text": [
      "0.7114\tIt has never been easy to have a rational conversation about the value of gold.\n",
      "0.7041\tIt has never been easy to hold a rational conversation about the value of gold.\n",
      "0.7001\tIt has never been easy to enter a rational conversation about the value of gold.\n",
      "0.6938\tIt has never been easy to engage in a rational conversation about the value of gold.\n",
      "0.6689\tIt has never been easy to negotiate a rational conversation about the value of gold.\n",
      "0.6675\tIt has never been easy to make a rational discussion about the value of gold.\n",
      "0.6650\tIt has never been easy to carry out rational conversation about the value of gold.\n",
      "0.6622\tIt has never been easy to have a rational conversation about gold's value.\n",
      "0.6600\tIt has never been easy to engage in a rational exchange about the value of gold.\n",
      "0.6528\tIt has never been easy to have a rational conversation on the value of gold previously.\n",
      "0.6458\tIt has never been easy to talk rationally about the value of gold.\n",
      "0.6445\tIt has never been easy to make a rational conversation about the value of gold.\n",
      "0.6439\tIt has never been easy to engage in rational talk about the value of gold.\n",
      "0.6398\tIt has never been easy to talk about the value of gold rationally.\n",
      "0.6356\tIt has never been easy to engage in rational conversations about the value of gold.\n",
      "0.6343\tIt has never been easy to conduct a rational discussion about the value of gold.\n",
      "0.6255\tIt has never been easy to proceed with a rational conversation about the value of gold.\n",
      "0.6208\tGetting a rational conversation about the value of gold has never been easy.\n",
      "0.6198\tIt has never been easy to do rational talk about the value of gold.\n",
      "0.6122\tRaising a rational conversation about the value of gold has never been easy.\n",
      "0.6037\tIt has never been easy to engage in rational conversation about gold's value.\n",
      "0.6031\tIt has never been easy to discuss the value of gold rationally.\n",
      "0.5951\tIt has never been easy to involve a rational conversation on the value of gold.\n",
      "0.5888\tIt has never been easy to talk proportionally about the value of gold.\n",
      "0.5884\tIt has never been easy to hold a rational conversation on gold's value.\n",
      "0.5873\tYou have never been easy to start a rational discussion about the value of gold.\n",
      "0.5872\tIt has never been easy to discuss the value of gold interactively.\n",
      "0.5820\tIt has never been easy to discuss the value of gold head-on with rationality.\n",
      "0.5794\tIt has never been easy to entertain rational talk about the value of gold ever.\n",
      "0.5786\tIt has never been easy to discuss the value of gold in a rational way.\n",
      "0.5727\tIt was never easy to conduct a rational conversation about the value of gold.\n",
      "0.5684\tIt has never been easy to initiate a rational dialogue of the value of gold.\n",
      "0.5669\tHaving a rational conversation about the value of gold has never been easy.\n",
      "0.5659\tIt has never been easy to make a coherent conversation on the value of gold.\n",
      "0.5601\tIt has never been easy to make a rational conversation about gold.\n",
      "0.5594\tIt's never been easy to establish a rational exchange of views about the value of gold.\n",
      "0.5571\tIt has never been easier to discuss the value of gold in rational terms.\n",
      "0.5551\tIt was never easy to have a rational discussion about the value of gold.\n",
      "0.5507\tIt has never been easy to discuss and negotiate properly the value of gold.\n",
      "0.5505\tIt has never been easy to engage in rational talk about gold's value.\n",
      "0.5488\tHaving a rational exchange about the value of gold has never been easy.\n",
      "0.5463\tIt has never been easy to discuss the value of gold efficiently.\n",
      "0.5434\tIt has never been easy to engage in rational discussion about gold's worth.\n",
      "0.5400\tIt has never been easy to hold rational conversations about gold's value.\n",
      "0.5398\tIt has never been easy to get a rational conversation about Gold's worth.\n",
      "0.5397\tThe rational conversation of gold value has never been easy.\n",
      "0.5330\tThe solution has never been easy to achieve rational discussion of gold's value.\n",
      "0.5292\tRaising a rational conversation about gold's value has never been easy.\n",
      "0.5227\tIt has never been easy to actually talk about the value of gold.\n",
      "0.5220\tIt has not been easy to hold a rational discussion about the value of gold.\n",
      "0.5168\tIt has never been simple to talk rationally about the value of gold.\n",
      "0.5160\tAny rational conversation about gold value has never been easy.\n",
      "0.5082\tIt has never been easy to talk rationally about Gold's value.\n",
      "0.5008\tA rational price conversation about gold has never been easy.\n",
      "0.4999\tIt was never easy to talk rationally about the value of gold.\n",
      "0.4988\tRaising a rational conversation on the value of gold was never easy.\n",
      "0.4982\t\"It has never been easy for a rational discussion on gold's value to be undertaken.\n",
      "0.4905\tEconomically speaking, it has never always been easy to talk about the value of gold.\n",
      "0.4900\tIt has never been readily possible to anchor a rational discussion about gold's value.\n",
      "0.4882\tIt has never been much easier to talk rationally about gold in value.\n",
      "0.4863\tIt has never been easy to know about gold as a country to talk about rational wise terms.\n",
      "0.4849\tIt has never been easy to calculate the value of gold.\n",
      "0.4743\tIt have never been easy to talk on a rational basis about how value should be abundantly gold.\n",
      "0.4680\tIt has never been easy to engage in rational exchange on gold.\n",
      "0.4582\tThe price of gold has never been easy to ask amidst rational talk.\n",
      "0.4560\tThere has never been an easy time discussing the value of gold.\n",
      "0.4546\tDiscussion about the value of gold has never been easy.\n",
      "0.4467\tIt has never been easier to trump the value of gold.\n",
      "0.4377\tIt has never been easy to return to the subject of gold as one rational matter.\n",
      "0.4211\tTo talk rationally about gold has never been easy.\n",
      "0.4080\tIt was never easy to talk rationally about gold's value.\n",
      "0.4065\tNo rational talk about the value of gold ever seemed easy.\n",
      "0.3976\tIt has not been easy to discuss the value of gold with one voice.\n",
      "0.3874\tA rational discussion of gold's value was never easy.\n",
      "0.3764\tTalk about gold value has never been easy.\n",
      "0.3624\tMore than ever, the rational example of the value of gold was uncomplicated.\n",
      "0.3595\tIt never was easy to pursue a rational debate about gold values.\n",
      "0.3498\tIt was never a straightforward discussion of the value of gold.\n",
      "0.3461\tIt was never easy to consider Nielsen's values rationally.\n",
      "0.3257\tYou never have a way to talk rationally about gold's value.\n",
      "0.1999\tTrue enough nobody has ever known about gold.\n",
      "0.1947\tTo achieve what, far from being warranted, we must fail to sort out what the taxpayers think with capital penalties.\n",
      "0.1618\tEncouraging their choices was the result of an interrogation of money before, confusing the mathematical-plowing combines of the Ayurvedic work with the financial somethinglectionism of ancient estates and natural intellectual and intellectual property. O'Tébailes was appointed the first teacher, Professor, and President in Architecture, to approach the financial crisis with an argument about economics, economics, and economy.\n",
      "0.1421\tIt took no time to deal sensibly with gold well.\n"
     ]
    }
   ],
   "source": [
    "for h, mu in sorted(zip(hyp_space, mbr.mus(example_x, hyp_space)), key=lambda pair: pair[1], reverse=True):\n",
    "    print(f\"{mu:.4f}\\t{h}\")"
   ]
  },
  {
   "cell_type": "markdown",
   "id": "266a7db5",
   "metadata": {},
   "source": []
  }
 ],
 "metadata": {
  "kernelspec": {
   "display_name": "Python 3 (ipykernel)",
   "language": "python",
   "name": "python3"
  },
  "language_info": {
   "codemirror_mode": {
    "name": "ipython",
    "version": 3
   },
   "file_extension": ".py",
   "mimetype": "text/x-python",
   "name": "python",
   "nbconvert_exporter": "python",
   "pygments_lexer": "ipython3",
   "version": "3.7.9"
  }
 },
 "nbformat": 4,
 "nbformat_minor": 5
}
